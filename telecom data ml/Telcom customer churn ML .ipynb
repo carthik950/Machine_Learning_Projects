{
 "cells": [
  {
   "cell_type": "markdown",
   "id": "e3acb8fe-8f6d-44ab-b21b-fbf6d791c11b",
   "metadata": {},
   "source": [
    "# About Dataset"
   ]
  },
  {
   "cell_type": "markdown",
   "id": "91ae1c9d-822c-4014-8852-6f90ada89d0e",
   "metadata": {},
   "source": [
    "# Supervised Learning Capstone Project (Telcom Customer Churn)"
   ]
  },
  {
   "cell_type": "markdown",
   "id": "2503e7f0-d657-44a9-b75f-520523e1e357",
   "metadata": {},
   "source": [
    "# Context"
   ]
  },
  {
   "cell_type": "markdown",
   "id": "c4c51f92-e4d4-4ede-b450-36cb56d8092f",
   "metadata": {},
   "source": [
    "# \"Predict behavior to retain customers. You can analyze all relevant customer data and develop focused customer retention programs."
   ]
  },
  {
   "cell_type": "markdown",
   "id": "2bade4c5-ef62-445f-b687-deb48d1ed062",
   "metadata": {},
   "source": [
    "# About this file\n",
    "# Telcom Customer Churn\n",
    "\n",
    "# Each row represents a customer, each column contains customer’s attributes described on the column Metadata.\n",
    "\n",
    "# The raw data contains 7032 rows (customers) and 21 columns (features).\n",
    "\n",
    "# The “Churn” column is our target."
   ]
  },
  {
   "cell_type": "markdown",
   "id": "f175ac57-ab95-4d9c-991d-736be395edef",
   "metadata": {},
   "source": [
    "## GOAL: Create a model to predict whether or not a customer will Churn."
   ]
  },
  {
   "cell_type": "code",
   "execution_count": 161,
   "id": "3cf3cf4b-c4cb-41f1-b934-a8d84a45c810",
   "metadata": {},
   "outputs": [],
   "source": [
    "import pandas as pd\n",
    "import numpy as np\n",
    "import matplotlib.pyplot as plt\n",
    "import seaborn as sns"
   ]
  },
  {
   "cell_type": "code",
   "execution_count": 162,
   "id": "63be333b-f789-4e79-ae4b-f6d275ab6ebd",
   "metadata": {},
   "outputs": [],
   "source": [
    "df = pd.read_csv('telecom data ml/31389400-Telco-Customer-Churn.csv')"
   ]
  },
  {
   "cell_type": "code",
   "execution_count": 163,
   "id": "41f016c1-16fd-4a97-82e7-81b397d76859",
   "metadata": {},
   "outputs": [
    {
     "data": {
      "text/html": [
       "<div>\n",
       "<style scoped>\n",
       "    .dataframe tbody tr th:only-of-type {\n",
       "        vertical-align: middle;\n",
       "    }\n",
       "\n",
       "    .dataframe tbody tr th {\n",
       "        vertical-align: top;\n",
       "    }\n",
       "\n",
       "    .dataframe thead th {\n",
       "        text-align: right;\n",
       "    }\n",
       "</style>\n",
       "<table border=\"1\" class=\"dataframe\">\n",
       "  <thead>\n",
       "    <tr style=\"text-align: right;\">\n",
       "      <th></th>\n",
       "      <th>customerID</th>\n",
       "      <th>gender</th>\n",
       "      <th>SeniorCitizen</th>\n",
       "      <th>Partner</th>\n",
       "      <th>Dependents</th>\n",
       "      <th>tenure</th>\n",
       "      <th>PhoneService</th>\n",
       "      <th>MultipleLines</th>\n",
       "      <th>InternetService</th>\n",
       "      <th>OnlineSecurity</th>\n",
       "      <th>...</th>\n",
       "      <th>DeviceProtection</th>\n",
       "      <th>TechSupport</th>\n",
       "      <th>StreamingTV</th>\n",
       "      <th>StreamingMovies</th>\n",
       "      <th>Contract</th>\n",
       "      <th>PaperlessBilling</th>\n",
       "      <th>PaymentMethod</th>\n",
       "      <th>MonthlyCharges</th>\n",
       "      <th>TotalCharges</th>\n",
       "      <th>Churn</th>\n",
       "    </tr>\n",
       "  </thead>\n",
       "  <tbody>\n",
       "    <tr>\n",
       "      <th>0</th>\n",
       "      <td>7590-VHVEG</td>\n",
       "      <td>Female</td>\n",
       "      <td>0</td>\n",
       "      <td>Yes</td>\n",
       "      <td>No</td>\n",
       "      <td>1</td>\n",
       "      <td>No</td>\n",
       "      <td>No phone service</td>\n",
       "      <td>DSL</td>\n",
       "      <td>No</td>\n",
       "      <td>...</td>\n",
       "      <td>No</td>\n",
       "      <td>No</td>\n",
       "      <td>No</td>\n",
       "      <td>No</td>\n",
       "      <td>Month-to-month</td>\n",
       "      <td>Yes</td>\n",
       "      <td>Electronic check</td>\n",
       "      <td>29.85</td>\n",
       "      <td>29.85</td>\n",
       "      <td>No</td>\n",
       "    </tr>\n",
       "    <tr>\n",
       "      <th>1</th>\n",
       "      <td>5575-GNVDE</td>\n",
       "      <td>Male</td>\n",
       "      <td>0</td>\n",
       "      <td>No</td>\n",
       "      <td>No</td>\n",
       "      <td>34</td>\n",
       "      <td>Yes</td>\n",
       "      <td>No</td>\n",
       "      <td>DSL</td>\n",
       "      <td>Yes</td>\n",
       "      <td>...</td>\n",
       "      <td>Yes</td>\n",
       "      <td>No</td>\n",
       "      <td>No</td>\n",
       "      <td>No</td>\n",
       "      <td>One year</td>\n",
       "      <td>No</td>\n",
       "      <td>Mailed check</td>\n",
       "      <td>56.95</td>\n",
       "      <td>1889.50</td>\n",
       "      <td>No</td>\n",
       "    </tr>\n",
       "    <tr>\n",
       "      <th>2</th>\n",
       "      <td>3668-QPYBK</td>\n",
       "      <td>Male</td>\n",
       "      <td>0</td>\n",
       "      <td>No</td>\n",
       "      <td>No</td>\n",
       "      <td>2</td>\n",
       "      <td>Yes</td>\n",
       "      <td>No</td>\n",
       "      <td>DSL</td>\n",
       "      <td>Yes</td>\n",
       "      <td>...</td>\n",
       "      <td>No</td>\n",
       "      <td>No</td>\n",
       "      <td>No</td>\n",
       "      <td>No</td>\n",
       "      <td>Month-to-month</td>\n",
       "      <td>Yes</td>\n",
       "      <td>Mailed check</td>\n",
       "      <td>53.85</td>\n",
       "      <td>108.15</td>\n",
       "      <td>Yes</td>\n",
       "    </tr>\n",
       "    <tr>\n",
       "      <th>3</th>\n",
       "      <td>7795-CFOCW</td>\n",
       "      <td>Male</td>\n",
       "      <td>0</td>\n",
       "      <td>No</td>\n",
       "      <td>No</td>\n",
       "      <td>45</td>\n",
       "      <td>No</td>\n",
       "      <td>No phone service</td>\n",
       "      <td>DSL</td>\n",
       "      <td>Yes</td>\n",
       "      <td>...</td>\n",
       "      <td>Yes</td>\n",
       "      <td>Yes</td>\n",
       "      <td>No</td>\n",
       "      <td>No</td>\n",
       "      <td>One year</td>\n",
       "      <td>No</td>\n",
       "      <td>Bank transfer (automatic)</td>\n",
       "      <td>42.30</td>\n",
       "      <td>1840.75</td>\n",
       "      <td>No</td>\n",
       "    </tr>\n",
       "    <tr>\n",
       "      <th>4</th>\n",
       "      <td>9237-HQITU</td>\n",
       "      <td>Female</td>\n",
       "      <td>0</td>\n",
       "      <td>No</td>\n",
       "      <td>No</td>\n",
       "      <td>2</td>\n",
       "      <td>Yes</td>\n",
       "      <td>No</td>\n",
       "      <td>Fiber optic</td>\n",
       "      <td>No</td>\n",
       "      <td>...</td>\n",
       "      <td>No</td>\n",
       "      <td>No</td>\n",
       "      <td>No</td>\n",
       "      <td>No</td>\n",
       "      <td>Month-to-month</td>\n",
       "      <td>Yes</td>\n",
       "      <td>Electronic check</td>\n",
       "      <td>70.70</td>\n",
       "      <td>151.65</td>\n",
       "      <td>Yes</td>\n",
       "    </tr>\n",
       "  </tbody>\n",
       "</table>\n",
       "<p>5 rows × 21 columns</p>\n",
       "</div>"
      ],
      "text/plain": [
       "   customerID  gender  SeniorCitizen Partner Dependents  tenure PhoneService  \\\n",
       "0  7590-VHVEG  Female              0     Yes         No       1           No   \n",
       "1  5575-GNVDE    Male              0      No         No      34          Yes   \n",
       "2  3668-QPYBK    Male              0      No         No       2          Yes   \n",
       "3  7795-CFOCW    Male              0      No         No      45           No   \n",
       "4  9237-HQITU  Female              0      No         No       2          Yes   \n",
       "\n",
       "      MultipleLines InternetService OnlineSecurity  ... DeviceProtection  \\\n",
       "0  No phone service             DSL             No  ...               No   \n",
       "1                No             DSL            Yes  ...              Yes   \n",
       "2                No             DSL            Yes  ...               No   \n",
       "3  No phone service             DSL            Yes  ...              Yes   \n",
       "4                No     Fiber optic             No  ...               No   \n",
       "\n",
       "  TechSupport StreamingTV StreamingMovies        Contract PaperlessBilling  \\\n",
       "0          No          No              No  Month-to-month              Yes   \n",
       "1          No          No              No        One year               No   \n",
       "2          No          No              No  Month-to-month              Yes   \n",
       "3         Yes          No              No        One year               No   \n",
       "4          No          No              No  Month-to-month              Yes   \n",
       "\n",
       "               PaymentMethod MonthlyCharges  TotalCharges  Churn  \n",
       "0           Electronic check          29.85         29.85     No  \n",
       "1               Mailed check          56.95       1889.50     No  \n",
       "2               Mailed check          53.85        108.15    Yes  \n",
       "3  Bank transfer (automatic)          42.30       1840.75     No  \n",
       "4           Electronic check          70.70        151.65    Yes  \n",
       "\n",
       "[5 rows x 21 columns]"
      ]
     },
     "execution_count": 163,
     "metadata": {},
     "output_type": "execute_result"
    }
   ],
   "source": [
    "df.head()"
   ]
  },
  {
   "cell_type": "code",
   "execution_count": 164,
   "id": "0c53e9b0-ffb1-4a0b-b539-8cefde68b9b2",
   "metadata": {},
   "outputs": [
    {
     "name": "stdout",
     "output_type": "stream",
     "text": [
      "<class 'pandas.core.frame.DataFrame'>\n",
      "RangeIndex: 7032 entries, 0 to 7031\n",
      "Data columns (total 21 columns):\n",
      " #   Column            Non-Null Count  Dtype  \n",
      "---  ------            --------------  -----  \n",
      " 0   customerID        7032 non-null   object \n",
      " 1   gender            7032 non-null   object \n",
      " 2   SeniorCitizen     7032 non-null   int64  \n",
      " 3   Partner           7032 non-null   object \n",
      " 4   Dependents        7032 non-null   object \n",
      " 5   tenure            7032 non-null   int64  \n",
      " 6   PhoneService      7032 non-null   object \n",
      " 7   MultipleLines     7032 non-null   object \n",
      " 8   InternetService   7032 non-null   object \n",
      " 9   OnlineSecurity    7032 non-null   object \n",
      " 10  OnlineBackup      7032 non-null   object \n",
      " 11  DeviceProtection  7032 non-null   object \n",
      " 12  TechSupport       7032 non-null   object \n",
      " 13  StreamingTV       7032 non-null   object \n",
      " 14  StreamingMovies   7032 non-null   object \n",
      " 15  Contract          7032 non-null   object \n",
      " 16  PaperlessBilling  7032 non-null   object \n",
      " 17  PaymentMethod     7032 non-null   object \n",
      " 18  MonthlyCharges    7032 non-null   float64\n",
      " 19  TotalCharges      7032 non-null   float64\n",
      " 20  Churn             7032 non-null   object \n",
      "dtypes: float64(2), int64(2), object(17)\n",
      "memory usage: 1.1+ MB\n"
     ]
    }
   ],
   "source": [
    "df.info()"
   ]
  },
  {
   "cell_type": "code",
   "execution_count": 168,
   "id": "77649844-12c9-4a65-94a1-dddaaba895e6",
   "metadata": {},
   "outputs": [],
   "source": [
    "# Here most of the features are categorical we can convert them into numerical later. "
   ]
  },
  {
   "cell_type": "code",
   "execution_count": 166,
   "id": "ecd84d55-ac64-45ba-93e8-f5c84412e162",
   "metadata": {},
   "outputs": [
    {
     "data": {
      "text/plain": [
       "(7032, 21)"
      ]
     },
     "execution_count": 166,
     "metadata": {},
     "output_type": "execute_result"
    }
   ],
   "source": [
    "df.shape"
   ]
  },
  {
   "cell_type": "code",
   "execution_count": 170,
   "id": "264c92dc-48c3-493f-8b78-7cf5aff69fd4",
   "metadata": {},
   "outputs": [],
   "source": [
    "# Statistical Analysis."
   ]
  },
  {
   "cell_type": "code",
   "execution_count": 14,
   "id": "e82fa0eb-f2c5-4c6b-a01f-44be2975ff81",
   "metadata": {},
   "outputs": [
    {
     "data": {
      "text/html": [
       "<div>\n",
       "<style scoped>\n",
       "    .dataframe tbody tr th:only-of-type {\n",
       "        vertical-align: middle;\n",
       "    }\n",
       "\n",
       "    .dataframe tbody tr th {\n",
       "        vertical-align: top;\n",
       "    }\n",
       "\n",
       "    .dataframe thead th {\n",
       "        text-align: right;\n",
       "    }\n",
       "</style>\n",
       "<table border=\"1\" class=\"dataframe\">\n",
       "  <thead>\n",
       "    <tr style=\"text-align: right;\">\n",
       "      <th></th>\n",
       "      <th>SeniorCitizen</th>\n",
       "      <th>tenure</th>\n",
       "      <th>MonthlyCharges</th>\n",
       "      <th>TotalCharges</th>\n",
       "    </tr>\n",
       "  </thead>\n",
       "  <tbody>\n",
       "    <tr>\n",
       "      <th>count</th>\n",
       "      <td>7032.000000</td>\n",
       "      <td>7032.000000</td>\n",
       "      <td>7032.000000</td>\n",
       "      <td>7032.000000</td>\n",
       "    </tr>\n",
       "    <tr>\n",
       "      <th>mean</th>\n",
       "      <td>0.162400</td>\n",
       "      <td>32.421786</td>\n",
       "      <td>64.798208</td>\n",
       "      <td>2283.300441</td>\n",
       "    </tr>\n",
       "    <tr>\n",
       "      <th>std</th>\n",
       "      <td>0.368844</td>\n",
       "      <td>24.545260</td>\n",
       "      <td>30.085974</td>\n",
       "      <td>2266.771362</td>\n",
       "    </tr>\n",
       "    <tr>\n",
       "      <th>min</th>\n",
       "      <td>0.000000</td>\n",
       "      <td>1.000000</td>\n",
       "      <td>18.250000</td>\n",
       "      <td>18.800000</td>\n",
       "    </tr>\n",
       "    <tr>\n",
       "      <th>25%</th>\n",
       "      <td>0.000000</td>\n",
       "      <td>9.000000</td>\n",
       "      <td>35.587500</td>\n",
       "      <td>401.450000</td>\n",
       "    </tr>\n",
       "    <tr>\n",
       "      <th>50%</th>\n",
       "      <td>0.000000</td>\n",
       "      <td>29.000000</td>\n",
       "      <td>70.350000</td>\n",
       "      <td>1397.475000</td>\n",
       "    </tr>\n",
       "    <tr>\n",
       "      <th>75%</th>\n",
       "      <td>0.000000</td>\n",
       "      <td>55.000000</td>\n",
       "      <td>89.862500</td>\n",
       "      <td>3794.737500</td>\n",
       "    </tr>\n",
       "    <tr>\n",
       "      <th>max</th>\n",
       "      <td>1.000000</td>\n",
       "      <td>72.000000</td>\n",
       "      <td>118.750000</td>\n",
       "      <td>8684.800000</td>\n",
       "    </tr>\n",
       "  </tbody>\n",
       "</table>\n",
       "</div>"
      ],
      "text/plain": [
       "       SeniorCitizen       tenure  MonthlyCharges  TotalCharges\n",
       "count    7032.000000  7032.000000     7032.000000   7032.000000\n",
       "mean        0.162400    32.421786       64.798208   2283.300441\n",
       "std         0.368844    24.545260       30.085974   2266.771362\n",
       "min         0.000000     1.000000       18.250000     18.800000\n",
       "25%         0.000000     9.000000       35.587500    401.450000\n",
       "50%         0.000000    29.000000       70.350000   1397.475000\n",
       "75%         0.000000    55.000000       89.862500   3794.737500\n",
       "max         1.000000    72.000000      118.750000   8684.800000"
      ]
     },
     "execution_count": 14,
     "metadata": {},
     "output_type": "execute_result"
    }
   ],
   "source": [
    "df.describe()"
   ]
  },
  {
   "cell_type": "code",
   "execution_count": 15,
   "id": "316fa978-1dea-44f5-8248-c98aba02b8db",
   "metadata": {},
   "outputs": [],
   "source": [
    "# Exploratory data analysis"
   ]
  },
  {
   "cell_type": "code",
   "execution_count": 16,
   "id": "0859ab8b-a04c-4a5d-875f-e4ecad2e65b6",
   "metadata": {},
   "outputs": [
    {
     "data": {
      "text/plain": [
       "Index(['customerID', 'gender', 'SeniorCitizen', 'Partner', 'Dependents',\n",
       "       'tenure', 'PhoneService', 'MultipleLines', 'InternetService',\n",
       "       'OnlineSecurity', 'OnlineBackup', 'DeviceProtection', 'TechSupport',\n",
       "       'StreamingTV', 'StreamingMovies', 'Contract', 'PaperlessBilling',\n",
       "       'PaymentMethod', 'MonthlyCharges', 'TotalCharges', 'Churn'],\n",
       "      dtype='object')"
      ]
     },
     "execution_count": 16,
     "metadata": {},
     "output_type": "execute_result"
    }
   ],
   "source": [
    "df.columns"
   ]
  },
  {
   "cell_type": "code",
   "execution_count": 17,
   "id": "5af8c84a-f758-431e-a6fb-7937dca6f5f0",
   "metadata": {},
   "outputs": [
    {
     "data": {
      "text/plain": [
       "customerID          0\n",
       "gender              0\n",
       "SeniorCitizen       0\n",
       "Partner             0\n",
       "Dependents          0\n",
       "tenure              0\n",
       "PhoneService        0\n",
       "MultipleLines       0\n",
       "InternetService     0\n",
       "OnlineSecurity      0\n",
       "OnlineBackup        0\n",
       "DeviceProtection    0\n",
       "TechSupport         0\n",
       "StreamingTV         0\n",
       "StreamingMovies     0\n",
       "Contract            0\n",
       "PaperlessBilling    0\n",
       "PaymentMethod       0\n",
       "MonthlyCharges      0\n",
       "TotalCharges        0\n",
       "Churn               0\n",
       "dtype: int64"
      ]
     },
     "execution_count": 17,
     "metadata": {},
     "output_type": "execute_result"
    }
   ],
   "source": [
    "df.isnull().sum()"
   ]
  },
  {
   "cell_type": "code",
   "execution_count": 18,
   "id": "add5eb64-3e73-4f73-945d-d450c8e8bc94",
   "metadata": {},
   "outputs": [],
   "source": [
    "# Display the balance of the class labels(churn) with a countplot"
   ]
  },
  {
   "cell_type": "code",
   "execution_count": 19,
   "id": "4fe5e8e6-5353-40a1-a119-ae99de62e388",
   "metadata": {},
   "outputs": [
    {
     "data": {
      "text/plain": [
       "0        No\n",
       "1        No\n",
       "2       Yes\n",
       "3        No\n",
       "4       Yes\n",
       "       ... \n",
       "7027     No\n",
       "7028     No\n",
       "7029     No\n",
       "7030    Yes\n",
       "7031     No\n",
       "Name: Churn, Length: 7032, dtype: object"
      ]
     },
     "execution_count": 19,
     "metadata": {},
     "output_type": "execute_result"
    }
   ],
   "source": [
    "df.Churn"
   ]
  },
  {
   "cell_type": "code",
   "execution_count": 20,
   "id": "d30c7906-c3ad-45dc-b99b-e151c767a8e9",
   "metadata": {},
   "outputs": [
    {
     "data": {
      "text/plain": [
       "No     5163\n",
       "Yes    1869\n",
       "Name: Churn, dtype: int64"
      ]
     },
     "execution_count": 20,
     "metadata": {},
     "output_type": "execute_result"
    }
   ],
   "source": [
    "df.Churn.value_counts() # imbalance data"
   ]
  },
  {
   "cell_type": "code",
   "execution_count": 21,
   "id": "188e6f00-af47-4fda-837c-8ff55a24ee04",
   "metadata": {},
   "outputs": [
    {
     "data": {
      "text/plain": [
       "<AxesSubplot:xlabel='Churn', ylabel='count'>"
      ]
     },
     "execution_count": 21,
     "metadata": {},
     "output_type": "execute_result"
    },
    {
     "data": {
      "image/png": "[encoded data removed]",
      "text/plain": [
       "<Figure size 432x288 with 1 Axes>"
      ]
     },
     "metadata": {
      "needs_background": "light"
     },
     "output_type": "display_data"
    }
   ],
   "source": [
    "sns.countplot(x = 'Churn', data = df)"
   ]
  },
  {
   "cell_type": "code",
   "execution_count": 22,
   "id": "44fd61c1-af9a-48ee-a7cc-f2bfee15272e",
   "metadata": {},
   "outputs": [],
   "source": [
    "# Explore the distribution of totalcharges b/w churn categories with a box plot or violin plot"
   ]
  },
  {
   "cell_type": "code",
   "execution_count": 23,
   "id": "e7a5a5b8-331a-4a77-9e55-196842c735ae",
   "metadata": {},
   "outputs": [
    {
     "data": {
      "text/plain": [
       "0         29.85\n",
       "1       1889.50\n",
       "2        108.15\n",
       "3       1840.75\n",
       "4        151.65\n",
       "         ...   \n",
       "7027    1990.50\n",
       "7028    7362.90\n",
       "7029     346.45\n",
       "7030     306.60\n",
       "7031    6844.50\n",
       "Name: TotalCharges, Length: 7032, dtype: float64"
      ]
     },
     "execution_count": 23,
     "metadata": {},
     "output_type": "execute_result"
    }
   ],
   "source": [
    "df.TotalCharges"
   ]
  },
  {
   "cell_type": "code",
   "execution_count": 24,
   "id": "f360d656-6299-4aa3-b93b-ec3f368b6630",
   "metadata": {},
   "outputs": [
    {
     "data": {
      "text/plain": [
       "4602    8684.80\n",
       "4578    8672.45\n",
       "6757    8670.10\n",
       "5338    8594.40\n",
       "2182    8564.75\n",
       "Name: TotalCharges, dtype: float64"
      ]
     },
     "execution_count": 24,
     "metadata": {},
     "output_type": "execute_result"
    }
   ],
   "source": [
    "df.TotalCharges.nlargest(5)"
   ]
  },
  {
   "cell_type": "code",
   "execution_count": 25,
   "id": "702a48f3-aa7c-468d-b3c7-256a04e3bbac",
   "metadata": {},
   "outputs": [
    {
     "data": {
      "text/plain": [
       "20.20      11\n",
       "19.75       9\n",
       "20.05       8\n",
       "19.90       8\n",
       "19.65       8\n",
       "           ..\n",
       "6849.40     1\n",
       "692.35      1\n",
       "130.15      1\n",
       "3211.90     1\n",
       "6844.50     1\n",
       "Name: TotalCharges, Length: 6530, dtype: int64"
      ]
     },
     "execution_count": 25,
     "metadata": {},
     "output_type": "execute_result"
    }
   ],
   "source": [
    "df.TotalCharges.value_counts()"
   ]
  },
  {
   "cell_type": "code",
   "execution_count": 26,
   "id": "73d15fcd-1fca-47b6-934c-50f0df08e62d",
   "metadata": {},
   "outputs": [
    {
     "data": {
      "text/plain": [
       "<AxesSubplot:xlabel='Churn', ylabel='TotalCharges'>"
      ]
     },
     "execution_count": 26,
     "metadata": {},
     "output_type": "execute_result"
    },
    {
     "data": {
      "image/png": "[encoded data removed]",
      "text/plain": [
       "<Figure size 432x288 with 1 Axes>"
      ]
     },
     "metadata": {
      "needs_background": "light"
     },
     "output_type": "display_data"
    }
   ],
   "source": [
    "sns.violinplot(x = 'Churn',  y = 'TotalCharges',data = df )"
   ]
  },
  {
   "cell_type": "code",
   "execution_count": 27,
   "id": "a710388d-84b3-46d9-8be4-a2f9c2199746",
   "metadata": {},
   "outputs": [
    {
     "data": {
      "text/plain": [
       "<AxesSubplot:xlabel='Churn', ylabel='TotalCharges'>"
      ]
     },
     "execution_count": 27,
     "metadata": {},
     "output_type": "execute_result"
    },
    {
     "data": {
      "image/png": "[encoded data removed]",
      "text/plain": [
       "<Figure size 432x288 with 1 Axes>"
      ]
     },
     "metadata": {
      "needs_background": "light"
     },
     "output_type": "display_data"
    }
   ],
   "source": [
    "sns.boxplot(x = 'Churn',  y = 'TotalCharges',data = df)"
   ]
  },
  {
   "cell_type": "code",
   "execution_count": 28,
   "id": "f8c01ed1-e81e-431c-a19d-6b34b290f08a",
   "metadata": {},
   "outputs": [],
   "source": [
    "# create a boxplot showing the distribution of total charges per contract types , also add in a hue coloring based on the churn class"
   ]
  },
  {
   "cell_type": "code",
   "execution_count": 29,
   "id": "9848fe56-e5cd-4ae3-bbe6-528e9b4c8333",
   "metadata": {},
   "outputs": [
    {
     "data": {
      "text/plain": [
       "Index(['customerID', 'gender', 'SeniorCitizen', 'Partner', 'Dependents',\n",
       "       'tenure', 'PhoneService', 'MultipleLines', 'InternetService',\n",
       "       'OnlineSecurity', 'OnlineBackup', 'DeviceProtection', 'TechSupport',\n",
       "       'StreamingTV', 'StreamingMovies', 'Contract', 'PaperlessBilling',\n",
       "       'PaymentMethod', 'MonthlyCharges', 'TotalCharges', 'Churn'],\n",
       "      dtype='object')"
      ]
     },
     "execution_count": 29,
     "metadata": {},
     "output_type": "execute_result"
    }
   ],
   "source": [
    "df.columns"
   ]
  },
  {
   "cell_type": "code",
   "execution_count": 30,
   "id": "dae15a1a-b964-4c79-82d0-24bda9f1aed8",
   "metadata": {},
   "outputs": [
    {
     "data": {
      "text/plain": [
       "0       Month-to-month\n",
       "1             One year\n",
       "2       Month-to-month\n",
       "3             One year\n",
       "4       Month-to-month\n",
       "             ...      \n",
       "7027          One year\n",
       "7028          One year\n",
       "7029    Month-to-month\n",
       "7030    Month-to-month\n",
       "7031          Two year\n",
       "Name: Contract, Length: 7032, dtype: object"
      ]
     },
     "execution_count": 30,
     "metadata": {},
     "output_type": "execute_result"
    }
   ],
   "source": [
    "df.Contract"
   ]
  },
  {
   "cell_type": "code",
   "execution_count": 31,
   "id": "aceacf98-7436-4091-a28c-86eb2b9fcb91",
   "metadata": {},
   "outputs": [
    {
     "data": {
      "text/plain": [
       "Month-to-month    3875\n",
       "Two year          1685\n",
       "One year          1472\n",
       "Name: Contract, dtype: int64"
      ]
     },
     "execution_count": 31,
     "metadata": {},
     "output_type": "execute_result"
    }
   ],
   "source": [
    "df.Contract.value_counts()"
   ]
  },
  {
   "cell_type": "code",
   "execution_count": 32,
   "id": "6c0c9301-49df-4670-bbf5-a37393149e1d",
   "metadata": {},
   "outputs": [
    {
     "data": {
      "text/plain": [
       "array(['Month-to-month', 'One year', 'Two year'], dtype=object)"
      ]
     },
     "execution_count": 32,
     "metadata": {},
     "output_type": "execute_result"
    }
   ],
   "source": [
    "df.Contract.unique()"
   ]
  },
  {
   "cell_type": "code",
   "execution_count": 33,
   "id": "97bb73a2-e41e-4fdb-a02a-8beeb75f11dc",
   "metadata": {},
   "outputs": [
    {
     "data": {
      "text/plain": [
       "<matplotlib.legend.Legend at 0x200e67ea5f0>"
      ]
     },
     "execution_count": 33,
     "metadata": {},
     "output_type": "execute_result"
    },
    {
     "data": {
      "image/png": "[encoded data removed]",
      "text/plain": [
       "<Figure size 864x432 with 1 Axes>"
      ]
     },
     "metadata": {
      "needs_background": "light"
     },
     "output_type": "display_data"
    }
   ],
   "source": [
    "plt.figure(figsize=(12, 6))\n",
    "sns.boxplot(x = 'Contract', y = 'TotalCharges', hue = 'Churn', data = df)\n",
    "plt.legend(loc = (1.1, 0.5))"
   ]
  },
  {
   "cell_type": "code",
   "execution_count": 34,
   "id": "1beac0a4-47ed-4f91-a5b6-f53cad3ca326",
   "metadata": {},
   "outputs": [],
   "source": [
    "# create a bar plot showing the correlation of the following features to the class label. \n",
    "# for the categorical features you will need to convert them to dummy variables first."
   ]
  },
  {
   "cell_type": "code",
   "execution_count": 35,
   "id": "be382ae1-4225-41ac-8ff1-d3d0d36306cf",
   "metadata": {},
   "outputs": [
    {
     "data": {
      "text/plain": [
       "Index(['customerID', 'gender', 'SeniorCitizen', 'Partner', 'Dependents',\n",
       "       'tenure', 'PhoneService', 'MultipleLines', 'InternetService',\n",
       "       'OnlineSecurity', 'OnlineBackup', 'DeviceProtection', 'TechSupport',\n",
       "       'StreamingTV', 'StreamingMovies', 'Contract', 'PaperlessBilling',\n",
       "       'PaymentMethod', 'MonthlyCharges', 'TotalCharges', 'Churn'],\n",
       "      dtype='object')"
      ]
     },
     "execution_count": 35,
     "metadata": {},
     "output_type": "execute_result"
    }
   ],
   "source": [
    "df.columns"
   ]
  },
  {
   "cell_type": "code",
   "execution_count": 36,
   "id": "1b8180a8-e666-44a1-bad8-5b84e87bacf1",
   "metadata": {},
   "outputs": [
    {
     "data": {
      "text/html": [
       "<div>\n",
       "<style scoped>\n",
       "    .dataframe tbody tr th:only-of-type {\n",
       "        vertical-align: middle;\n",
       "    }\n",
       "\n",
       "    .dataframe tbody tr th {\n",
       "        vertical-align: top;\n",
       "    }\n",
       "\n",
       "    .dataframe thead th {\n",
       "        text-align: right;\n",
       "    }\n",
       "</style>\n",
       "<table border=\"1\" class=\"dataframe\">\n",
       "  <thead>\n",
       "    <tr style=\"text-align: right;\">\n",
       "      <th></th>\n",
       "      <th>SeniorCitizen</th>\n",
       "      <th>gender_Female</th>\n",
       "      <th>gender_Male</th>\n",
       "      <th>Partner_No</th>\n",
       "      <th>Partner_Yes</th>\n",
       "      <th>Dependents_No</th>\n",
       "      <th>Dependents_Yes</th>\n",
       "      <th>PhoneService_No</th>\n",
       "      <th>PhoneService_Yes</th>\n",
       "      <th>MultipleLines_No</th>\n",
       "      <th>...</th>\n",
       "      <th>Contract_One year</th>\n",
       "      <th>Contract_Two year</th>\n",
       "      <th>PaperlessBilling_No</th>\n",
       "      <th>PaperlessBilling_Yes</th>\n",
       "      <th>PaymentMethod_Bank transfer (automatic)</th>\n",
       "      <th>PaymentMethod_Credit card (automatic)</th>\n",
       "      <th>PaymentMethod_Electronic check</th>\n",
       "      <th>PaymentMethod_Mailed check</th>\n",
       "      <th>Churn_No</th>\n",
       "      <th>Churn_Yes</th>\n",
       "    </tr>\n",
       "  </thead>\n",
       "  <tbody>\n",
       "    <tr>\n",
       "      <th>0</th>\n",
       "      <td>0</td>\n",
       "      <td>1</td>\n",
       "      <td>0</td>\n",
       "      <td>0</td>\n",
       "      <td>1</td>\n",
       "      <td>1</td>\n",
       "      <td>0</td>\n",
       "      <td>1</td>\n",
       "      <td>0</td>\n",
       "      <td>0</td>\n",
       "      <td>...</td>\n",
       "      <td>0</td>\n",
       "      <td>0</td>\n",
       "      <td>0</td>\n",
       "      <td>1</td>\n",
       "      <td>0</td>\n",
       "      <td>0</td>\n",
       "      <td>1</td>\n",
       "      <td>0</td>\n",
       "      <td>1</td>\n",
       "      <td>0</td>\n",
       "    </tr>\n",
       "    <tr>\n",
       "      <th>1</th>\n",
       "      <td>0</td>\n",
       "      <td>0</td>\n",
       "      <td>1</td>\n",
       "      <td>1</td>\n",
       "      <td>0</td>\n",
       "      <td>1</td>\n",
       "      <td>0</td>\n",
       "      <td>0</td>\n",
       "      <td>1</td>\n",
       "      <td>1</td>\n",
       "      <td>...</td>\n",
       "      <td>1</td>\n",
       "      <td>0</td>\n",
       "      <td>1</td>\n",
       "      <td>0</td>\n",
       "      <td>0</td>\n",
       "      <td>0</td>\n",
       "      <td>0</td>\n",
       "      <td>1</td>\n",
       "      <td>1</td>\n",
       "      <td>0</td>\n",
       "    </tr>\n",
       "    <tr>\n",
       "      <th>2</th>\n",
       "      <td>0</td>\n",
       "      <td>0</td>\n",
       "      <td>1</td>\n",
       "      <td>1</td>\n",
       "      <td>0</td>\n",
       "      <td>1</td>\n",
       "      <td>0</td>\n",
       "      <td>0</td>\n",
       "      <td>1</td>\n",
       "      <td>1</td>\n",
       "      <td>...</td>\n",
       "      <td>0</td>\n",
       "      <td>0</td>\n",
       "      <td>0</td>\n",
       "      <td>1</td>\n",
       "      <td>0</td>\n",
       "      <td>0</td>\n",
       "      <td>0</td>\n",
       "      <td>1</td>\n",
       "      <td>0</td>\n",
       "      <td>1</td>\n",
       "    </tr>\n",
       "    <tr>\n",
       "      <th>3</th>\n",
       "      <td>0</td>\n",
       "      <td>0</td>\n",
       "      <td>1</td>\n",
       "      <td>1</td>\n",
       "      <td>0</td>\n",
       "      <td>1</td>\n",
       "      <td>0</td>\n",
       "      <td>1</td>\n",
       "      <td>0</td>\n",
       "      <td>0</td>\n",
       "      <td>...</td>\n",
       "      <td>1</td>\n",
       "      <td>0</td>\n",
       "      <td>1</td>\n",
       "      <td>0</td>\n",
       "      <td>1</td>\n",
       "      <td>0</td>\n",
       "      <td>0</td>\n",
       "      <td>0</td>\n",
       "      <td>1</td>\n",
       "      <td>0</td>\n",
       "    </tr>\n",
       "    <tr>\n",
       "      <th>4</th>\n",
       "      <td>0</td>\n",
       "      <td>1</td>\n",
       "      <td>0</td>\n",
       "      <td>1</td>\n",
       "      <td>0</td>\n",
       "      <td>1</td>\n",
       "      <td>0</td>\n",
       "      <td>0</td>\n",
       "      <td>1</td>\n",
       "      <td>1</td>\n",
       "      <td>...</td>\n",
       "      <td>0</td>\n",
       "      <td>0</td>\n",
       "      <td>0</td>\n",
       "      <td>1</td>\n",
       "      <td>0</td>\n",
       "      <td>0</td>\n",
       "      <td>1</td>\n",
       "      <td>0</td>\n",
       "      <td>0</td>\n",
       "      <td>1</td>\n",
       "    </tr>\n",
       "    <tr>\n",
       "      <th>...</th>\n",
       "      <td>...</td>\n",
       "      <td>...</td>\n",
       "      <td>...</td>\n",
       "      <td>...</td>\n",
       "      <td>...</td>\n",
       "      <td>...</td>\n",
       "      <td>...</td>\n",
       "      <td>...</td>\n",
       "      <td>...</td>\n",
       "      <td>...</td>\n",
       "      <td>...</td>\n",
       "      <td>...</td>\n",
       "      <td>...</td>\n",
       "      <td>...</td>\n",
       "      <td>...</td>\n",
       "      <td>...</td>\n",
       "      <td>...</td>\n",
       "      <td>...</td>\n",
       "      <td>...</td>\n",
       "      <td>...</td>\n",
       "      <td>...</td>\n",
       "    </tr>\n",
       "    <tr>\n",
       "      <th>7027</th>\n",
       "      <td>0</td>\n",
       "      <td>0</td>\n",
       "      <td>1</td>\n",
       "      <td>0</td>\n",
       "      <td>1</td>\n",
       "      <td>0</td>\n",
       "      <td>1</td>\n",
       "      <td>0</td>\n",
       "      <td>1</td>\n",
       "      <td>0</td>\n",
       "      <td>...</td>\n",
       "      <td>1</td>\n",
       "      <td>0</td>\n",
       "      <td>0</td>\n",
       "      <td>1</td>\n",
       "      <td>0</td>\n",
       "      <td>0</td>\n",
       "      <td>0</td>\n",
       "      <td>1</td>\n",
       "      <td>1</td>\n",
       "      <td>0</td>\n",
       "    </tr>\n",
       "    <tr>\n",
       "      <th>7028</th>\n",
       "      <td>0</td>\n",
       "      <td>1</td>\n",
       "      <td>0</td>\n",
       "      <td>0</td>\n",
       "      <td>1</td>\n",
       "      <td>0</td>\n",
       "      <td>1</td>\n",
       "      <td>0</td>\n",
       "      <td>1</td>\n",
       "      <td>0</td>\n",
       "      <td>...</td>\n",
       "      <td>1</td>\n",
       "      <td>0</td>\n",
       "      <td>0</td>\n",
       "      <td>1</td>\n",
       "      <td>0</td>\n",
       "      <td>1</td>\n",
       "      <td>0</td>\n",
       "      <td>0</td>\n",
       "      <td>1</td>\n",
       "      <td>0</td>\n",
       "    </tr>\n",
       "    <tr>\n",
       "      <th>7029</th>\n",
       "      <td>0</td>\n",
       "      <td>1</td>\n",
       "      <td>0</td>\n",
       "      <td>0</td>\n",
       "      <td>1</td>\n",
       "      <td>0</td>\n",
       "      <td>1</td>\n",
       "      <td>1</td>\n",
       "      <td>0</td>\n",
       "      <td>0</td>\n",
       "      <td>...</td>\n",
       "      <td>0</td>\n",
       "      <td>0</td>\n",
       "      <td>0</td>\n",
       "      <td>1</td>\n",
       "      <td>0</td>\n",
       "      <td>0</td>\n",
       "      <td>1</td>\n",
       "      <td>0</td>\n",
       "      <td>1</td>\n",
       "      <td>0</td>\n",
       "    </tr>\n",
       "    <tr>\n",
       "      <th>7030</th>\n",
       "      <td>1</td>\n",
       "      <td>0</td>\n",
       "      <td>1</td>\n",
       "      <td>0</td>\n",
       "      <td>1</td>\n",
       "      <td>1</td>\n",
       "      <td>0</td>\n",
       "      <td>0</td>\n",
       "      <td>1</td>\n",
       "      <td>0</td>\n",
       "      <td>...</td>\n",
       "      <td>0</td>\n",
       "      <td>0</td>\n",
       "      <td>0</td>\n",
       "      <td>1</td>\n",
       "      <td>0</td>\n",
       "      <td>0</td>\n",
       "      <td>0</td>\n",
       "      <td>1</td>\n",
       "      <td>0</td>\n",
       "      <td>1</td>\n",
       "    </tr>\n",
       "    <tr>\n",
       "      <th>7031</th>\n",
       "      <td>0</td>\n",
       "      <td>0</td>\n",
       "      <td>1</td>\n",
       "      <td>1</td>\n",
       "      <td>0</td>\n",
       "      <td>1</td>\n",
       "      <td>0</td>\n",
       "      <td>0</td>\n",
       "      <td>1</td>\n",
       "      <td>1</td>\n",
       "      <td>...</td>\n",
       "      <td>0</td>\n",
       "      <td>1</td>\n",
       "      <td>0</td>\n",
       "      <td>1</td>\n",
       "      <td>1</td>\n",
       "      <td>0</td>\n",
       "      <td>0</td>\n",
       "      <td>0</td>\n",
       "      <td>1</td>\n",
       "      <td>0</td>\n",
       "    </tr>\n",
       "  </tbody>\n",
       "</table>\n",
       "<p>7032 rows × 44 columns</p>\n",
       "</div>"
      ],
      "text/plain": [
       "      SeniorCitizen  gender_Female  gender_Male  Partner_No  Partner_Yes  \\\n",
       "0                 0              1            0           0            1   \n",
       "1                 0              0            1           1            0   \n",
       "2                 0              0            1           1            0   \n",
       "3                 0              0            1           1            0   \n",
       "4                 0              1            0           1            0   \n",
       "...             ...            ...          ...         ...          ...   \n",
       "7027              0              0            1           0            1   \n",
       "7028              0              1            0           0            1   \n",
       "7029              0              1            0           0            1   \n",
       "7030              1              0            1           0            1   \n",
       "7031              0              0            1           1            0   \n",
       "\n",
       "      Dependents_No  Dependents_Yes  PhoneService_No  PhoneService_Yes  \\\n",
       "0                 1               0                1                 0   \n",
       "1                 1               0                0                 1   \n",
       "2                 1               0                0                 1   \n",
       "3                 1               0                1                 0   \n",
       "4                 1               0                0                 1   \n",
       "...             ...             ...              ...               ...   \n",
       "7027              0               1                0                 1   \n",
       "7028              0               1                0                 1   \n",
       "7029              0               1                1                 0   \n",
       "7030              1               0                0                 1   \n",
       "7031              1               0                0                 1   \n",
       "\n",
       "      MultipleLines_No  ...  Contract_One year  Contract_Two year  \\\n",
       "0                    0  ...                  0                  0   \n",
       "1                    1  ...                  1                  0   \n",
       "2                    1  ...                  0                  0   \n",
       "3                    0  ...                  1                  0   \n",
       "4                    1  ...                  0                  0   \n",
       "...                ...  ...                ...                ...   \n",
       "7027                 0  ...                  1                  0   \n",
       "7028                 0  ...                  1                  0   \n",
       "7029                 0  ...                  0                  0   \n",
       "7030                 0  ...                  0                  0   \n",
       "7031                 1  ...                  0                  1   \n",
       "\n",
       "      PaperlessBilling_No  PaperlessBilling_Yes  \\\n",
       "0                       0                     1   \n",
       "1                       1                     0   \n",
       "2                       0                     1   \n",
       "3                       1                     0   \n",
       "4                       0                     1   \n",
       "...                   ...                   ...   \n",
       "7027                    0                     1   \n",
       "7028                    0                     1   \n",
       "7029                    0                     1   \n",
       "7030                    0                     1   \n",
       "7031                    0                     1   \n",
       "\n",
       "      PaymentMethod_Bank transfer (automatic)  \\\n",
       "0                                           0   \n",
       "1                                           0   \n",
       "2                                           0   \n",
       "3                                           1   \n",
       "4                                           0   \n",
       "...                                       ...   \n",
       "7027                                        0   \n",
       "7028                                        0   \n",
       "7029                                        0   \n",
       "7030                                        0   \n",
       "7031                                        1   \n",
       "\n",
       "      PaymentMethod_Credit card (automatic)  PaymentMethod_Electronic check  \\\n",
       "0                                         0                               1   \n",
       "1                                         0                               0   \n",
       "2                                         0                               0   \n",
       "3                                         0                               0   \n",
       "4                                         0                               1   \n",
       "...                                     ...                             ...   \n",
       "7027                                      0                               0   \n",
       "7028                                      1                               0   \n",
       "7029                                      0                               1   \n",
       "7030                                      0                               0   \n",
       "7031                                      0                               0   \n",
       "\n",
       "      PaymentMethod_Mailed check  Churn_No  Churn_Yes  \n",
       "0                              0         1          0  \n",
       "1                              1         1          0  \n",
       "2                              1         0          1  \n",
       "3                              0         1          0  \n",
       "4                              0         0          1  \n",
       "...                          ...       ...        ...  \n",
       "7027                           1         1          0  \n",
       "7028                           0         1          0  \n",
       "7029                           0         1          0  \n",
       "7030                           1         0          1  \n",
       "7031                           0         1          0  \n",
       "\n",
       "[7032 rows x 44 columns]"
      ]
     },
     "execution_count": 36,
     "metadata": {},
     "output_type": "execute_result"
    }
   ],
   "source": [
    "pd.get_dummies(df[['gender', 'SeniorCitizen', 'Partner', 'Dependents',\n",
    "       'PhoneService', 'MultipleLines', 'InternetService',\n",
    "       'OnlineSecurity', 'OnlineBackup', 'DeviceProtection', 'TechSupport',\n",
    "       'StreamingTV', 'StreamingMovies', 'Contract', 'PaperlessBilling',\n",
    "       'PaymentMethod', 'Churn']])"
   ]
  },
  {
   "cell_type": "code",
   "execution_count": 37,
   "id": "c0e549ee-6ab6-4164-ab34-5566de75e559",
   "metadata": {},
   "outputs": [],
   "source": [
    "# Now find correlation for converted numerical values"
   ]
  },
  {
   "cell_type": "code",
   "execution_count": 38,
   "id": "38a51ac0-82c7-4d99-82a8-70e086269780",
   "metadata": {},
   "outputs": [],
   "source": [
    "corr_df = pd.get_dummies(df[['gender', 'SeniorCitizen', 'Partner', 'Dependents',\n",
    "       'PhoneService', 'MultipleLines', 'InternetService',\n",
    "       'OnlineSecurity', 'OnlineBackup', 'DeviceProtection', 'TechSupport',\n",
    "       'StreamingTV', 'StreamingMovies', 'Contract', 'PaperlessBilling',\n",
    "       'PaymentMethod', 'Churn']]).corr()"
   ]
  },
  {
   "cell_type": "code",
   "execution_count": 39,
   "id": "02bb292a-13d7-4434-9fa6-97f5b8b85aed",
   "metadata": {},
   "outputs": [
    {
     "data": {
      "text/plain": [
       "Churn_No                                  -1.000000\n",
       "Contract_Two year                         -0.301552\n",
       "StreamingMovies_No internet service       -0.227578\n",
       "StreamingTV_No internet service           -0.227578\n",
       "TechSupport_No internet service           -0.227578\n",
       "DeviceProtection_No internet service      -0.227578\n",
       "OnlineBackup_No internet service          -0.227578\n",
       "OnlineSecurity_No internet service        -0.227578\n",
       "InternetService_No                        -0.227578\n",
       "PaperlessBilling_No                       -0.191454\n",
       "Contract_One year                         -0.178225\n",
       "OnlineSecurity_Yes                        -0.171270\n",
       "TechSupport_Yes                           -0.164716\n",
       "Dependents_Yes                            -0.163128\n",
       "Partner_Yes                               -0.149982\n",
       "PaymentMethod_Credit card (automatic)     -0.134687\n",
       "InternetService_DSL                       -0.124141\n",
       "PaymentMethod_Bank transfer (automatic)   -0.118136\n",
       "PaymentMethod_Mailed check                -0.090773\n",
       "OnlineBackup_Yes                          -0.082307\n",
       "DeviceProtection_Yes                      -0.066193\n",
       "MultipleLines_No                          -0.032654\n",
       "MultipleLines_No phone service            -0.011691\n",
       "PhoneService_No                           -0.011691\n",
       "gender_Male                               -0.008545\n",
       "gender_Female                              0.008545\n",
       "PhoneService_Yes                           0.011691\n",
       "MultipleLines_Yes                          0.040033\n",
       "StreamingMovies_Yes                        0.060860\n",
       "StreamingTV_Yes                            0.063254\n",
       "StreamingTV_No                             0.128435\n",
       "StreamingMovies_No                         0.130920\n",
       "Partner_No                                 0.149982\n",
       "SeniorCitizen                              0.150541\n",
       "Dependents_No                              0.163128\n",
       "PaperlessBilling_Yes                       0.191454\n",
       "DeviceProtection_No                        0.252056\n",
       "OnlineBackup_No                            0.267595\n",
       "PaymentMethod_Electronic check             0.301455\n",
       "InternetService_Fiber optic                0.307463\n",
       "TechSupport_No                             0.336877\n",
       "OnlineSecurity_No                          0.342235\n",
       "Contract_Month-to-month                    0.404565\n",
       "Churn_Yes                                  1.000000\n",
       "Name: Churn_Yes, dtype: float64"
      ]
     },
     "execution_count": 39,
     "metadata": {},
     "output_type": "execute_result"
    }
   ],
   "source": [
    "corr_df['Churn_Yes'].sort_values()"
   ]
  },
  {
   "cell_type": "code",
   "execution_count": 40,
   "id": "31306843-08f7-4dff-93d3-8fa4b166b2bd",
   "metadata": {},
   "outputs": [],
   "source": [
    "corr_yes_churn = corr_df['Churn_Yes'].sort_values().iloc[1:-1]"
   ]
  },
  {
   "cell_type": "code",
   "execution_count": 41,
   "id": "afc93bff-63eb-44f4-9302-a6ad26847853",
   "metadata": {},
   "outputs": [
    {
     "data": {
      "text/plain": [
       "Contract_Two year                         -0.301552\n",
       "StreamingMovies_No internet service       -0.227578\n",
       "StreamingTV_No internet service           -0.227578\n",
       "TechSupport_No internet service           -0.227578\n",
       "DeviceProtection_No internet service      -0.227578\n",
       "OnlineBackup_No internet service          -0.227578\n",
       "OnlineSecurity_No internet service        -0.227578\n",
       "InternetService_No                        -0.227578\n",
       "PaperlessBilling_No                       -0.191454\n",
       "Contract_One year                         -0.178225\n",
       "OnlineSecurity_Yes                        -0.171270\n",
       "TechSupport_Yes                           -0.164716\n",
       "Dependents_Yes                            -0.163128\n",
       "Partner_Yes                               -0.149982\n",
       "PaymentMethod_Credit card (automatic)     -0.134687\n",
       "InternetService_DSL                       -0.124141\n",
       "PaymentMethod_Bank transfer (automatic)   -0.118136\n",
       "PaymentMethod_Mailed check                -0.090773\n",
       "OnlineBackup_Yes                          -0.082307\n",
       "DeviceProtection_Yes                      -0.066193\n",
       "MultipleLines_No                          -0.032654\n",
       "MultipleLines_No phone service            -0.011691\n",
       "PhoneService_No                           -0.011691\n",
       "gender_Male                               -0.008545\n",
       "gender_Female                              0.008545\n",
       "PhoneService_Yes                           0.011691\n",
       "MultipleLines_Yes                          0.040033\n",
       "StreamingMovies_Yes                        0.060860\n",
       "StreamingTV_Yes                            0.063254\n",
       "StreamingTV_No                             0.128435\n",
       "StreamingMovies_No                         0.130920\n",
       "Partner_No                                 0.149982\n",
       "SeniorCitizen                              0.150541\n",
       "Dependents_No                              0.163128\n",
       "PaperlessBilling_Yes                       0.191454\n",
       "DeviceProtection_No                        0.252056\n",
       "OnlineBackup_No                            0.267595\n",
       "PaymentMethod_Electronic check             0.301455\n",
       "InternetService_Fiber optic                0.307463\n",
       "TechSupport_No                             0.336877\n",
       "OnlineSecurity_No                          0.342235\n",
       "Contract_Month-to-month                    0.404565\n",
       "Name: Churn_Yes, dtype: float64"
      ]
     },
     "execution_count": 41,
     "metadata": {},
     "output_type": "execute_result"
    }
   ],
   "source": [
    "corr_yes_churn"
   ]
  },
  {
   "cell_type": "code",
   "execution_count": 42,
   "id": "2a29dab6-39da-4360-9a5d-f5d336001448",
   "metadata": {},
   "outputs": [
    {
     "data": {
      "image/png": "[encoded data removed]",
      "text/plain": [
       "<Figure size 864x432 with 1 Axes>"
      ]
     },
     "metadata": {
      "needs_background": "light"
     },
     "output_type": "display_data"
    }
   ],
   "source": [
    "plt.figure(figsize=(12,6))\n",
    "plt.title('Features correlation with churn yes')\n",
    "sns.barplot(x = corr_yes_churn.index, y = corr_yes_churn.values)\n",
    "plt.xticks(rotation = 90);"
   ]
  },
  {
   "cell_type": "markdown",
   "id": "8b85a21a-ce02-4615-84f0-0c6bc2b4a385",
   "metadata": {},
   "source": [
    "# Churn analysis"
   ]
  },
  {
   "cell_type": "markdown",
   "id": "995a80e5-69c8-4866-93f4-72f2fc03961b",
   "metadata": {},
   "source": [
    "# Churn analysis focuses on segmenting customers based on their tenure, creating 'cohorts, allowing us to examine diffference b/w customer cohort segments'"
   ]
  },
  {
   "cell_type": "markdown",
   "id": "fc6f7622-8360-4c60-8b11-b0bd32eee380",
   "metadata": {},
   "source": [
    " # 3 contract types available?"
   ]
  },
  {
   "cell_type": "code",
   "execution_count": 43,
   "id": "ea21a633-be62-4ea7-ad43-c4f089189617",
   "metadata": {},
   "outputs": [
    {
     "data": {
      "text/html": [
       "<div>\n",
       "<style scoped>\n",
       "    .dataframe tbody tr th:only-of-type {\n",
       "        vertical-align: middle;\n",
       "    }\n",
       "\n",
       "    .dataframe tbody tr th {\n",
       "        vertical-align: top;\n",
       "    }\n",
       "\n",
       "    .dataframe thead th {\n",
       "        text-align: right;\n",
       "    }\n",
       "</style>\n",
       "<table border=\"1\" class=\"dataframe\">\n",
       "  <thead>\n",
       "    <tr style=\"text-align: right;\">\n",
       "      <th></th>\n",
       "      <th>customerID</th>\n",
       "      <th>gender</th>\n",
       "      <th>SeniorCitizen</th>\n",
       "      <th>Partner</th>\n",
       "      <th>Dependents</th>\n",
       "      <th>tenure</th>\n",
       "      <th>PhoneService</th>\n",
       "      <th>MultipleLines</th>\n",
       "      <th>InternetService</th>\n",
       "      <th>OnlineSecurity</th>\n",
       "      <th>...</th>\n",
       "      <th>DeviceProtection</th>\n",
       "      <th>TechSupport</th>\n",
       "      <th>StreamingTV</th>\n",
       "      <th>StreamingMovies</th>\n",
       "      <th>Contract</th>\n",
       "      <th>PaperlessBilling</th>\n",
       "      <th>PaymentMethod</th>\n",
       "      <th>MonthlyCharges</th>\n",
       "      <th>TotalCharges</th>\n",
       "      <th>Churn</th>\n",
       "    </tr>\n",
       "  </thead>\n",
       "  <tbody>\n",
       "    <tr>\n",
       "      <th>0</th>\n",
       "      <td>7590-VHVEG</td>\n",
       "      <td>Female</td>\n",
       "      <td>0</td>\n",
       "      <td>Yes</td>\n",
       "      <td>No</td>\n",
       "      <td>1</td>\n",
       "      <td>No</td>\n",
       "      <td>No phone service</td>\n",
       "      <td>DSL</td>\n",
       "      <td>No</td>\n",
       "      <td>...</td>\n",
       "      <td>No</td>\n",
       "      <td>No</td>\n",
       "      <td>No</td>\n",
       "      <td>No</td>\n",
       "      <td>Month-to-month</td>\n",
       "      <td>Yes</td>\n",
       "      <td>Electronic check</td>\n",
       "      <td>29.85</td>\n",
       "      <td>29.85</td>\n",
       "      <td>No</td>\n",
       "    </tr>\n",
       "    <tr>\n",
       "      <th>1</th>\n",
       "      <td>5575-GNVDE</td>\n",
       "      <td>Male</td>\n",
       "      <td>0</td>\n",
       "      <td>No</td>\n",
       "      <td>No</td>\n",
       "      <td>34</td>\n",
       "      <td>Yes</td>\n",
       "      <td>No</td>\n",
       "      <td>DSL</td>\n",
       "      <td>Yes</td>\n",
       "      <td>...</td>\n",
       "      <td>Yes</td>\n",
       "      <td>No</td>\n",
       "      <td>No</td>\n",
       "      <td>No</td>\n",
       "      <td>One year</td>\n",
       "      <td>No</td>\n",
       "      <td>Mailed check</td>\n",
       "      <td>56.95</td>\n",
       "      <td>1889.50</td>\n",
       "      <td>No</td>\n",
       "    </tr>\n",
       "  </tbody>\n",
       "</table>\n",
       "<p>2 rows × 21 columns</p>\n",
       "</div>"
      ],
      "text/plain": [
       "   customerID  gender  SeniorCitizen Partner Dependents  tenure PhoneService  \\\n",
       "0  7590-VHVEG  Female              0     Yes         No       1           No   \n",
       "1  5575-GNVDE    Male              0      No         No      34          Yes   \n",
       "\n",
       "      MultipleLines InternetService OnlineSecurity  ... DeviceProtection  \\\n",
       "0  No phone service             DSL             No  ...               No   \n",
       "1                No             DSL            Yes  ...              Yes   \n",
       "\n",
       "  TechSupport StreamingTV StreamingMovies        Contract PaperlessBilling  \\\n",
       "0          No          No              No  Month-to-month              Yes   \n",
       "1          No          No              No        One year               No   \n",
       "\n",
       "      PaymentMethod MonthlyCharges  TotalCharges  Churn  \n",
       "0  Electronic check          29.85         29.85     No  \n",
       "1      Mailed check          56.95       1889.50     No  \n",
       "\n",
       "[2 rows x 21 columns]"
      ]
     },
     "execution_count": 43,
     "metadata": {},
     "output_type": "execute_result"
    }
   ],
   "source": [
    "df.head(2)"
   ]
  },
  {
   "cell_type": "code",
   "execution_count": 44,
   "id": "af31f5c2-8e04-40e9-bfb3-b4e508b5f0f4",
   "metadata": {},
   "outputs": [
    {
     "data": {
      "text/plain": [
       "array(['Month-to-month', 'One year', 'Two year'], dtype=object)"
      ]
     },
     "execution_count": 44,
     "metadata": {},
     "output_type": "execute_result"
    }
   ],
   "source": [
    "df.Contract.unique()"
   ]
  },
  {
   "cell_type": "code",
   "execution_count": 45,
   "id": "11186f9b-baa6-4c3a-b6c7-eeb25e0effd1",
   "metadata": {},
   "outputs": [
    {
     "data": {
      "text/plain": [
       "Month-to-month    3875\n",
       "Two year          1685\n",
       "One year          1472\n",
       "Name: Contract, dtype: int64"
      ]
     },
     "execution_count": 45,
     "metadata": {},
     "output_type": "execute_result"
    }
   ],
   "source": [
    "df.Contract.value_counts()"
   ]
  },
  {
   "cell_type": "code",
   "execution_count": 46,
   "id": "a91e979b-423d-4820-875a-39aaf14cd46b",
   "metadata": {
    "tags": []
   },
   "outputs": [
    {
     "data": {
      "text/plain": [
       "array([ 1, 34,  2, 45,  8, 22, 10, 28, 62, 13, 16, 58, 49, 25, 69, 52, 71,\n",
       "       21, 12, 30, 47, 72, 17, 27,  5, 46, 11, 70, 63, 43, 15, 60, 18, 66,\n",
       "        9,  3, 31, 50, 64, 56,  7, 42, 35, 48, 29, 65, 38, 68, 32, 55, 37,\n",
       "       36, 41,  6,  4, 33, 67, 23, 57, 61, 14, 20, 53, 40, 59, 24, 44, 19,\n",
       "       54, 51, 26, 39], dtype=int64)"
      ]
     },
     "execution_count": 46,
     "metadata": {},
     "output_type": "execute_result"
    }
   ],
   "source": [
    "df.tenure.unique()"
   ]
  },
  {
   "cell_type": "code",
   "execution_count": 47,
   "id": "5dc05cae-ab85-4b37-8aa8-c796f0ad44db",
   "metadata": {},
   "outputs": [
    {
     "data": {
      "text/plain": [
       "1     613\n",
       "72    362\n",
       "2     238\n",
       "3     200\n",
       "4     176\n",
       "     ... \n",
       "38     59\n",
       "28     57\n",
       "39     56\n",
       "44     51\n",
       "36     50\n",
       "Name: tenure, Length: 72, dtype: int64"
      ]
     },
     "execution_count": 47,
     "metadata": {},
     "output_type": "execute_result"
    }
   ],
   "source": [
    "df.tenure.value_counts()"
   ]
  },
  {
   "cell_type": "code",
   "execution_count": 48,
   "id": "8ab332ac-1a20-4d72-9aff-9de5a2421159",
   "metadata": {},
   "outputs": [],
   "source": [
    "#create a distribution of tenure column, which is the amount of months a customer was or has been on a customer"
   ]
  },
  {
   "cell_type": "code",
   "execution_count": 49,
   "id": "68a26942-11ef-4bb4-a340-654662b637d3",
   "metadata": {},
   "outputs": [
    {
     "data": {
      "text/plain": [
       "<AxesSubplot:xlabel='tenure', ylabel='Count'>"
      ]
     },
     "execution_count": 49,
     "metadata": {},
     "output_type": "execute_result"
    },
    {
     "data": {
      "image/png": "[encoded data removed]",
      "text/plain": [
       "<Figure size 432x288 with 1 Axes>"
      ]
     },
     "metadata": {
      "needs_background": "light"
     },
     "output_type": "display_data"
    }
   ],
   "source": [
    "sns.histplot(data = df, x = 'tenure', bins = 50)"
   ]
  },
  {
   "cell_type": "code",
   "execution_count": 50,
   "id": "18515578-bb98-4b7e-8778-6ada8aab4c07",
   "metadata": {},
   "outputs": [],
   "source": [
    "# Lets plot histograms separated by two additional features, churn and contract"
   ]
  },
  {
   "cell_type": "code",
   "execution_count": 51,
   "id": "33d96dd8-05e8-478f-8bfe-e7a80c43d82d",
   "metadata": {},
   "outputs": [
    {
     "data": {
      "text/plain": [
       "<seaborn.axisgrid.FacetGrid at 0x200e6ea22c0>"
      ]
     },
     "execution_count": 51,
     "metadata": {},
     "output_type": "execute_result"
    },
    {
     "data": {
      "image/png": "[encoded data removed]",
      "text/plain": [
       "<Figure size 1080x720 with 6 Axes>"
      ]
     },
     "metadata": {
      "needs_background": "light"
     },
     "output_type": "display_data"
    }
   ],
   "source": [
    "sns.displot(data = df, x = 'tenure', bins = 60, col = 'Contract', row = 'Churn')"
   ]
  },
  {
   "cell_type": "code",
   "execution_count": 52,
   "id": "4179d32f-ad63-43e4-aad8-ff7d84b3ccd6",
   "metadata": {},
   "outputs": [],
   "source": [
    "# Lets plot scatterplot for Total charges vs monthly charges and color hue by churn"
   ]
  },
  {
   "cell_type": "code",
   "execution_count": 53,
   "id": "07c61d88-cd70-4b5d-8546-c0a820a1410f",
   "metadata": {},
   "outputs": [
    {
     "data": {
      "text/plain": [
       "Index(['customerID', 'gender', 'SeniorCitizen', 'Partner', 'Dependents',\n",
       "       'tenure', 'PhoneService', 'MultipleLines', 'InternetService',\n",
       "       'OnlineSecurity', 'OnlineBackup', 'DeviceProtection', 'TechSupport',\n",
       "       'StreamingTV', 'StreamingMovies', 'Contract', 'PaperlessBilling',\n",
       "       'PaymentMethod', 'MonthlyCharges', 'TotalCharges', 'Churn'],\n",
       "      dtype='object')"
      ]
     },
     "execution_count": 53,
     "metadata": {},
     "output_type": "execute_result"
    }
   ],
   "source": [
    "df.columns"
   ]
  },
  {
   "cell_type": "code",
   "execution_count": 54,
   "id": "9ab8cab7-bd88-4f6f-96b4-9b9cee1d6370",
   "metadata": {},
   "outputs": [
    {
     "data": {
      "text/plain": [
       "<AxesSubplot:xlabel='MonthlyCharges', ylabel='TotalCharges'>"
      ]
     },
     "execution_count": 54,
     "metadata": {},
     "output_type": "execute_result"
    },
    {
     "data": {
      "image/png": "[encoded data removed]",
      "text/plain": [
       "<Figure size 720x360 with 1 Axes>"
      ]
     },
     "metadata": {
      "needs_background": "light"
     },
     "output_type": "display_data"
    }
   ],
   "source": [
    "plt.figure(figsize=(10,5))\n",
    "sns.scatterplot(x = 'MonthlyCharges', y = 'TotalCharges', hue = 'Churn', data =df)"
   ]
  },
  {
   "cell_type": "code",
   "execution_count": 55,
   "id": "0a38f19b-bb31-4e76-8080-82113397a6b1",
   "metadata": {},
   "outputs": [],
   "source": [
    "# creating cohorts baseed on tenure"
   ]
  },
  {
   "cell_type": "code",
   "execution_count": 56,
   "id": "ead71e36-af45-4d00-a479-e0f0a0417f45",
   "metadata": {},
   "outputs": [],
   "source": [
    "# Lets begin by treating each unique tenure length, 1 month, 2 momth, 3 month....N months as its own cohort."
   ]
  },
  {
   "cell_type": "code",
   "execution_count": 57,
   "id": "4c81d90a-7c0b-466e-aaa4-d20bfb7fbb93",
   "metadata": {},
   "outputs": [],
   "source": [
    "# calculate the churn rate(percentage that had yes churn)"
   ]
  },
  {
   "cell_type": "code",
   "execution_count": 58,
   "id": "6cdedb4b-b650-451c-a1bc-ce5df8aa6ff8",
   "metadata": {},
   "outputs": [],
   "source": [
    "Yes_churn = df.groupby(['Churn', 'tenure']).count().transpose()['Yes']"
   ]
  },
  {
   "cell_type": "code",
   "execution_count": 59,
   "id": "894efba9-a546-46cb-9148-01da09f318c3",
   "metadata": {},
   "outputs": [],
   "source": [
    "no_churn = df.groupby(['Churn', 'tenure']).count().transpose()['No']"
   ]
  },
  {
   "cell_type": "code",
   "execution_count": 60,
   "id": "e06b5226-3599-4353-b54e-a8d6282ece64",
   "metadata": {},
   "outputs": [
    {
     "data": {
      "text/html": [
       "<div>\n",
       "<style scoped>\n",
       "    .dataframe tbody tr th:only-of-type {\n",
       "        vertical-align: middle;\n",
       "    }\n",
       "\n",
       "    .dataframe tbody tr th {\n",
       "        vertical-align: top;\n",
       "    }\n",
       "\n",
       "    .dataframe thead th {\n",
       "        text-align: right;\n",
       "    }\n",
       "</style>\n",
       "<table border=\"1\" class=\"dataframe\">\n",
       "  <thead>\n",
       "    <tr style=\"text-align: right;\">\n",
       "      <th>tenure</th>\n",
       "      <th>1</th>\n",
       "      <th>2</th>\n",
       "      <th>3</th>\n",
       "      <th>4</th>\n",
       "      <th>5</th>\n",
       "      <th>6</th>\n",
       "      <th>7</th>\n",
       "      <th>8</th>\n",
       "      <th>9</th>\n",
       "      <th>10</th>\n",
       "      <th>...</th>\n",
       "      <th>63</th>\n",
       "      <th>64</th>\n",
       "      <th>65</th>\n",
       "      <th>66</th>\n",
       "      <th>67</th>\n",
       "      <th>68</th>\n",
       "      <th>69</th>\n",
       "      <th>70</th>\n",
       "      <th>71</th>\n",
       "      <th>72</th>\n",
       "    </tr>\n",
       "  </thead>\n",
       "  <tbody>\n",
       "    <tr>\n",
       "      <th>customerID</th>\n",
       "      <td>233</td>\n",
       "      <td>115</td>\n",
       "      <td>106</td>\n",
       "      <td>93</td>\n",
       "      <td>69</td>\n",
       "      <td>70</td>\n",
       "      <td>80</td>\n",
       "      <td>81</td>\n",
       "      <td>73</td>\n",
       "      <td>71</td>\n",
       "      <td>...</td>\n",
       "      <td>68</td>\n",
       "      <td>76</td>\n",
       "      <td>67</td>\n",
       "      <td>76</td>\n",
       "      <td>88</td>\n",
       "      <td>91</td>\n",
       "      <td>87</td>\n",
       "      <td>108</td>\n",
       "      <td>164</td>\n",
       "      <td>356</td>\n",
       "    </tr>\n",
       "    <tr>\n",
       "      <th>gender</th>\n",
       "      <td>233</td>\n",
       "      <td>115</td>\n",
       "      <td>106</td>\n",
       "      <td>93</td>\n",
       "      <td>69</td>\n",
       "      <td>70</td>\n",
       "      <td>80</td>\n",
       "      <td>81</td>\n",
       "      <td>73</td>\n",
       "      <td>71</td>\n",
       "      <td>...</td>\n",
       "      <td>68</td>\n",
       "      <td>76</td>\n",
       "      <td>67</td>\n",
       "      <td>76</td>\n",
       "      <td>88</td>\n",
       "      <td>91</td>\n",
       "      <td>87</td>\n",
       "      <td>108</td>\n",
       "      <td>164</td>\n",
       "      <td>356</td>\n",
       "    </tr>\n",
       "    <tr>\n",
       "      <th>SeniorCitizen</th>\n",
       "      <td>233</td>\n",
       "      <td>115</td>\n",
       "      <td>106</td>\n",
       "      <td>93</td>\n",
       "      <td>69</td>\n",
       "      <td>70</td>\n",
       "      <td>80</td>\n",
       "      <td>81</td>\n",
       "      <td>73</td>\n",
       "      <td>71</td>\n",
       "      <td>...</td>\n",
       "      <td>68</td>\n",
       "      <td>76</td>\n",
       "      <td>67</td>\n",
       "      <td>76</td>\n",
       "      <td>88</td>\n",
       "      <td>91</td>\n",
       "      <td>87</td>\n",
       "      <td>108</td>\n",
       "      <td>164</td>\n",
       "      <td>356</td>\n",
       "    </tr>\n",
       "    <tr>\n",
       "      <th>Partner</th>\n",
       "      <td>233</td>\n",
       "      <td>115</td>\n",
       "      <td>106</td>\n",
       "      <td>93</td>\n",
       "      <td>69</td>\n",
       "      <td>70</td>\n",
       "      <td>80</td>\n",
       "      <td>81</td>\n",
       "      <td>73</td>\n",
       "      <td>71</td>\n",
       "      <td>...</td>\n",
       "      <td>68</td>\n",
       "      <td>76</td>\n",
       "      <td>67</td>\n",
       "      <td>76</td>\n",
       "      <td>88</td>\n",
       "      <td>91</td>\n",
       "      <td>87</td>\n",
       "      <td>108</td>\n",
       "      <td>164</td>\n",
       "      <td>356</td>\n",
       "    </tr>\n",
       "    <tr>\n",
       "      <th>Dependents</th>\n",
       "      <td>233</td>\n",
       "      <td>115</td>\n",
       "      <td>106</td>\n",
       "      <td>93</td>\n",
       "      <td>69</td>\n",
       "      <td>70</td>\n",
       "      <td>80</td>\n",
       "      <td>81</td>\n",
       "      <td>73</td>\n",
       "      <td>71</td>\n",
       "      <td>...</td>\n",
       "      <td>68</td>\n",
       "      <td>76</td>\n",
       "      <td>67</td>\n",
       "      <td>76</td>\n",
       "      <td>88</td>\n",
       "      <td>91</td>\n",
       "      <td>87</td>\n",
       "      <td>108</td>\n",
       "      <td>164</td>\n",
       "      <td>356</td>\n",
       "    </tr>\n",
       "    <tr>\n",
       "      <th>PhoneService</th>\n",
       "      <td>233</td>\n",
       "      <td>115</td>\n",
       "      <td>106</td>\n",
       "      <td>93</td>\n",
       "      <td>69</td>\n",
       "      <td>70</td>\n",
       "      <td>80</td>\n",
       "      <td>81</td>\n",
       "      <td>73</td>\n",
       "      <td>71</td>\n",
       "      <td>...</td>\n",
       "      <td>68</td>\n",
       "      <td>76</td>\n",
       "      <td>67</td>\n",
       "      <td>76</td>\n",
       "      <td>88</td>\n",
       "      <td>91</td>\n",
       "      <td>87</td>\n",
       "      <td>108</td>\n",
       "      <td>164</td>\n",
       "      <td>356</td>\n",
       "    </tr>\n",
       "    <tr>\n",
       "      <th>MultipleLines</th>\n",
       "      <td>233</td>\n",
       "      <td>115</td>\n",
       "      <td>106</td>\n",
       "      <td>93</td>\n",
       "      <td>69</td>\n",
       "      <td>70</td>\n",
       "      <td>80</td>\n",
       "      <td>81</td>\n",
       "      <td>73</td>\n",
       "      <td>71</td>\n",
       "      <td>...</td>\n",
       "      <td>68</td>\n",
       "      <td>76</td>\n",
       "      <td>67</td>\n",
       "      <td>76</td>\n",
       "      <td>88</td>\n",
       "      <td>91</td>\n",
       "      <td>87</td>\n",
       "      <td>108</td>\n",
       "      <td>164</td>\n",
       "      <td>356</td>\n",
       "    </tr>\n",
       "    <tr>\n",
       "      <th>InternetService</th>\n",
       "      <td>233</td>\n",
       "      <td>115</td>\n",
       "      <td>106</td>\n",
       "      <td>93</td>\n",
       "      <td>69</td>\n",
       "      <td>70</td>\n",
       "      <td>80</td>\n",
       "      <td>81</td>\n",
       "      <td>73</td>\n",
       "      <td>71</td>\n",
       "      <td>...</td>\n",
       "      <td>68</td>\n",
       "      <td>76</td>\n",
       "      <td>67</td>\n",
       "      <td>76</td>\n",
       "      <td>88</td>\n",
       "      <td>91</td>\n",
       "      <td>87</td>\n",
       "      <td>108</td>\n",
       "      <td>164</td>\n",
       "      <td>356</td>\n",
       "    </tr>\n",
       "    <tr>\n",
       "      <th>OnlineSecurity</th>\n",
       "      <td>233</td>\n",
       "      <td>115</td>\n",
       "      <td>106</td>\n",
       "      <td>93</td>\n",
       "      <td>69</td>\n",
       "      <td>70</td>\n",
       "      <td>80</td>\n",
       "      <td>81</td>\n",
       "      <td>73</td>\n",
       "      <td>71</td>\n",
       "      <td>...</td>\n",
       "      <td>68</td>\n",
       "      <td>76</td>\n",
       "      <td>67</td>\n",
       "      <td>76</td>\n",
       "      <td>88</td>\n",
       "      <td>91</td>\n",
       "      <td>87</td>\n",
       "      <td>108</td>\n",
       "      <td>164</td>\n",
       "      <td>356</td>\n",
       "    </tr>\n",
       "    <tr>\n",
       "      <th>OnlineBackup</th>\n",
       "      <td>233</td>\n",
       "      <td>115</td>\n",
       "      <td>106</td>\n",
       "      <td>93</td>\n",
       "      <td>69</td>\n",
       "      <td>70</td>\n",
       "      <td>80</td>\n",
       "      <td>81</td>\n",
       "      <td>73</td>\n",
       "      <td>71</td>\n",
       "      <td>...</td>\n",
       "      <td>68</td>\n",
       "      <td>76</td>\n",
       "      <td>67</td>\n",
       "      <td>76</td>\n",
       "      <td>88</td>\n",
       "      <td>91</td>\n",
       "      <td>87</td>\n",
       "      <td>108</td>\n",
       "      <td>164</td>\n",
       "      <td>356</td>\n",
       "    </tr>\n",
       "    <tr>\n",
       "      <th>DeviceProtection</th>\n",
       "      <td>233</td>\n",
       "      <td>115</td>\n",
       "      <td>106</td>\n",
       "      <td>93</td>\n",
       "      <td>69</td>\n",
       "      <td>70</td>\n",
       "      <td>80</td>\n",
       "      <td>81</td>\n",
       "      <td>73</td>\n",
       "      <td>71</td>\n",
       "      <td>...</td>\n",
       "      <td>68</td>\n",
       "      <td>76</td>\n",
       "      <td>67</td>\n",
       "      <td>76</td>\n",
       "      <td>88</td>\n",
       "      <td>91</td>\n",
       "      <td>87</td>\n",
       "      <td>108</td>\n",
       "      <td>164</td>\n",
       "      <td>356</td>\n",
       "    </tr>\n",
       "    <tr>\n",
       "      <th>TechSupport</th>\n",
       "      <td>233</td>\n",
       "      <td>115</td>\n",
       "      <td>106</td>\n",
       "      <td>93</td>\n",
       "      <td>69</td>\n",
       "      <td>70</td>\n",
       "      <td>80</td>\n",
       "      <td>81</td>\n",
       "      <td>73</td>\n",
       "      <td>71</td>\n",
       "      <td>...</td>\n",
       "      <td>68</td>\n",
       "      <td>76</td>\n",
       "      <td>67</td>\n",
       "      <td>76</td>\n",
       "      <td>88</td>\n",
       "      <td>91</td>\n",
       "      <td>87</td>\n",
       "      <td>108</td>\n",
       "      <td>164</td>\n",
       "      <td>356</td>\n",
       "    </tr>\n",
       "    <tr>\n",
       "      <th>StreamingTV</th>\n",
       "      <td>233</td>\n",
       "      <td>115</td>\n",
       "      <td>106</td>\n",
       "      <td>93</td>\n",
       "      <td>69</td>\n",
       "      <td>70</td>\n",
       "      <td>80</td>\n",
       "      <td>81</td>\n",
       "      <td>73</td>\n",
       "      <td>71</td>\n",
       "      <td>...</td>\n",
       "      <td>68</td>\n",
       "      <td>76</td>\n",
       "      <td>67</td>\n",
       "      <td>76</td>\n",
       "      <td>88</td>\n",
       "      <td>91</td>\n",
       "      <td>87</td>\n",
       "      <td>108</td>\n",
       "      <td>164</td>\n",
       "      <td>356</td>\n",
       "    </tr>\n",
       "    <tr>\n",
       "      <th>StreamingMovies</th>\n",
       "      <td>233</td>\n",
       "      <td>115</td>\n",
       "      <td>106</td>\n",
       "      <td>93</td>\n",
       "      <td>69</td>\n",
       "      <td>70</td>\n",
       "      <td>80</td>\n",
       "      <td>81</td>\n",
       "      <td>73</td>\n",
       "      <td>71</td>\n",
       "      <td>...</td>\n",
       "      <td>68</td>\n",
       "      <td>76</td>\n",
       "      <td>67</td>\n",
       "      <td>76</td>\n",
       "      <td>88</td>\n",
       "      <td>91</td>\n",
       "      <td>87</td>\n",
       "      <td>108</td>\n",
       "      <td>164</td>\n",
       "      <td>356</td>\n",
       "    </tr>\n",
       "    <tr>\n",
       "      <th>Contract</th>\n",
       "      <td>233</td>\n",
       "      <td>115</td>\n",
       "      <td>106</td>\n",
       "      <td>93</td>\n",
       "      <td>69</td>\n",
       "      <td>70</td>\n",
       "      <td>80</td>\n",
       "      <td>81</td>\n",
       "      <td>73</td>\n",
       "      <td>71</td>\n",
       "      <td>...</td>\n",
       "      <td>68</td>\n",
       "      <td>76</td>\n",
       "      <td>67</td>\n",
       "      <td>76</td>\n",
       "      <td>88</td>\n",
       "      <td>91</td>\n",
       "      <td>87</td>\n",
       "      <td>108</td>\n",
       "      <td>164</td>\n",
       "      <td>356</td>\n",
       "    </tr>\n",
       "    <tr>\n",
       "      <th>PaperlessBilling</th>\n",
       "      <td>233</td>\n",
       "      <td>115</td>\n",
       "      <td>106</td>\n",
       "      <td>93</td>\n",
       "      <td>69</td>\n",
       "      <td>70</td>\n",
       "      <td>80</td>\n",
       "      <td>81</td>\n",
       "      <td>73</td>\n",
       "      <td>71</td>\n",
       "      <td>...</td>\n",
       "      <td>68</td>\n",
       "      <td>76</td>\n",
       "      <td>67</td>\n",
       "      <td>76</td>\n",
       "      <td>88</td>\n",
       "      <td>91</td>\n",
       "      <td>87</td>\n",
       "      <td>108</td>\n",
       "      <td>164</td>\n",
       "      <td>356</td>\n",
       "    </tr>\n",
       "    <tr>\n",
       "      <th>PaymentMethod</th>\n",
       "      <td>233</td>\n",
       "      <td>115</td>\n",
       "      <td>106</td>\n",
       "      <td>93</td>\n",
       "      <td>69</td>\n",
       "      <td>70</td>\n",
       "      <td>80</td>\n",
       "      <td>81</td>\n",
       "      <td>73</td>\n",
       "      <td>71</td>\n",
       "      <td>...</td>\n",
       "      <td>68</td>\n",
       "      <td>76</td>\n",
       "      <td>67</td>\n",
       "      <td>76</td>\n",
       "      <td>88</td>\n",
       "      <td>91</td>\n",
       "      <td>87</td>\n",
       "      <td>108</td>\n",
       "      <td>164</td>\n",
       "      <td>356</td>\n",
       "    </tr>\n",
       "    <tr>\n",
       "      <th>MonthlyCharges</th>\n",
       "      <td>233</td>\n",
       "      <td>115</td>\n",
       "      <td>106</td>\n",
       "      <td>93</td>\n",
       "      <td>69</td>\n",
       "      <td>70</td>\n",
       "      <td>80</td>\n",
       "      <td>81</td>\n",
       "      <td>73</td>\n",
       "      <td>71</td>\n",
       "      <td>...</td>\n",
       "      <td>68</td>\n",
       "      <td>76</td>\n",
       "      <td>67</td>\n",
       "      <td>76</td>\n",
       "      <td>88</td>\n",
       "      <td>91</td>\n",
       "      <td>87</td>\n",
       "      <td>108</td>\n",
       "      <td>164</td>\n",
       "      <td>356</td>\n",
       "    </tr>\n",
       "    <tr>\n",
       "      <th>TotalCharges</th>\n",
       "      <td>233</td>\n",
       "      <td>115</td>\n",
       "      <td>106</td>\n",
       "      <td>93</td>\n",
       "      <td>69</td>\n",
       "      <td>70</td>\n",
       "      <td>80</td>\n",
       "      <td>81</td>\n",
       "      <td>73</td>\n",
       "      <td>71</td>\n",
       "      <td>...</td>\n",
       "      <td>68</td>\n",
       "      <td>76</td>\n",
       "      <td>67</td>\n",
       "      <td>76</td>\n",
       "      <td>88</td>\n",
       "      <td>91</td>\n",
       "      <td>87</td>\n",
       "      <td>108</td>\n",
       "      <td>164</td>\n",
       "      <td>356</td>\n",
       "    </tr>\n",
       "  </tbody>\n",
       "</table>\n",
       "<p>19 rows × 72 columns</p>\n",
       "</div>"
      ],
      "text/plain": [
       "tenure             1    2    3   4   5   6   7   8   9   10  ...  63  64  65  \\\n",
       "customerID        233  115  106  93  69  70  80  81  73  71  ...  68  76  67   \n",
       "gender            233  115  106  93  69  70  80  81  73  71  ...  68  76  67   \n",
       "SeniorCitizen     233  115  106  93  69  70  80  81  73  71  ...  68  76  67   \n",
       "Partner           233  115  106  93  69  70  80  81  73  71  ...  68  76  67   \n",
       "Dependents        233  115  106  93  69  70  80  81  73  71  ...  68  76  67   \n",
       "PhoneService      233  115  106  93  69  70  80  81  73  71  ...  68  76  67   \n",
       "MultipleLines     233  115  106  93  69  70  80  81  73  71  ...  68  76  67   \n",
       "InternetService   233  115  106  93  69  70  80  81  73  71  ...  68  76  67   \n",
       "OnlineSecurity    233  115  106  93  69  70  80  81  73  71  ...  68  76  67   \n",
       "OnlineBackup      233  115  106  93  69  70  80  81  73  71  ...  68  76  67   \n",
       "DeviceProtection  233  115  106  93  69  70  80  81  73  71  ...  68  76  67   \n",
       "TechSupport       233  115  106  93  69  70  80  81  73  71  ...  68  76  67   \n",
       "StreamingTV       233  115  106  93  69  70  80  81  73  71  ...  68  76  67   \n",
       "StreamingMovies   233  115  106  93  69  70  80  81  73  71  ...  68  76  67   \n",
       "Contract          233  115  106  93  69  70  80  81  73  71  ...  68  76  67   \n",
       "PaperlessBilling  233  115  106  93  69  70  80  81  73  71  ...  68  76  67   \n",
       "PaymentMethod     233  115  106  93  69  70  80  81  73  71  ...  68  76  67   \n",
       "MonthlyCharges    233  115  106  93  69  70  80  81  73  71  ...  68  76  67   \n",
       "TotalCharges      233  115  106  93  69  70  80  81  73  71  ...  68  76  67   \n",
       "\n",
       "tenure            66  67  68  69   70   71   72  \n",
       "customerID        76  88  91  87  108  164  356  \n",
       "gender            76  88  91  87  108  164  356  \n",
       "SeniorCitizen     76  88  91  87  108  164  356  \n",
       "Partner           76  88  91  87  108  164  356  \n",
       "Dependents        76  88  91  87  108  164  356  \n",
       "PhoneService      76  88  91  87  108  164  356  \n",
       "MultipleLines     76  88  91  87  108  164  356  \n",
       "InternetService   76  88  91  87  108  164  356  \n",
       "OnlineSecurity    76  88  91  87  108  164  356  \n",
       "OnlineBackup      76  88  91  87  108  164  356  \n",
       "DeviceProtection  76  88  91  87  108  164  356  \n",
       "TechSupport       76  88  91  87  108  164  356  \n",
       "StreamingTV       76  88  91  87  108  164  356  \n",
       "StreamingMovies   76  88  91  87  108  164  356  \n",
       "Contract          76  88  91  87  108  164  356  \n",
       "PaperlessBilling  76  88  91  87  108  164  356  \n",
       "PaymentMethod     76  88  91  87  108  164  356  \n",
       "MonthlyCharges    76  88  91  87  108  164  356  \n",
       "TotalCharges      76  88  91  87  108  164  356  \n",
       "\n",
       "[19 rows x 72 columns]"
      ]
     },
     "execution_count": 60,
     "metadata": {},
     "output_type": "execute_result"
    }
   ],
   "source": [
    "no_churn"
   ]
  },
  {
   "cell_type": "code",
   "execution_count": 61,
   "id": "d11c9b23-f69b-4039-b363-a9362c3ce451",
   "metadata": {},
   "outputs": [],
   "source": [
    "churn_rate = Yes_churn/(no_churn+Yes_churn)*100"
   ]
  },
  {
   "cell_type": "code",
   "execution_count": 62,
   "id": "9783c51e-c9ee-403b-93cf-67038d351f24",
   "metadata": {},
   "outputs": [
    {
     "data": {
      "text/html": [
       "<div>\n",
       "<style scoped>\n",
       "    .dataframe tbody tr th:only-of-type {\n",
       "        vertical-align: middle;\n",
       "    }\n",
       "\n",
       "    .dataframe tbody tr th {\n",
       "        vertical-align: top;\n",
       "    }\n",
       "\n",
       "    .dataframe thead th {\n",
       "        text-align: right;\n",
       "    }\n",
       "</style>\n",
       "<table border=\"1\" class=\"dataframe\">\n",
       "  <thead>\n",
       "    <tr style=\"text-align: right;\">\n",
       "      <th>tenure</th>\n",
       "      <th>1</th>\n",
       "      <th>2</th>\n",
       "      <th>3</th>\n",
       "      <th>4</th>\n",
       "      <th>5</th>\n",
       "      <th>6</th>\n",
       "      <th>7</th>\n",
       "      <th>8</th>\n",
       "      <th>9</th>\n",
       "      <th>10</th>\n",
       "      <th>...</th>\n",
       "      <th>63</th>\n",
       "      <th>64</th>\n",
       "      <th>65</th>\n",
       "      <th>66</th>\n",
       "      <th>67</th>\n",
       "      <th>68</th>\n",
       "      <th>69</th>\n",
       "      <th>70</th>\n",
       "      <th>71</th>\n",
       "      <th>72</th>\n",
       "    </tr>\n",
       "  </thead>\n",
       "  <tbody>\n",
       "    <tr>\n",
       "      <th>customerID</th>\n",
       "      <td>61.990212</td>\n",
       "      <td>51.680672</td>\n",
       "      <td>47.0</td>\n",
       "      <td>47.159091</td>\n",
       "      <td>48.120301</td>\n",
       "      <td>36.363636</td>\n",
       "      <td>38.931298</td>\n",
       "      <td>34.146341</td>\n",
       "      <td>38.655462</td>\n",
       "      <td>38.793103</td>\n",
       "      <td>...</td>\n",
       "      <td>5.555556</td>\n",
       "      <td>5.0</td>\n",
       "      <td>11.842105</td>\n",
       "      <td>14.606742</td>\n",
       "      <td>10.204082</td>\n",
       "      <td>9.0</td>\n",
       "      <td>8.421053</td>\n",
       "      <td>9.243697</td>\n",
       "      <td>3.529412</td>\n",
       "      <td>1.657459</td>\n",
       "    </tr>\n",
       "    <tr>\n",
       "      <th>gender</th>\n",
       "      <td>61.990212</td>\n",
       "      <td>51.680672</td>\n",
       "      <td>47.0</td>\n",
       "      <td>47.159091</td>\n",
       "      <td>48.120301</td>\n",
       "      <td>36.363636</td>\n",
       "      <td>38.931298</td>\n",
       "      <td>34.146341</td>\n",
       "      <td>38.655462</td>\n",
       "      <td>38.793103</td>\n",
       "      <td>...</td>\n",
       "      <td>5.555556</td>\n",
       "      <td>5.0</td>\n",
       "      <td>11.842105</td>\n",
       "      <td>14.606742</td>\n",
       "      <td>10.204082</td>\n",
       "      <td>9.0</td>\n",
       "      <td>8.421053</td>\n",
       "      <td>9.243697</td>\n",
       "      <td>3.529412</td>\n",
       "      <td>1.657459</td>\n",
       "    </tr>\n",
       "    <tr>\n",
       "      <th>SeniorCitizen</th>\n",
       "      <td>61.990212</td>\n",
       "      <td>51.680672</td>\n",
       "      <td>47.0</td>\n",
       "      <td>47.159091</td>\n",
       "      <td>48.120301</td>\n",
       "      <td>36.363636</td>\n",
       "      <td>38.931298</td>\n",
       "      <td>34.146341</td>\n",
       "      <td>38.655462</td>\n",
       "      <td>38.793103</td>\n",
       "      <td>...</td>\n",
       "      <td>5.555556</td>\n",
       "      <td>5.0</td>\n",
       "      <td>11.842105</td>\n",
       "      <td>14.606742</td>\n",
       "      <td>10.204082</td>\n",
       "      <td>9.0</td>\n",
       "      <td>8.421053</td>\n",
       "      <td>9.243697</td>\n",
       "      <td>3.529412</td>\n",
       "      <td>1.657459</td>\n",
       "    </tr>\n",
       "    <tr>\n",
       "      <th>Partner</th>\n",
       "      <td>61.990212</td>\n",
       "      <td>51.680672</td>\n",
       "      <td>47.0</td>\n",
       "      <td>47.159091</td>\n",
       "      <td>48.120301</td>\n",
       "      <td>36.363636</td>\n",
       "      <td>38.931298</td>\n",
       "      <td>34.146341</td>\n",
       "      <td>38.655462</td>\n",
       "      <td>38.793103</td>\n",
       "      <td>...</td>\n",
       "      <td>5.555556</td>\n",
       "      <td>5.0</td>\n",
       "      <td>11.842105</td>\n",
       "      <td>14.606742</td>\n",
       "      <td>10.204082</td>\n",
       "      <td>9.0</td>\n",
       "      <td>8.421053</td>\n",
       "      <td>9.243697</td>\n",
       "      <td>3.529412</td>\n",
       "      <td>1.657459</td>\n",
       "    </tr>\n",
       "    <tr>\n",
       "      <th>Dependents</th>\n",
       "      <td>61.990212</td>\n",
       "      <td>51.680672</td>\n",
       "      <td>47.0</td>\n",
       "      <td>47.159091</td>\n",
       "      <td>48.120301</td>\n",
       "      <td>36.363636</td>\n",
       "      <td>38.931298</td>\n",
       "      <td>34.146341</td>\n",
       "      <td>38.655462</td>\n",
       "      <td>38.793103</td>\n",
       "      <td>...</td>\n",
       "      <td>5.555556</td>\n",
       "      <td>5.0</td>\n",
       "      <td>11.842105</td>\n",
       "      <td>14.606742</td>\n",
       "      <td>10.204082</td>\n",
       "      <td>9.0</td>\n",
       "      <td>8.421053</td>\n",
       "      <td>9.243697</td>\n",
       "      <td>3.529412</td>\n",
       "      <td>1.657459</td>\n",
       "    </tr>\n",
       "    <tr>\n",
       "      <th>PhoneService</th>\n",
       "      <td>61.990212</td>\n",
       "      <td>51.680672</td>\n",
       "      <td>47.0</td>\n",
       "      <td>47.159091</td>\n",
       "      <td>48.120301</td>\n",
       "      <td>36.363636</td>\n",
       "      <td>38.931298</td>\n",
       "      <td>34.146341</td>\n",
       "      <td>38.655462</td>\n",
       "      <td>38.793103</td>\n",
       "      <td>...</td>\n",
       "      <td>5.555556</td>\n",
       "      <td>5.0</td>\n",
       "      <td>11.842105</td>\n",
       "      <td>14.606742</td>\n",
       "      <td>10.204082</td>\n",
       "      <td>9.0</td>\n",
       "      <td>8.421053</td>\n",
       "      <td>9.243697</td>\n",
       "      <td>3.529412</td>\n",
       "      <td>1.657459</td>\n",
       "    </tr>\n",
       "    <tr>\n",
       "      <th>MultipleLines</th>\n",
       "      <td>61.990212</td>\n",
       "      <td>51.680672</td>\n",
       "      <td>47.0</td>\n",
       "      <td>47.159091</td>\n",
       "      <td>48.120301</td>\n",
       "      <td>36.363636</td>\n",
       "      <td>38.931298</td>\n",
       "      <td>34.146341</td>\n",
       "      <td>38.655462</td>\n",
       "      <td>38.793103</td>\n",
       "      <td>...</td>\n",
       "      <td>5.555556</td>\n",
       "      <td>5.0</td>\n",
       "      <td>11.842105</td>\n",
       "      <td>14.606742</td>\n",
       "      <td>10.204082</td>\n",
       "      <td>9.0</td>\n",
       "      <td>8.421053</td>\n",
       "      <td>9.243697</td>\n",
       "      <td>3.529412</td>\n",
       "      <td>1.657459</td>\n",
       "    </tr>\n",
       "    <tr>\n",
       "      <th>InternetService</th>\n",
       "      <td>61.990212</td>\n",
       "      <td>51.680672</td>\n",
       "      <td>47.0</td>\n",
       "      <td>47.159091</td>\n",
       "      <td>48.120301</td>\n",
       "      <td>36.363636</td>\n",
       "      <td>38.931298</td>\n",
       "      <td>34.146341</td>\n",
       "      <td>38.655462</td>\n",
       "      <td>38.793103</td>\n",
       "      <td>...</td>\n",
       "      <td>5.555556</td>\n",
       "      <td>5.0</td>\n",
       "      <td>11.842105</td>\n",
       "      <td>14.606742</td>\n",
       "      <td>10.204082</td>\n",
       "      <td>9.0</td>\n",
       "      <td>8.421053</td>\n",
       "      <td>9.243697</td>\n",
       "      <td>3.529412</td>\n",
       "      <td>1.657459</td>\n",
       "    </tr>\n",
       "    <tr>\n",
       "      <th>OnlineSecurity</th>\n",
       "      <td>61.990212</td>\n",
       "      <td>51.680672</td>\n",
       "      <td>47.0</td>\n",
       "      <td>47.159091</td>\n",
       "      <td>48.120301</td>\n",
       "      <td>36.363636</td>\n",
       "      <td>38.931298</td>\n",
       "      <td>34.146341</td>\n",
       "      <td>38.655462</td>\n",
       "      <td>38.793103</td>\n",
       "      <td>...</td>\n",
       "      <td>5.555556</td>\n",
       "      <td>5.0</td>\n",
       "      <td>11.842105</td>\n",
       "      <td>14.606742</td>\n",
       "      <td>10.204082</td>\n",
       "      <td>9.0</td>\n",
       "      <td>8.421053</td>\n",
       "      <td>9.243697</td>\n",
       "      <td>3.529412</td>\n",
       "      <td>1.657459</td>\n",
       "    </tr>\n",
       "    <tr>\n",
       "      <th>OnlineBackup</th>\n",
       "      <td>61.990212</td>\n",
       "      <td>51.680672</td>\n",
       "      <td>47.0</td>\n",
       "      <td>47.159091</td>\n",
       "      <td>48.120301</td>\n",
       "      <td>36.363636</td>\n",
       "      <td>38.931298</td>\n",
       "      <td>34.146341</td>\n",
       "      <td>38.655462</td>\n",
       "      <td>38.793103</td>\n",
       "      <td>...</td>\n",
       "      <td>5.555556</td>\n",
       "      <td>5.0</td>\n",
       "      <td>11.842105</td>\n",
       "      <td>14.606742</td>\n",
       "      <td>10.204082</td>\n",
       "      <td>9.0</td>\n",
       "      <td>8.421053</td>\n",
       "      <td>9.243697</td>\n",
       "      <td>3.529412</td>\n",
       "      <td>1.657459</td>\n",
       "    </tr>\n",
       "    <tr>\n",
       "      <th>DeviceProtection</th>\n",
       "      <td>61.990212</td>\n",
       "      <td>51.680672</td>\n",
       "      <td>47.0</td>\n",
       "      <td>47.159091</td>\n",
       "      <td>48.120301</td>\n",
       "      <td>36.363636</td>\n",
       "      <td>38.931298</td>\n",
       "      <td>34.146341</td>\n",
       "      <td>38.655462</td>\n",
       "      <td>38.793103</td>\n",
       "      <td>...</td>\n",
       "      <td>5.555556</td>\n",
       "      <td>5.0</td>\n",
       "      <td>11.842105</td>\n",
       "      <td>14.606742</td>\n",
       "      <td>10.204082</td>\n",
       "      <td>9.0</td>\n",
       "      <td>8.421053</td>\n",
       "      <td>9.243697</td>\n",
       "      <td>3.529412</td>\n",
       "      <td>1.657459</td>\n",
       "    </tr>\n",
       "    <tr>\n",
       "      <th>TechSupport</th>\n",
       "      <td>61.990212</td>\n",
       "      <td>51.680672</td>\n",
       "      <td>47.0</td>\n",
       "      <td>47.159091</td>\n",
       "      <td>48.120301</td>\n",
       "      <td>36.363636</td>\n",
       "      <td>38.931298</td>\n",
       "      <td>34.146341</td>\n",
       "      <td>38.655462</td>\n",
       "      <td>38.793103</td>\n",
       "      <td>...</td>\n",
       "      <td>5.555556</td>\n",
       "      <td>5.0</td>\n",
       "      <td>11.842105</td>\n",
       "      <td>14.606742</td>\n",
       "      <td>10.204082</td>\n",
       "      <td>9.0</td>\n",
       "      <td>8.421053</td>\n",
       "      <td>9.243697</td>\n",
       "      <td>3.529412</td>\n",
       "      <td>1.657459</td>\n",
       "    </tr>\n",
       "    <tr>\n",
       "      <th>StreamingTV</th>\n",
       "      <td>61.990212</td>\n",
       "      <td>51.680672</td>\n",
       "      <td>47.0</td>\n",
       "      <td>47.159091</td>\n",
       "      <td>48.120301</td>\n",
       "      <td>36.363636</td>\n",
       "      <td>38.931298</td>\n",
       "      <td>34.146341</td>\n",
       "      <td>38.655462</td>\n",
       "      <td>38.793103</td>\n",
       "      <td>...</td>\n",
       "      <td>5.555556</td>\n",
       "      <td>5.0</td>\n",
       "      <td>11.842105</td>\n",
       "      <td>14.606742</td>\n",
       "      <td>10.204082</td>\n",
       "      <td>9.0</td>\n",
       "      <td>8.421053</td>\n",
       "      <td>9.243697</td>\n",
       "      <td>3.529412</td>\n",
       "      <td>1.657459</td>\n",
       "    </tr>\n",
       "    <tr>\n",
       "      <th>StreamingMovies</th>\n",
       "      <td>61.990212</td>\n",
       "      <td>51.680672</td>\n",
       "      <td>47.0</td>\n",
       "      <td>47.159091</td>\n",
       "      <td>48.120301</td>\n",
       "      <td>36.363636</td>\n",
       "      <td>38.931298</td>\n",
       "      <td>34.146341</td>\n",
       "      <td>38.655462</td>\n",
       "      <td>38.793103</td>\n",
       "      <td>...</td>\n",
       "      <td>5.555556</td>\n",
       "      <td>5.0</td>\n",
       "      <td>11.842105</td>\n",
       "      <td>14.606742</td>\n",
       "      <td>10.204082</td>\n",
       "      <td>9.0</td>\n",
       "      <td>8.421053</td>\n",
       "      <td>9.243697</td>\n",
       "      <td>3.529412</td>\n",
       "      <td>1.657459</td>\n",
       "    </tr>\n",
       "    <tr>\n",
       "      <th>Contract</th>\n",
       "      <td>61.990212</td>\n",
       "      <td>51.680672</td>\n",
       "      <td>47.0</td>\n",
       "      <td>47.159091</td>\n",
       "      <td>48.120301</td>\n",
       "      <td>36.363636</td>\n",
       "      <td>38.931298</td>\n",
       "      <td>34.146341</td>\n",
       "      <td>38.655462</td>\n",
       "      <td>38.793103</td>\n",
       "      <td>...</td>\n",
       "      <td>5.555556</td>\n",
       "      <td>5.0</td>\n",
       "      <td>11.842105</td>\n",
       "      <td>14.606742</td>\n",
       "      <td>10.204082</td>\n",
       "      <td>9.0</td>\n",
       "      <td>8.421053</td>\n",
       "      <td>9.243697</td>\n",
       "      <td>3.529412</td>\n",
       "      <td>1.657459</td>\n",
       "    </tr>\n",
       "    <tr>\n",
       "      <th>PaperlessBilling</th>\n",
       "      <td>61.990212</td>\n",
       "      <td>51.680672</td>\n",
       "      <td>47.0</td>\n",
       "      <td>47.159091</td>\n",
       "      <td>48.120301</td>\n",
       "      <td>36.363636</td>\n",
       "      <td>38.931298</td>\n",
       "      <td>34.146341</td>\n",
       "      <td>38.655462</td>\n",
       "      <td>38.793103</td>\n",
       "      <td>...</td>\n",
       "      <td>5.555556</td>\n",
       "      <td>5.0</td>\n",
       "      <td>11.842105</td>\n",
       "      <td>14.606742</td>\n",
       "      <td>10.204082</td>\n",
       "      <td>9.0</td>\n",
       "      <td>8.421053</td>\n",
       "      <td>9.243697</td>\n",
       "      <td>3.529412</td>\n",
       "      <td>1.657459</td>\n",
       "    </tr>\n",
       "    <tr>\n",
       "      <th>PaymentMethod</th>\n",
       "      <td>61.990212</td>\n",
       "      <td>51.680672</td>\n",
       "      <td>47.0</td>\n",
       "      <td>47.159091</td>\n",
       "      <td>48.120301</td>\n",
       "      <td>36.363636</td>\n",
       "      <td>38.931298</td>\n",
       "      <td>34.146341</td>\n",
       "      <td>38.655462</td>\n",
       "      <td>38.793103</td>\n",
       "      <td>...</td>\n",
       "      <td>5.555556</td>\n",
       "      <td>5.0</td>\n",
       "      <td>11.842105</td>\n",
       "      <td>14.606742</td>\n",
       "      <td>10.204082</td>\n",
       "      <td>9.0</td>\n",
       "      <td>8.421053</td>\n",
       "      <td>9.243697</td>\n",
       "      <td>3.529412</td>\n",
       "      <td>1.657459</td>\n",
       "    </tr>\n",
       "    <tr>\n",
       "      <th>MonthlyCharges</th>\n",
       "      <td>61.990212</td>\n",
       "      <td>51.680672</td>\n",
       "      <td>47.0</td>\n",
       "      <td>47.159091</td>\n",
       "      <td>48.120301</td>\n",
       "      <td>36.363636</td>\n",
       "      <td>38.931298</td>\n",
       "      <td>34.146341</td>\n",
       "      <td>38.655462</td>\n",
       "      <td>38.793103</td>\n",
       "      <td>...</td>\n",
       "      <td>5.555556</td>\n",
       "      <td>5.0</td>\n",
       "      <td>11.842105</td>\n",
       "      <td>14.606742</td>\n",
       "      <td>10.204082</td>\n",
       "      <td>9.0</td>\n",
       "      <td>8.421053</td>\n",
       "      <td>9.243697</td>\n",
       "      <td>3.529412</td>\n",
       "      <td>1.657459</td>\n",
       "    </tr>\n",
       "    <tr>\n",
       "      <th>TotalCharges</th>\n",
       "      <td>61.990212</td>\n",
       "      <td>51.680672</td>\n",
       "      <td>47.0</td>\n",
       "      <td>47.159091</td>\n",
       "      <td>48.120301</td>\n",
       "      <td>36.363636</td>\n",
       "      <td>38.931298</td>\n",
       "      <td>34.146341</td>\n",
       "      <td>38.655462</td>\n",
       "      <td>38.793103</td>\n",
       "      <td>...</td>\n",
       "      <td>5.555556</td>\n",
       "      <td>5.0</td>\n",
       "      <td>11.842105</td>\n",
       "      <td>14.606742</td>\n",
       "      <td>10.204082</td>\n",
       "      <td>9.0</td>\n",
       "      <td>8.421053</td>\n",
       "      <td>9.243697</td>\n",
       "      <td>3.529412</td>\n",
       "      <td>1.657459</td>\n",
       "    </tr>\n",
       "  </tbody>\n",
       "</table>\n",
       "<p>19 rows × 72 columns</p>\n",
       "</div>"
      ],
      "text/plain": [
       "tenure                   1          2     3          4          5          6   \\\n",
       "customerID        61.990212  51.680672  47.0  47.159091  48.120301  36.363636   \n",
       "gender            61.990212  51.680672  47.0  47.159091  48.120301  36.363636   \n",
       "SeniorCitizen     61.990212  51.680672  47.0  47.159091  48.120301  36.363636   \n",
       "Partner           61.990212  51.680672  47.0  47.159091  48.120301  36.363636   \n",
       "Dependents        61.990212  51.680672  47.0  47.159091  48.120301  36.363636   \n",
       "PhoneService      61.990212  51.680672  47.0  47.159091  48.120301  36.363636   \n",
       "MultipleLines     61.990212  51.680672  47.0  47.159091  48.120301  36.363636   \n",
       "InternetService   61.990212  51.680672  47.0  47.159091  48.120301  36.363636   \n",
       "OnlineSecurity    61.990212  51.680672  47.0  47.159091  48.120301  36.363636   \n",
       "OnlineBackup      61.990212  51.680672  47.0  47.159091  48.120301  36.363636   \n",
       "DeviceProtection  61.990212  51.680672  47.0  47.159091  48.120301  36.363636   \n",
       "TechSupport       61.990212  51.680672  47.0  47.159091  48.120301  36.363636   \n",
       "StreamingTV       61.990212  51.680672  47.0  47.159091  48.120301  36.363636   \n",
       "StreamingMovies   61.990212  51.680672  47.0  47.159091  48.120301  36.363636   \n",
       "Contract          61.990212  51.680672  47.0  47.159091  48.120301  36.363636   \n",
       "PaperlessBilling  61.990212  51.680672  47.0  47.159091  48.120301  36.363636   \n",
       "PaymentMethod     61.990212  51.680672  47.0  47.159091  48.120301  36.363636   \n",
       "MonthlyCharges    61.990212  51.680672  47.0  47.159091  48.120301  36.363636   \n",
       "TotalCharges      61.990212  51.680672  47.0  47.159091  48.120301  36.363636   \n",
       "\n",
       "tenure                   7          8          9          10  ...        63  \\\n",
       "customerID        38.931298  34.146341  38.655462  38.793103  ...  5.555556   \n",
       "gender            38.931298  34.146341  38.655462  38.793103  ...  5.555556   \n",
       "SeniorCitizen     38.931298  34.146341  38.655462  38.793103  ...  5.555556   \n",
       "Partner           38.931298  34.146341  38.655462  38.793103  ...  5.555556   \n",
       "Dependents        38.931298  34.146341  38.655462  38.793103  ...  5.555556   \n",
       "PhoneService      38.931298  34.146341  38.655462  38.793103  ...  5.555556   \n",
       "MultipleLines     38.931298  34.146341  38.655462  38.793103  ...  5.555556   \n",
       "InternetService   38.931298  34.146341  38.655462  38.793103  ...  5.555556   \n",
       "OnlineSecurity    38.931298  34.146341  38.655462  38.793103  ...  5.555556   \n",
       "OnlineBackup      38.931298  34.146341  38.655462  38.793103  ...  5.555556   \n",
       "DeviceProtection  38.931298  34.146341  38.655462  38.793103  ...  5.555556   \n",
       "TechSupport       38.931298  34.146341  38.655462  38.793103  ...  5.555556   \n",
       "StreamingTV       38.931298  34.146341  38.655462  38.793103  ...  5.555556   \n",
       "StreamingMovies   38.931298  34.146341  38.655462  38.793103  ...  5.555556   \n",
       "Contract          38.931298  34.146341  38.655462  38.793103  ...  5.555556   \n",
       "PaperlessBilling  38.931298  34.146341  38.655462  38.793103  ...  5.555556   \n",
       "PaymentMethod     38.931298  34.146341  38.655462  38.793103  ...  5.555556   \n",
       "MonthlyCharges    38.931298  34.146341  38.655462  38.793103  ...  5.555556   \n",
       "TotalCharges      38.931298  34.146341  38.655462  38.793103  ...  5.555556   \n",
       "\n",
       "tenure             64         65         66         67   68        69  \\\n",
       "customerID        5.0  11.842105  14.606742  10.204082  9.0  8.421053   \n",
       "gender            5.0  11.842105  14.606742  10.204082  9.0  8.421053   \n",
       "SeniorCitizen     5.0  11.842105  14.606742  10.204082  9.0  8.421053   \n",
       "Partner           5.0  11.842105  14.606742  10.204082  9.0  8.421053   \n",
       "Dependents        5.0  11.842105  14.606742  10.204082  9.0  8.421053   \n",
       "PhoneService      5.0  11.842105  14.606742  10.204082  9.0  8.421053   \n",
       "MultipleLines     5.0  11.842105  14.606742  10.204082  9.0  8.421053   \n",
       "InternetService   5.0  11.842105  14.606742  10.204082  9.0  8.421053   \n",
       "OnlineSecurity    5.0  11.842105  14.606742  10.204082  9.0  8.421053   \n",
       "OnlineBackup      5.0  11.842105  14.606742  10.204082  9.0  8.421053   \n",
       "DeviceProtection  5.0  11.842105  14.606742  10.204082  9.0  8.421053   \n",
       "TechSupport       5.0  11.842105  14.606742  10.204082  9.0  8.421053   \n",
       "StreamingTV       5.0  11.842105  14.606742  10.204082  9.0  8.421053   \n",
       "StreamingMovies   5.0  11.842105  14.606742  10.204082  9.0  8.421053   \n",
       "Contract          5.0  11.842105  14.606742  10.204082  9.0  8.421053   \n",
       "PaperlessBilling  5.0  11.842105  14.606742  10.204082  9.0  8.421053   \n",
       "PaymentMethod     5.0  11.842105  14.606742  10.204082  9.0  8.421053   \n",
       "MonthlyCharges    5.0  11.842105  14.606742  10.204082  9.0  8.421053   \n",
       "TotalCharges      5.0  11.842105  14.606742  10.204082  9.0  8.421053   \n",
       "\n",
       "tenure                  70        71        72  \n",
       "customerID        9.243697  3.529412  1.657459  \n",
       "gender            9.243697  3.529412  1.657459  \n",
       "SeniorCitizen     9.243697  3.529412  1.657459  \n",
       "Partner           9.243697  3.529412  1.657459  \n",
       "Dependents        9.243697  3.529412  1.657459  \n",
       "PhoneService      9.243697  3.529412  1.657459  \n",
       "MultipleLines     9.243697  3.529412  1.657459  \n",
       "InternetService   9.243697  3.529412  1.657459  \n",
       "OnlineSecurity    9.243697  3.529412  1.657459  \n",
       "OnlineBackup      9.243697  3.529412  1.657459  \n",
       "DeviceProtection  9.243697  3.529412  1.657459  \n",
       "TechSupport       9.243697  3.529412  1.657459  \n",
       "StreamingTV       9.243697  3.529412  1.657459  \n",
       "StreamingMovies   9.243697  3.529412  1.657459  \n",
       "Contract          9.243697  3.529412  1.657459  \n",
       "PaperlessBilling  9.243697  3.529412  1.657459  \n",
       "PaymentMethod     9.243697  3.529412  1.657459  \n",
       "MonthlyCharges    9.243697  3.529412  1.657459  \n",
       "TotalCharges      9.243697  3.529412  1.657459  \n",
       "\n",
       "[19 rows x 72 columns]"
      ]
     },
     "execution_count": 62,
     "metadata": {},
     "output_type": "execute_result"
    }
   ],
   "source": [
    "churn_rate "
   ]
  },
  {
   "cell_type": "code",
   "execution_count": 63,
   "id": "e767c5c6-e6ce-4817-960f-ccaf3a3f381e",
   "metadata": {},
   "outputs": [
    {
     "data": {
      "text/html": [
       "<div>\n",
       "<style scoped>\n",
       "    .dataframe tbody tr th:only-of-type {\n",
       "        vertical-align: middle;\n",
       "    }\n",
       "\n",
       "    .dataframe tbody tr th {\n",
       "        vertical-align: top;\n",
       "    }\n",
       "\n",
       "    .dataframe thead th {\n",
       "        text-align: right;\n",
       "    }\n",
       "</style>\n",
       "<table border=\"1\" class=\"dataframe\">\n",
       "  <thead>\n",
       "    <tr style=\"text-align: right;\">\n",
       "      <th></th>\n",
       "      <th>customerID</th>\n",
       "      <th>gender</th>\n",
       "      <th>SeniorCitizen</th>\n",
       "      <th>Partner</th>\n",
       "      <th>Dependents</th>\n",
       "      <th>PhoneService</th>\n",
       "      <th>MultipleLines</th>\n",
       "      <th>InternetService</th>\n",
       "      <th>OnlineSecurity</th>\n",
       "      <th>OnlineBackup</th>\n",
       "      <th>DeviceProtection</th>\n",
       "      <th>TechSupport</th>\n",
       "      <th>StreamingTV</th>\n",
       "      <th>StreamingMovies</th>\n",
       "      <th>Contract</th>\n",
       "      <th>PaperlessBilling</th>\n",
       "      <th>PaymentMethod</th>\n",
       "      <th>MonthlyCharges</th>\n",
       "      <th>TotalCharges</th>\n",
       "    </tr>\n",
       "    <tr>\n",
       "      <th>tenure</th>\n",
       "      <th></th>\n",
       "      <th></th>\n",
       "      <th></th>\n",
       "      <th></th>\n",
       "      <th></th>\n",
       "      <th></th>\n",
       "      <th></th>\n",
       "      <th></th>\n",
       "      <th></th>\n",
       "      <th></th>\n",
       "      <th></th>\n",
       "      <th></th>\n",
       "      <th></th>\n",
       "      <th></th>\n",
       "      <th></th>\n",
       "      <th></th>\n",
       "      <th></th>\n",
       "      <th></th>\n",
       "      <th></th>\n",
       "    </tr>\n",
       "  </thead>\n",
       "  <tbody>\n",
       "    <tr>\n",
       "      <th>1</th>\n",
       "      <td>61.990212</td>\n",
       "      <td>61.990212</td>\n",
       "      <td>61.990212</td>\n",
       "      <td>61.990212</td>\n",
       "      <td>61.990212</td>\n",
       "      <td>61.990212</td>\n",
       "      <td>61.990212</td>\n",
       "      <td>61.990212</td>\n",
       "      <td>61.990212</td>\n",
       "      <td>61.990212</td>\n",
       "      <td>61.990212</td>\n",
       "      <td>61.990212</td>\n",
       "      <td>61.990212</td>\n",
       "      <td>61.990212</td>\n",
       "      <td>61.990212</td>\n",
       "      <td>61.990212</td>\n",
       "      <td>61.990212</td>\n",
       "      <td>61.990212</td>\n",
       "      <td>61.990212</td>\n",
       "    </tr>\n",
       "    <tr>\n",
       "      <th>2</th>\n",
       "      <td>51.680672</td>\n",
       "      <td>51.680672</td>\n",
       "      <td>51.680672</td>\n",
       "      <td>51.680672</td>\n",
       "      <td>51.680672</td>\n",
       "      <td>51.680672</td>\n",
       "      <td>51.680672</td>\n",
       "      <td>51.680672</td>\n",
       "      <td>51.680672</td>\n",
       "      <td>51.680672</td>\n",
       "      <td>51.680672</td>\n",
       "      <td>51.680672</td>\n",
       "      <td>51.680672</td>\n",
       "      <td>51.680672</td>\n",
       "      <td>51.680672</td>\n",
       "      <td>51.680672</td>\n",
       "      <td>51.680672</td>\n",
       "      <td>51.680672</td>\n",
       "      <td>51.680672</td>\n",
       "    </tr>\n",
       "    <tr>\n",
       "      <th>3</th>\n",
       "      <td>47.000000</td>\n",
       "      <td>47.000000</td>\n",
       "      <td>47.000000</td>\n",
       "      <td>47.000000</td>\n",
       "      <td>47.000000</td>\n",
       "      <td>47.000000</td>\n",
       "      <td>47.000000</td>\n",
       "      <td>47.000000</td>\n",
       "      <td>47.000000</td>\n",
       "      <td>47.000000</td>\n",
       "      <td>47.000000</td>\n",
       "      <td>47.000000</td>\n",
       "      <td>47.000000</td>\n",
       "      <td>47.000000</td>\n",
       "      <td>47.000000</td>\n",
       "      <td>47.000000</td>\n",
       "      <td>47.000000</td>\n",
       "      <td>47.000000</td>\n",
       "      <td>47.000000</td>\n",
       "    </tr>\n",
       "    <tr>\n",
       "      <th>4</th>\n",
       "      <td>47.159091</td>\n",
       "      <td>47.159091</td>\n",
       "      <td>47.159091</td>\n",
       "      <td>47.159091</td>\n",
       "      <td>47.159091</td>\n",
       "      <td>47.159091</td>\n",
       "      <td>47.159091</td>\n",
       "      <td>47.159091</td>\n",
       "      <td>47.159091</td>\n",
       "      <td>47.159091</td>\n",
       "      <td>47.159091</td>\n",
       "      <td>47.159091</td>\n",
       "      <td>47.159091</td>\n",
       "      <td>47.159091</td>\n",
       "      <td>47.159091</td>\n",
       "      <td>47.159091</td>\n",
       "      <td>47.159091</td>\n",
       "      <td>47.159091</td>\n",
       "      <td>47.159091</td>\n",
       "    </tr>\n",
       "    <tr>\n",
       "      <th>5</th>\n",
       "      <td>48.120301</td>\n",
       "      <td>48.120301</td>\n",
       "      <td>48.120301</td>\n",
       "      <td>48.120301</td>\n",
       "      <td>48.120301</td>\n",
       "      <td>48.120301</td>\n",
       "      <td>48.120301</td>\n",
       "      <td>48.120301</td>\n",
       "      <td>48.120301</td>\n",
       "      <td>48.120301</td>\n",
       "      <td>48.120301</td>\n",
       "      <td>48.120301</td>\n",
       "      <td>48.120301</td>\n",
       "      <td>48.120301</td>\n",
       "      <td>48.120301</td>\n",
       "      <td>48.120301</td>\n",
       "      <td>48.120301</td>\n",
       "      <td>48.120301</td>\n",
       "      <td>48.120301</td>\n",
       "    </tr>\n",
       "    <tr>\n",
       "      <th>...</th>\n",
       "      <td>...</td>\n",
       "      <td>...</td>\n",
       "      <td>...</td>\n",
       "      <td>...</td>\n",
       "      <td>...</td>\n",
       "      <td>...</td>\n",
       "      <td>...</td>\n",
       "      <td>...</td>\n",
       "      <td>...</td>\n",
       "      <td>...</td>\n",
       "      <td>...</td>\n",
       "      <td>...</td>\n",
       "      <td>...</td>\n",
       "      <td>...</td>\n",
       "      <td>...</td>\n",
       "      <td>...</td>\n",
       "      <td>...</td>\n",
       "      <td>...</td>\n",
       "      <td>...</td>\n",
       "    </tr>\n",
       "    <tr>\n",
       "      <th>68</th>\n",
       "      <td>9.000000</td>\n",
       "      <td>9.000000</td>\n",
       "      <td>9.000000</td>\n",
       "      <td>9.000000</td>\n",
       "      <td>9.000000</td>\n",
       "      <td>9.000000</td>\n",
       "      <td>9.000000</td>\n",
       "      <td>9.000000</td>\n",
       "      <td>9.000000</td>\n",
       "      <td>9.000000</td>\n",
       "      <td>9.000000</td>\n",
       "      <td>9.000000</td>\n",
       "      <td>9.000000</td>\n",
       "      <td>9.000000</td>\n",
       "      <td>9.000000</td>\n",
       "      <td>9.000000</td>\n",
       "      <td>9.000000</td>\n",
       "      <td>9.000000</td>\n",
       "      <td>9.000000</td>\n",
       "    </tr>\n",
       "    <tr>\n",
       "      <th>69</th>\n",
       "      <td>8.421053</td>\n",
       "      <td>8.421053</td>\n",
       "      <td>8.421053</td>\n",
       "      <td>8.421053</td>\n",
       "      <td>8.421053</td>\n",
       "      <td>8.421053</td>\n",
       "      <td>8.421053</td>\n",
       "      <td>8.421053</td>\n",
       "      <td>8.421053</td>\n",
       "      <td>8.421053</td>\n",
       "      <td>8.421053</td>\n",
       "      <td>8.421053</td>\n",
       "      <td>8.421053</td>\n",
       "      <td>8.421053</td>\n",
       "      <td>8.421053</td>\n",
       "      <td>8.421053</td>\n",
       "      <td>8.421053</td>\n",
       "      <td>8.421053</td>\n",
       "      <td>8.421053</td>\n",
       "    </tr>\n",
       "    <tr>\n",
       "      <th>70</th>\n",
       "      <td>9.243697</td>\n",
       "      <td>9.243697</td>\n",
       "      <td>9.243697</td>\n",
       "      <td>9.243697</td>\n",
       "      <td>9.243697</td>\n",
       "      <td>9.243697</td>\n",
       "      <td>9.243697</td>\n",
       "      <td>9.243697</td>\n",
       "      <td>9.243697</td>\n",
       "      <td>9.243697</td>\n",
       "      <td>9.243697</td>\n",
       "      <td>9.243697</td>\n",
       "      <td>9.243697</td>\n",
       "      <td>9.243697</td>\n",
       "      <td>9.243697</td>\n",
       "      <td>9.243697</td>\n",
       "      <td>9.243697</td>\n",
       "      <td>9.243697</td>\n",
       "      <td>9.243697</td>\n",
       "    </tr>\n",
       "    <tr>\n",
       "      <th>71</th>\n",
       "      <td>3.529412</td>\n",
       "      <td>3.529412</td>\n",
       "      <td>3.529412</td>\n",
       "      <td>3.529412</td>\n",
       "      <td>3.529412</td>\n",
       "      <td>3.529412</td>\n",
       "      <td>3.529412</td>\n",
       "      <td>3.529412</td>\n",
       "      <td>3.529412</td>\n",
       "      <td>3.529412</td>\n",
       "      <td>3.529412</td>\n",
       "      <td>3.529412</td>\n",
       "      <td>3.529412</td>\n",
       "      <td>3.529412</td>\n",
       "      <td>3.529412</td>\n",
       "      <td>3.529412</td>\n",
       "      <td>3.529412</td>\n",
       "      <td>3.529412</td>\n",
       "      <td>3.529412</td>\n",
       "    </tr>\n",
       "    <tr>\n",
       "      <th>72</th>\n",
       "      <td>1.657459</td>\n",
       "      <td>1.657459</td>\n",
       "      <td>1.657459</td>\n",
       "      <td>1.657459</td>\n",
       "      <td>1.657459</td>\n",
       "      <td>1.657459</td>\n",
       "      <td>1.657459</td>\n",
       "      <td>1.657459</td>\n",
       "      <td>1.657459</td>\n",
       "      <td>1.657459</td>\n",
       "      <td>1.657459</td>\n",
       "      <td>1.657459</td>\n",
       "      <td>1.657459</td>\n",
       "      <td>1.657459</td>\n",
       "      <td>1.657459</td>\n",
       "      <td>1.657459</td>\n",
       "      <td>1.657459</td>\n",
       "      <td>1.657459</td>\n",
       "      <td>1.657459</td>\n",
       "    </tr>\n",
       "  </tbody>\n",
       "</table>\n",
       "<p>72 rows × 19 columns</p>\n",
       "</div>"
      ],
      "text/plain": [
       "        customerID     gender  SeniorCitizen    Partner  Dependents  \\\n",
       "tenure                                                                \n",
       "1        61.990212  61.990212      61.990212  61.990212   61.990212   \n",
       "2        51.680672  51.680672      51.680672  51.680672   51.680672   \n",
       "3        47.000000  47.000000      47.000000  47.000000   47.000000   \n",
       "4        47.159091  47.159091      47.159091  47.159091   47.159091   \n",
       "5        48.120301  48.120301      48.120301  48.120301   48.120301   \n",
       "...            ...        ...            ...        ...         ...   \n",
       "68        9.000000   9.000000       9.000000   9.000000    9.000000   \n",
       "69        8.421053   8.421053       8.421053   8.421053    8.421053   \n",
       "70        9.243697   9.243697       9.243697   9.243697    9.243697   \n",
       "71        3.529412   3.529412       3.529412   3.529412    3.529412   \n",
       "72        1.657459   1.657459       1.657459   1.657459    1.657459   \n",
       "\n",
       "        PhoneService  MultipleLines  InternetService  OnlineSecurity  \\\n",
       "tenure                                                                 \n",
       "1          61.990212      61.990212        61.990212       61.990212   \n",
       "2          51.680672      51.680672        51.680672       51.680672   \n",
       "3          47.000000      47.000000        47.000000       47.000000   \n",
       "4          47.159091      47.159091        47.159091       47.159091   \n",
       "5          48.120301      48.120301        48.120301       48.120301   \n",
       "...              ...            ...              ...             ...   \n",
       "68          9.000000       9.000000         9.000000        9.000000   \n",
       "69          8.421053       8.421053         8.421053        8.421053   \n",
       "70          9.243697       9.243697         9.243697        9.243697   \n",
       "71          3.529412       3.529412         3.529412        3.529412   \n",
       "72          1.657459       1.657459         1.657459        1.657459   \n",
       "\n",
       "        OnlineBackup  DeviceProtection  TechSupport  StreamingTV  \\\n",
       "tenure                                                             \n",
       "1          61.990212         61.990212    61.990212    61.990212   \n",
       "2          51.680672         51.680672    51.680672    51.680672   \n",
       "3          47.000000         47.000000    47.000000    47.000000   \n",
       "4          47.159091         47.159091    47.159091    47.159091   \n",
       "5          48.120301         48.120301    48.120301    48.120301   \n",
       "...              ...               ...          ...          ...   \n",
       "68          9.000000          9.000000     9.000000     9.000000   \n",
       "69          8.421053          8.421053     8.421053     8.421053   \n",
       "70          9.243697          9.243697     9.243697     9.243697   \n",
       "71          3.529412          3.529412     3.529412     3.529412   \n",
       "72          1.657459          1.657459     1.657459     1.657459   \n",
       "\n",
       "        StreamingMovies   Contract  PaperlessBilling  PaymentMethod  \\\n",
       "tenure                                                                \n",
       "1             61.990212  61.990212         61.990212      61.990212   \n",
       "2             51.680672  51.680672         51.680672      51.680672   \n",
       "3             47.000000  47.000000         47.000000      47.000000   \n",
       "4             47.159091  47.159091         47.159091      47.159091   \n",
       "5             48.120301  48.120301         48.120301      48.120301   \n",
       "...                 ...        ...               ...            ...   \n",
       "68             9.000000   9.000000          9.000000       9.000000   \n",
       "69             8.421053   8.421053          8.421053       8.421053   \n",
       "70             9.243697   9.243697          9.243697       9.243697   \n",
       "71             3.529412   3.529412          3.529412       3.529412   \n",
       "72             1.657459   1.657459          1.657459       1.657459   \n",
       "\n",
       "        MonthlyCharges  TotalCharges  \n",
       "tenure                                \n",
       "1            61.990212     61.990212  \n",
       "2            51.680672     51.680672  \n",
       "3            47.000000     47.000000  \n",
       "4            47.159091     47.159091  \n",
       "5            48.120301     48.120301  \n",
       "...                ...           ...  \n",
       "68            9.000000      9.000000  \n",
       "69            8.421053      8.421053  \n",
       "70            9.243697      9.243697  \n",
       "71            3.529412      3.529412  \n",
       "72            1.657459      1.657459  \n",
       "\n",
       "[72 rows x 19 columns]"
      ]
     },
     "execution_count": 63,
     "metadata": {},
     "output_type": "execute_result"
    }
   ],
   "source": [
    "churn_rate.transpose()"
   ]
  },
  {
   "cell_type": "code",
   "execution_count": 64,
   "id": "356d6d9b-3adf-4f41-8842-63fbd95c1882",
   "metadata": {},
   "outputs": [
    {
     "data": {
      "text/plain": [
       "<AxesSubplot:xlabel='tenure'>"
      ]
     },
     "execution_count": 64,
     "metadata": {},
     "output_type": "execute_result"
    },
    {
     "data": {
      "image/png": "[encoded data removed]",
      "text/plain": [
       "<Figure size 432x288 with 1 Axes>"
      ]
     },
     "metadata": {
      "needs_background": "light"
     },
     "output_type": "display_data"
    }
   ],
   "source": [
    "churn_rate.transpose()['customerID'].plot()"
   ]
  },
  {
   "cell_type": "code",
   "execution_count": 65,
   "id": "79b53b66-8fdb-403f-a846-f33f92635eba",
   "metadata": {},
   "outputs": [],
   "source": [
    "# Broder cohort groups"
   ]
  },
  {
   "cell_type": "markdown",
   "id": "dfecb196-cb97-4362-aef4-3389bb1f8291",
   "metadata": {},
   "source": [
    "# Based on the tenture columns values , create a new column called Tenure cohort that creates 4 separate categories"
   ]
  },
  {
   "cell_type": "code",
   "execution_count": 66,
   "id": "18c0f1fb-03a8-4643-9686-3bd20443d6d1",
   "metadata": {},
   "outputs": [
    {
     "data": {
      "text/plain": [
       "0        1\n",
       "1       34\n",
       "2        2\n",
       "3       45\n",
       "4        2\n",
       "        ..\n",
       "7027    24\n",
       "7028    72\n",
       "7029    11\n",
       "7030     4\n",
       "7031    66\n",
       "Name: tenure, Length: 7032, dtype: int64"
      ]
     },
     "execution_count": 66,
     "metadata": {},
     "output_type": "execute_result"
    }
   ],
   "source": [
    "df.tenure"
   ]
  },
  {
   "cell_type": "code",
   "execution_count": 67,
   "id": "b8267278-4778-41f2-8f00-a395cd5eca34",
   "metadata": {},
   "outputs": [],
   "source": [
    "def cohort(tenure):\n",
    "    if tenure<13:\n",
    "        return '0-12 months'\n",
    "    elif tenure < 25:\n",
    "        return '12-24 months'\n",
    "    elif tenure < 49:\n",
    "        return '24 - 48 months'\n",
    "    else:\n",
    "        return 'over 48 months'"
   ]
  },
  {
   "cell_type": "code",
   "execution_count": 68,
   "id": "8588383b-d72f-4167-9462-bd3d2a430cb6",
   "metadata": {},
   "outputs": [],
   "source": [
    "df['Tenure cohort'] = df['tenure'].apply(cohort)"
   ]
  },
  {
   "cell_type": "code",
   "execution_count": 69,
   "id": "3ee70e88-9ee9-467d-99f0-a3d3da2f56c6",
   "metadata": {},
   "outputs": [
    {
     "data": {
      "text/html": [
       "<div>\n",
       "<style scoped>\n",
       "    .dataframe tbody tr th:only-of-type {\n",
       "        vertical-align: middle;\n",
       "    }\n",
       "\n",
       "    .dataframe tbody tr th {\n",
       "        vertical-align: top;\n",
       "    }\n",
       "\n",
       "    .dataframe thead th {\n",
       "        text-align: right;\n",
       "    }\n",
       "</style>\n",
       "<table border=\"1\" class=\"dataframe\">\n",
       "  <thead>\n",
       "    <tr style=\"text-align: right;\">\n",
       "      <th></th>\n",
       "      <th>tenure</th>\n",
       "      <th>Tenure cohort</th>\n",
       "    </tr>\n",
       "  </thead>\n",
       "  <tbody>\n",
       "    <tr>\n",
       "      <th>0</th>\n",
       "      <td>1</td>\n",
       "      <td>0-12 months</td>\n",
       "    </tr>\n",
       "    <tr>\n",
       "      <th>1</th>\n",
       "      <td>34</td>\n",
       "      <td>24 - 48 months</td>\n",
       "    </tr>\n",
       "    <tr>\n",
       "      <th>2</th>\n",
       "      <td>2</td>\n",
       "      <td>0-12 months</td>\n",
       "    </tr>\n",
       "    <tr>\n",
       "      <th>3</th>\n",
       "      <td>45</td>\n",
       "      <td>24 - 48 months</td>\n",
       "    </tr>\n",
       "    <tr>\n",
       "      <th>4</th>\n",
       "      <td>2</td>\n",
       "      <td>0-12 months</td>\n",
       "    </tr>\n",
       "    <tr>\n",
       "      <th>...</th>\n",
       "      <td>...</td>\n",
       "      <td>...</td>\n",
       "    </tr>\n",
       "    <tr>\n",
       "      <th>7027</th>\n",
       "      <td>24</td>\n",
       "      <td>12-24 months</td>\n",
       "    </tr>\n",
       "    <tr>\n",
       "      <th>7028</th>\n",
       "      <td>72</td>\n",
       "      <td>over 48 months</td>\n",
       "    </tr>\n",
       "    <tr>\n",
       "      <th>7029</th>\n",
       "      <td>11</td>\n",
       "      <td>0-12 months</td>\n",
       "    </tr>\n",
       "    <tr>\n",
       "      <th>7030</th>\n",
       "      <td>4</td>\n",
       "      <td>0-12 months</td>\n",
       "    </tr>\n",
       "    <tr>\n",
       "      <th>7031</th>\n",
       "      <td>66</td>\n",
       "      <td>over 48 months</td>\n",
       "    </tr>\n",
       "  </tbody>\n",
       "</table>\n",
       "<p>7032 rows × 2 columns</p>\n",
       "</div>"
      ],
      "text/plain": [
       "      tenure   Tenure cohort\n",
       "0          1     0-12 months\n",
       "1         34  24 - 48 months\n",
       "2          2     0-12 months\n",
       "3         45  24 - 48 months\n",
       "4          2     0-12 months\n",
       "...      ...             ...\n",
       "7027      24    12-24 months\n",
       "7028      72  over 48 months\n",
       "7029      11     0-12 months\n",
       "7030       4     0-12 months\n",
       "7031      66  over 48 months\n",
       "\n",
       "[7032 rows x 2 columns]"
      ]
     },
     "execution_count": 69,
     "metadata": {},
     "output_type": "execute_result"
    }
   ],
   "source": [
    "df[[ 'tenure','Tenure cohort']]"
   ]
  },
  {
   "cell_type": "code",
   "execution_count": 70,
   "id": "145bb68c-2cf9-406a-9efe-d1d558001105",
   "metadata": {},
   "outputs": [
    {
     "data": {
      "text/html": [
       "<div>\n",
       "<style scoped>\n",
       "    .dataframe tbody tr th:only-of-type {\n",
       "        vertical-align: middle;\n",
       "    }\n",
       "\n",
       "    .dataframe tbody tr th {\n",
       "        vertical-align: top;\n",
       "    }\n",
       "\n",
       "    .dataframe thead th {\n",
       "        text-align: right;\n",
       "    }\n",
       "</style>\n",
       "<table border=\"1\" class=\"dataframe\">\n",
       "  <thead>\n",
       "    <tr style=\"text-align: right;\">\n",
       "      <th></th>\n",
       "      <th>customerID</th>\n",
       "      <th>gender</th>\n",
       "      <th>SeniorCitizen</th>\n",
       "      <th>Partner</th>\n",
       "      <th>Dependents</th>\n",
       "      <th>tenure</th>\n",
       "      <th>PhoneService</th>\n",
       "      <th>MultipleLines</th>\n",
       "      <th>InternetService</th>\n",
       "      <th>OnlineSecurity</th>\n",
       "      <th>...</th>\n",
       "      <th>TechSupport</th>\n",
       "      <th>StreamingTV</th>\n",
       "      <th>StreamingMovies</th>\n",
       "      <th>Contract</th>\n",
       "      <th>PaperlessBilling</th>\n",
       "      <th>PaymentMethod</th>\n",
       "      <th>MonthlyCharges</th>\n",
       "      <th>TotalCharges</th>\n",
       "      <th>Churn</th>\n",
       "      <th>Tenure cohort</th>\n",
       "    </tr>\n",
       "  </thead>\n",
       "  <tbody>\n",
       "    <tr>\n",
       "      <th>0</th>\n",
       "      <td>7590-VHVEG</td>\n",
       "      <td>Female</td>\n",
       "      <td>0</td>\n",
       "      <td>Yes</td>\n",
       "      <td>No</td>\n",
       "      <td>1</td>\n",
       "      <td>No</td>\n",
       "      <td>No phone service</td>\n",
       "      <td>DSL</td>\n",
       "      <td>No</td>\n",
       "      <td>...</td>\n",
       "      <td>No</td>\n",
       "      <td>No</td>\n",
       "      <td>No</td>\n",
       "      <td>Month-to-month</td>\n",
       "      <td>Yes</td>\n",
       "      <td>Electronic check</td>\n",
       "      <td>29.85</td>\n",
       "      <td>29.85</td>\n",
       "      <td>No</td>\n",
       "      <td>0-12 months</td>\n",
       "    </tr>\n",
       "    <tr>\n",
       "      <th>1</th>\n",
       "      <td>5575-GNVDE</td>\n",
       "      <td>Male</td>\n",
       "      <td>0</td>\n",
       "      <td>No</td>\n",
       "      <td>No</td>\n",
       "      <td>34</td>\n",
       "      <td>Yes</td>\n",
       "      <td>No</td>\n",
       "      <td>DSL</td>\n",
       "      <td>Yes</td>\n",
       "      <td>...</td>\n",
       "      <td>No</td>\n",
       "      <td>No</td>\n",
       "      <td>No</td>\n",
       "      <td>One year</td>\n",
       "      <td>No</td>\n",
       "      <td>Mailed check</td>\n",
       "      <td>56.95</td>\n",
       "      <td>1889.50</td>\n",
       "      <td>No</td>\n",
       "      <td>24 - 48 months</td>\n",
       "    </tr>\n",
       "  </tbody>\n",
       "</table>\n",
       "<p>2 rows × 22 columns</p>\n",
       "</div>"
      ],
      "text/plain": [
       "   customerID  gender  SeniorCitizen Partner Dependents  tenure PhoneService  \\\n",
       "0  7590-VHVEG  Female              0     Yes         No       1           No   \n",
       "1  5575-GNVDE    Male              0      No         No      34          Yes   \n",
       "\n",
       "      MultipleLines InternetService OnlineSecurity  ... TechSupport  \\\n",
       "0  No phone service             DSL             No  ...          No   \n",
       "1                No             DSL            Yes  ...          No   \n",
       "\n",
       "  StreamingTV StreamingMovies        Contract PaperlessBilling  \\\n",
       "0          No              No  Month-to-month              Yes   \n",
       "1          No              No        One year               No   \n",
       "\n",
       "      PaymentMethod MonthlyCharges TotalCharges  Churn   Tenure cohort  \n",
       "0  Electronic check          29.85        29.85     No     0-12 months  \n",
       "1      Mailed check          56.95      1889.50     No  24 - 48 months  \n",
       "\n",
       "[2 rows x 22 columns]"
      ]
     },
     "execution_count": 70,
     "metadata": {},
     "output_type": "execute_result"
    }
   ],
   "source": [
    "df.head(2)"
   ]
  },
  {
   "cell_type": "code",
   "execution_count": 171,
   "id": "180d9fcd-99f9-4d1d-a913-f9e4b6966fd0",
   "metadata": {},
   "outputs": [],
   "source": [
    "# Lets plot scatterplot for Total charges vs monthly charges and color hue by Tenure cohort"
   ]
  },
  {
   "cell_type": "code",
   "execution_count": 72,
   "id": "5c9d07b2-a5c9-4880-b6c9-b243983d3b82",
   "metadata": {},
   "outputs": [
    {
     "data": {
      "text/plain": [
       "<AxesSubplot:xlabel='MonthlyCharges', ylabel='TotalCharges'>"
      ]
     },
     "execution_count": 72,
     "metadata": {},
     "output_type": "execute_result"
    },
    {
     "data": {
      "image/png": "[encoded data removed]",
      "text/plain": [
       "<Figure size 720x360 with 1 Axes>"
      ]
     },
     "metadata": {
      "needs_background": "light"
     },
     "output_type": "display_data"
    }
   ],
   "source": [
    "plt.figure(figsize=(10,5))\n",
    "sns.scatterplot(x = 'MonthlyCharges', y = 'TotalCharges', hue = 'Tenure cohort', data =df)"
   ]
  },
  {
   "cell_type": "code",
   "execution_count": 73,
   "id": "e55ebeb5-fd91-4811-a2ed-65536d9c0cb8",
   "metadata": {},
   "outputs": [],
   "source": [
    "# create a countplot showing the churn count per tenure cohort"
   ]
  },
  {
   "cell_type": "code",
   "execution_count": 74,
   "id": "aedea14b-a8cc-437d-9fc3-2747b7eae251",
   "metadata": {},
   "outputs": [
    {
     "data": {
      "text/plain": [
       "<AxesSubplot:xlabel='Tenure cohort', ylabel='count'>"
      ]
     },
     "execution_count": 74,
     "metadata": {},
     "output_type": "execute_result"
    },
    {
     "data": {
      "image/png": "[encoded data removed]",
      "text/plain": [
       "<Figure size 432x288 with 1 Axes>"
      ]
     },
     "metadata": {
      "needs_background": "light"
     },
     "output_type": "display_data"
    }
   ],
   "source": [
    "sns.countplot(x = 'Tenure cohort',hue = 'Churn',data = df)"
   ]
  },
  {
   "cell_type": "code",
   "execution_count": 75,
   "id": "003b4b1d-9bae-4d80-8c00-b4d005fb3ff9",
   "metadata": {},
   "outputs": [],
   "source": [
    "# create a grid of countplots showing countds per tenure cohort,wrt to contract type & colored by the churn hue"
   ]
  },
  {
   "cell_type": "code",
   "execution_count": 76,
   "id": "219a7711-f548-493b-89da-564dc71f5f4a",
   "metadata": {},
   "outputs": [
    {
     "data": {
      "text/plain": [
       "array(['Month-to-month', 'One year', 'Two year'], dtype=object)"
      ]
     },
     "execution_count": 76,
     "metadata": {},
     "output_type": "execute_result"
    }
   ],
   "source": [
    "df.Contract.unique()"
   ]
  },
  {
   "cell_type": "code",
   "execution_count": 77,
   "id": "601784dc-ae64-48ce-9d07-d3bc95a31ff2",
   "metadata": {},
   "outputs": [
    {
     "data": {
      "text/plain": [
       "array(['0-12 months', '24 - 48 months', '12-24 months', 'over 48 months'],\n",
       "      dtype=object)"
      ]
     },
     "execution_count": 77,
     "metadata": {},
     "output_type": "execute_result"
    }
   ],
   "source": [
    "df['Tenure cohort'].unique()"
   ]
  },
  {
   "cell_type": "code",
   "execution_count": 78,
   "id": "b7f2029e-20ce-4dc8-8b9c-6972a2f2eca4",
   "metadata": {},
   "outputs": [
    {
     "data": {
      "text/plain": [
       "<seaborn.axisgrid.FacetGrid at 0x200eccda620>"
      ]
     },
     "execution_count": 78,
     "metadata": {},
     "output_type": "execute_result"
    },
    {
     "data": {
      "image/png": "[encoded data removed]",
      "text/plain": [
       "<Figure size 1132x360 with 3 Axes>"
      ]
     },
     "metadata": {
      "needs_background": "light"
     },
     "output_type": "display_data"
    }
   ],
   "source": [
    "sns.catplot(data = df, x = 'Tenure cohort', hue = 'Churn',kind = 'count',col = 'Contract')"
   ]
  },
  {
   "cell_type": "markdown",
   "id": "c1c00a98-03f6-41db-970b-1ecb90d2666b",
   "metadata": {},
   "source": [
    "# Machine learning"
   ]
  },
  {
   "cell_type": "code",
   "execution_count": 80,
   "id": "d688c797-10fe-4da1-a5cf-584bdb574701",
   "metadata": {},
   "outputs": [],
   "source": [
    "# Lets explore 4 different based methods: A single deision Tree, Random forest, Adaboost, Gradient boosting."
   ]
  },
  {
   "cell_type": "code",
   "execution_count": 81,
   "id": "837d3aec-fb3c-4699-9243-610ee513adc3",
   "metadata": {},
   "outputs": [],
   "source": [
    "# Single Decision Tree"
   ]
  },
  {
   "cell_type": "code",
   "execution_count": 82,
   "id": "455383f3-9e7e-48ef-9758-483b871d6e5d",
   "metadata": {},
   "outputs": [],
   "source": [
    "# create x independant features & y dependant features(features & labels)"
   ]
  },
  {
   "cell_type": "code",
   "execution_count": 83,
   "id": "824d8606-ba71-497d-b6ba-129a0af967ab",
   "metadata": {},
   "outputs": [
    {
     "data": {
      "text/html": [
       "<div>\n",
       "<style scoped>\n",
       "    .dataframe tbody tr th:only-of-type {\n",
       "        vertical-align: middle;\n",
       "    }\n",
       "\n",
       "    .dataframe tbody tr th {\n",
       "        vertical-align: top;\n",
       "    }\n",
       "\n",
       "    .dataframe thead th {\n",
       "        text-align: right;\n",
       "    }\n",
       "</style>\n",
       "<table border=\"1\" class=\"dataframe\">\n",
       "  <thead>\n",
       "    <tr style=\"text-align: right;\">\n",
       "      <th></th>\n",
       "      <th>customerID</th>\n",
       "      <th>gender</th>\n",
       "      <th>SeniorCitizen</th>\n",
       "      <th>Partner</th>\n",
       "      <th>Dependents</th>\n",
       "      <th>tenure</th>\n",
       "      <th>PhoneService</th>\n",
       "      <th>MultipleLines</th>\n",
       "      <th>InternetService</th>\n",
       "      <th>OnlineSecurity</th>\n",
       "      <th>...</th>\n",
       "      <th>TechSupport</th>\n",
       "      <th>StreamingTV</th>\n",
       "      <th>StreamingMovies</th>\n",
       "      <th>Contract</th>\n",
       "      <th>PaperlessBilling</th>\n",
       "      <th>PaymentMethod</th>\n",
       "      <th>MonthlyCharges</th>\n",
       "      <th>TotalCharges</th>\n",
       "      <th>Churn</th>\n",
       "      <th>Tenure cohort</th>\n",
       "    </tr>\n",
       "  </thead>\n",
       "  <tbody>\n",
       "    <tr>\n",
       "      <th>0</th>\n",
       "      <td>7590-VHVEG</td>\n",
       "      <td>Female</td>\n",
       "      <td>0</td>\n",
       "      <td>Yes</td>\n",
       "      <td>No</td>\n",
       "      <td>1</td>\n",
       "      <td>No</td>\n",
       "      <td>No phone service</td>\n",
       "      <td>DSL</td>\n",
       "      <td>No</td>\n",
       "      <td>...</td>\n",
       "      <td>No</td>\n",
       "      <td>No</td>\n",
       "      <td>No</td>\n",
       "      <td>Month-to-month</td>\n",
       "      <td>Yes</td>\n",
       "      <td>Electronic check</td>\n",
       "      <td>29.85</td>\n",
       "      <td>29.85</td>\n",
       "      <td>No</td>\n",
       "      <td>0-12 months</td>\n",
       "    </tr>\n",
       "    <tr>\n",
       "      <th>1</th>\n",
       "      <td>5575-GNVDE</td>\n",
       "      <td>Male</td>\n",
       "      <td>0</td>\n",
       "      <td>No</td>\n",
       "      <td>No</td>\n",
       "      <td>34</td>\n",
       "      <td>Yes</td>\n",
       "      <td>No</td>\n",
       "      <td>DSL</td>\n",
       "      <td>Yes</td>\n",
       "      <td>...</td>\n",
       "      <td>No</td>\n",
       "      <td>No</td>\n",
       "      <td>No</td>\n",
       "      <td>One year</td>\n",
       "      <td>No</td>\n",
       "      <td>Mailed check</td>\n",
       "      <td>56.95</td>\n",
       "      <td>1889.50</td>\n",
       "      <td>No</td>\n",
       "      <td>24 - 48 months</td>\n",
       "    </tr>\n",
       "  </tbody>\n",
       "</table>\n",
       "<p>2 rows × 22 columns</p>\n",
       "</div>"
      ],
      "text/plain": [
       "   customerID  gender  SeniorCitizen Partner Dependents  tenure PhoneService  \\\n",
       "0  7590-VHVEG  Female              0     Yes         No       1           No   \n",
       "1  5575-GNVDE    Male              0      No         No      34          Yes   \n",
       "\n",
       "      MultipleLines InternetService OnlineSecurity  ... TechSupport  \\\n",
       "0  No phone service             DSL             No  ...          No   \n",
       "1                No             DSL            Yes  ...          No   \n",
       "\n",
       "  StreamingTV StreamingMovies        Contract PaperlessBilling  \\\n",
       "0          No              No  Month-to-month              Yes   \n",
       "1          No              No        One year               No   \n",
       "\n",
       "      PaymentMethod MonthlyCharges TotalCharges  Churn   Tenure cohort  \n",
       "0  Electronic check          29.85        29.85     No     0-12 months  \n",
       "1      Mailed check          56.95      1889.50     No  24 - 48 months  \n",
       "\n",
       "[2 rows x 22 columns]"
      ]
     },
     "execution_count": 83,
     "metadata": {},
     "output_type": "execute_result"
    }
   ],
   "source": [
    "df.head(2)"
   ]
  },
  {
   "cell_type": "code",
   "execution_count": 84,
   "id": "f514087a-ebb2-4ca5-a55b-ac212faa267f",
   "metadata": {},
   "outputs": [],
   "source": [
    "X = df.drop(['Churn', 'customerID'],axis = 1)"
   ]
  },
  {
   "cell_type": "code",
   "execution_count": 85,
   "id": "ebafb18b-f1b1-4f7d-806c-df53428b5372",
   "metadata": {},
   "outputs": [],
   "source": [
    "X = pd.get_dummies(X,drop_first=True)"
   ]
  },
  {
   "cell_type": "code",
   "execution_count": 86,
   "id": "3bc1efb2-3979-49c3-a3ae-496e1eff643f",
   "metadata": {},
   "outputs": [],
   "source": [
    "y = df['Churn']"
   ]
  },
  {
   "cell_type": "code",
   "execution_count": 87,
   "id": "c97d1a56-1577-4ac1-a65f-fd6b16312025",
   "metadata": {},
   "outputs": [],
   "source": [
    "# Train test split"
   ]
  },
  {
   "cell_type": "code",
   "execution_count": 88,
   "id": "34c9c796-18a4-4b61-8583-7bffd35f8bd7",
   "metadata": {},
   "outputs": [],
   "source": [
    "from sklearn.model_selection import train_test_split\n",
    "X_train,X_test,y_train,y_test = train_test_split(X,y,test_size= 0.1,random_state=101)"
   ]
  },
  {
   "cell_type": "markdown",
   "id": "142cb473-6fb4-41cc-992d-8e61f3c0303e",
   "metadata": {},
   "source": [
    "# Decision Tree model"
   ]
  },
  {
   "cell_type": "code",
   "execution_count": 89,
   "id": "178b994b-05fe-4c03-9a9f-83d326e27d7d",
   "metadata": {},
   "outputs": [],
   "source": [
    "from sklearn.tree import DecisionTreeClassifier "
   ]
  },
  {
   "cell_type": "code",
   "execution_count": 90,
   "id": "73479d46-6f3a-407f-a4d1-dc364fd2538a",
   "metadata": {},
   "outputs": [],
   "source": [
    "model_dt  = DecisionTreeClassifier(max_depth = 6)"
   ]
  },
  {
   "cell_type": "code",
   "execution_count": 91,
   "id": "ef109fbe-81a2-4b94-acc7-ff5d5e3875ba",
   "metadata": {},
   "outputs": [
    {
     "data": {
      "text/html": [
       "<style>#sk-container-id-1 {color: black;background-color: white;}#sk-container-id-1 pre{padding: 0;}#sk-container-id-1 div.sk-toggleable {background-color: white;}#sk-container-id-1 label.sk-toggleable__label {cursor: pointer;display: block;width: 100%;margin-bottom: 0;padding: 0.3em;box-sizing: border-box;text-align: center;}#sk-container-id-1 label.sk-toggleable__label-arrow:before {content: \"▸\";float: left;margin-right: 0.25em;color: #696969;}#sk-container-id-1 label.sk-toggleable__label-arrow:hover:before {color: black;}#sk-container-id-1 div.sk-estimator:hover label.sk-toggleable__label-arrow:before {color: black;}#sk-container-id-1 div.sk-toggleable__content {max-height: 0;max-width: 0;overflow: hidden;text-align: left;background-color: #f0f8ff;}#sk-container-id-1 div.sk-toggleable__content pre {margin: 0.2em;color: black;border-radius: 0.25em;background-color: #f0f8ff;}#sk-container-id-1 input.sk-toggleable__control:checked~div.sk-toggleable__content {max-height: 200px;max-width: 100%;overflow: auto;}#sk-container-id-1 input.sk-toggleable__control:checked~label.sk-toggleable__label-arrow:before {content: \"▾\";}#sk-container-id-1 div.sk-estimator input.sk-toggleable__control:checked~label.sk-toggleable__label {background-color: #d4ebff;}#sk-container-id-1 div.sk-label input.sk-toggleable__control:checked~label.sk-toggleable__label {background-color: #d4ebff;}#sk-container-id-1 input.sk-hidden--visually {border: 0;clip: rect(1px 1px 1px 1px);clip: rect(1px, 1px, 1px, 1px);height: 1px;margin: -1px;overflow: hidden;padding: 0;position: absolute;width: 1px;}#sk-container-id-1 div.sk-estimator {font-family: monospace;background-color: #f0f8ff;border: 1px dotted black;border-radius: 0.25em;box-sizing: border-box;margin-bottom: 0.5em;}#sk-container-id-1 div.sk-estimator:hover {background-color: #d4ebff;}#sk-container-id-1 div.sk-parallel-item::after {content: \"\";width: 100%;border-bottom: 1px solid gray;flex-grow: 1;}#sk-container-id-1 div.sk-label:hover label.sk-toggleable__label {background-color: #d4ebff;}#sk-container-id-1 div.sk-serial::before {content: \"\";position: absolute;border-left: 1px solid gray;box-sizing: border-box;top: 0;bottom: 0;left: 50%;z-index: 0;}#sk-container-id-1 div.sk-serial {display: flex;flex-direction: column;align-items: center;background-color: white;padding-right: 0.2em;padding-left: 0.2em;position: relative;}#sk-container-id-1 div.sk-item {position: relative;z-index: 1;}#sk-container-id-1 div.sk-parallel {display: flex;align-items: stretch;justify-content: center;background-color: white;position: relative;}#sk-container-id-1 div.sk-item::before, #sk-container-id-1 div.sk-parallel-item::before {content: \"\";position: absolute;border-left: 1px solid gray;box-sizing: border-box;top: 0;bottom: 0;left: 50%;z-index: -1;}#sk-container-id-1 div.sk-parallel-item {display: flex;flex-direction: column;z-index: 1;position: relative;background-color: white;}#sk-container-id-1 div.sk-parallel-item:first-child::after {align-self: flex-end;width: 50%;}#sk-container-id-1 div.sk-parallel-item:last-child::after {align-self: flex-start;width: 50%;}#sk-container-id-1 div.sk-parallel-item:only-child::after {width: 0;}#sk-container-id-1 div.sk-dashed-wrapped {border: 1px dashed gray;margin: 0 0.4em 0.5em 0.4em;box-sizing: border-box;padding-bottom: 0.4em;background-color: white;}#sk-container-id-1 div.sk-label label {font-family: monospace;font-weight: bold;display: inline-block;line-height: 1.2em;}#sk-container-id-1 div.sk-label-container {text-align: center;}#sk-container-id-1 div.sk-container {/* jupyter's `normalize.less` sets `[hidden] { display: none; }` but bootstrap.min.css set `[hidden] { display: none !important; }` so we also need the `!important` here to be able to override the default hidden behavior on the sphinx rendered scikit-learn.org. See: https://github.com/scikit-learn/scikit-learn/issues/21755 */display: inline-block !important;position: relative;}#sk-container-id-1 div.sk-text-repr-fallback {display: none;}</style><div id=\"sk-container-id-1\" class=\"sk-top-container\"><div class=\"sk-text-repr-fallback\"><pre>DecisionTreeClassifier(max_depth=6)</pre><b>In a Jupyter environment, please rerun this cell to show the HTML representation or trust the notebook. <br />On GitHub, the HTML representation is unable to render, please try loading this page with nbviewer.org.</b></div><div class=\"sk-container\" hidden><div class=\"sk-item\"><div class=\"sk-estimator sk-toggleable\"><input class=\"sk-toggleable__control sk-hidden--visually\" id=\"sk-estimator-id-1\" type=\"checkbox\" checked><label for=\"sk-estimator-id-1\" class=\"sk-toggleable__label sk-toggleable__label-arrow\">DecisionTreeClassifier</label><div class=\"sk-toggleable__content\"><pre>DecisionTreeClassifier(max_depth=6)</pre></div></div></div></div></div>"
      ],
      "text/plain": [
       "DecisionTreeClassifier(max_depth=6)"
      ]
     },
     "execution_count": 91,
     "metadata": {},
     "output_type": "execute_result"
    }
   ],
   "source": [
    "model_dt.fit(X_train,y_train)"
   ]
  },
  {
   "cell_type": "code",
   "execution_count": 92,
   "id": "3b7e7358-78f6-4d7a-9205-a2aded886cd5",
   "metadata": {},
   "outputs": [],
   "source": [
    "# performance metrics"
   ]
  },
  {
   "cell_type": "code",
   "execution_count": 93,
   "id": "1ee7455e-fef5-4646-9584-bd564991c143",
   "metadata": {},
   "outputs": [],
   "source": [
    "from sklearn.metrics import classification_report, plot_confusion_matrix"
   ]
  },
  {
   "cell_type": "code",
   "execution_count": 94,
   "id": "ca2d8332-f1c4-4746-8faf-833a9c43a4b2",
   "metadata": {},
   "outputs": [],
   "source": [
    "y_predict = model_dt.predict(X_test)\n",
    "class_report = classification_report(y_predict, y_test)"
   ]
  },
  {
   "cell_type": "code",
   "execution_count": 95,
   "id": "a0539dbb-d1ca-4d9a-8015-c828fe5872d5",
   "metadata": {},
   "outputs": [
    {
     "name": "stdout",
     "output_type": "stream",
     "text": [
      "              precision    recall  f1-score   support\n",
      "\n",
      "          No       0.89      0.87      0.88       572\n",
      "         Yes       0.49      0.55      0.52       132\n",
      "\n",
      "    accuracy                           0.81       704\n",
      "   macro avg       0.69      0.71      0.70       704\n",
      "weighted avg       0.82      0.81      0.81       704\n",
      "\n"
     ]
    }
   ],
   "source": [
    "print(class_report)"
   ]
  },
  {
   "cell_type": "code",
   "execution_count": 96,
   "id": "2ba854f8-e33b-408c-8edf-2e6699114416",
   "metadata": {},
   "outputs": [
    {
     "name": "stderr",
     "output_type": "stream",
     "text": [
      "C:\\Users\\240G_up\\AppData\\Local\\Programs\\Python\\Python310\\lib\\site-packages\\sklearn\\utils\\deprecation.py:87: FutureWarning: Function plot_confusion_matrix is deprecated; Function `plot_confusion_matrix` is deprecated in 1.0 and will be removed in 1.2. Use one of the class methods: ConfusionMatrixDisplay.from_predictions or ConfusionMatrixDisplay.from_estimator.\n",
      "  warnings.warn(msg, category=FutureWarning)\n"
     ]
    },
    {
     "data": {
      "text/plain": [
       "<sklearn.metrics._plot.confusion_matrix.ConfusionMatrixDisplay at 0x200e7103f10>"
      ]
     },
     "execution_count": 96,
     "metadata": {},
     "output_type": "execute_result"
    },
    {
     "data": {
      "image/png": "[encoded data removed]",
      "text/plain": [
       "<Figure size 432x288 with 2 Axes>"
      ]
     },
     "metadata": {
      "needs_background": "light"
     },
     "output_type": "display_data"
    }
   ],
   "source": [
    "plot_confusion_matrix(model_dt,X_test, y_test)"
   ]
  },
  {
   "cell_type": "code",
   "execution_count": 97,
   "id": "0ca6dae0-a066-48c9-8f04-dfcccb2b9e76",
   "metadata": {},
   "outputs": [],
   "source": [
    "# calculate the feature importance of decision tree"
   ]
  },
  {
   "cell_type": "code",
   "execution_count": 98,
   "id": "c1a53b2b-2941-4014-8c3b-acef2e3d30ea",
   "metadata": {},
   "outputs": [
    {
     "data": {
      "text/plain": [
       "array([0.01082504, 0.42391407, 0.04611481, 0.06416831, 0.00123697,\n",
       "       0.        , 0.        , 0.00088963, 0.00696195, 0.01243191,\n",
       "       0.31406016, 0.        , 0.        , 0.00837585, 0.        ,\n",
       "       0.00534132, 0.        , 0.        , 0.        , 0.00786752,\n",
       "       0.02628952, 0.        , 0.        , 0.        , 0.01002118,\n",
       "       0.02706543, 0.        , 0.        , 0.03443632, 0.        ,\n",
       "       0.        , 0.        , 0.        ])"
      ]
     },
     "execution_count": 98,
     "metadata": {},
     "output_type": "execute_result"
    }
   ],
   "source": [
    "model_dt.feature_importances_"
   ]
  },
  {
   "cell_type": "code",
   "execution_count": 99,
   "id": "61e396ed-b438-4fd3-8367-dbc4edbdfa2a",
   "metadata": {},
   "outputs": [],
   "source": [
    "imp_fea = pd.DataFrame(model_dt.feature_importances_, index = X.columns,columns = ['feature_Important'])"
   ]
  },
  {
   "cell_type": "code",
   "execution_count": 100,
   "id": "cf98d8fe-40ed-4daf-86d9-b48c82df306e",
   "metadata": {},
   "outputs": [
    {
     "data": {
      "text/html": [
       "<div>\n",
       "<style scoped>\n",
       "    .dataframe tbody tr th:only-of-type {\n",
       "        vertical-align: middle;\n",
       "    }\n",
       "\n",
       "    .dataframe tbody tr th {\n",
       "        vertical-align: top;\n",
       "    }\n",
       "\n",
       "    .dataframe thead th {\n",
       "        text-align: right;\n",
       "    }\n",
       "</style>\n",
       "<table border=\"1\" class=\"dataframe\">\n",
       "  <thead>\n",
       "    <tr style=\"text-align: right;\">\n",
       "      <th></th>\n",
       "      <th>feature_Important</th>\n",
       "    </tr>\n",
       "  </thead>\n",
       "  <tbody>\n",
       "    <tr>\n",
       "      <th>SeniorCitizen</th>\n",
       "      <td>0.010825</td>\n",
       "    </tr>\n",
       "    <tr>\n",
       "      <th>tenure</th>\n",
       "      <td>0.423914</td>\n",
       "    </tr>\n",
       "    <tr>\n",
       "      <th>MonthlyCharges</th>\n",
       "      <td>0.046115</td>\n",
       "    </tr>\n",
       "    <tr>\n",
       "      <th>TotalCharges</th>\n",
       "      <td>0.064168</td>\n",
       "    </tr>\n",
       "    <tr>\n",
       "      <th>gender_Male</th>\n",
       "      <td>0.001237</td>\n",
       "    </tr>\n",
       "    <tr>\n",
       "      <th>Partner_Yes</th>\n",
       "      <td>0.000000</td>\n",
       "    </tr>\n",
       "    <tr>\n",
       "      <th>Dependents_Yes</th>\n",
       "      <td>0.000000</td>\n",
       "    </tr>\n",
       "    <tr>\n",
       "      <th>PhoneService_Yes</th>\n",
       "      <td>0.000890</td>\n",
       "    </tr>\n",
       "    <tr>\n",
       "      <th>MultipleLines_No phone service</th>\n",
       "      <td>0.006962</td>\n",
       "    </tr>\n",
       "    <tr>\n",
       "      <th>MultipleLines_Yes</th>\n",
       "      <td>0.012432</td>\n",
       "    </tr>\n",
       "    <tr>\n",
       "      <th>InternetService_Fiber optic</th>\n",
       "      <td>0.314060</td>\n",
       "    </tr>\n",
       "    <tr>\n",
       "      <th>InternetService_No</th>\n",
       "      <td>0.000000</td>\n",
       "    </tr>\n",
       "    <tr>\n",
       "      <th>OnlineSecurity_No internet service</th>\n",
       "      <td>0.000000</td>\n",
       "    </tr>\n",
       "    <tr>\n",
       "      <th>OnlineSecurity_Yes</th>\n",
       "      <td>0.008376</td>\n",
       "    </tr>\n",
       "    <tr>\n",
       "      <th>OnlineBackup_No internet service</th>\n",
       "      <td>0.000000</td>\n",
       "    </tr>\n",
       "    <tr>\n",
       "      <th>OnlineBackup_Yes</th>\n",
       "      <td>0.005341</td>\n",
       "    </tr>\n",
       "    <tr>\n",
       "      <th>DeviceProtection_No internet service</th>\n",
       "      <td>0.000000</td>\n",
       "    </tr>\n",
       "    <tr>\n",
       "      <th>DeviceProtection_Yes</th>\n",
       "      <td>0.000000</td>\n",
       "    </tr>\n",
       "    <tr>\n",
       "      <th>TechSupport_No internet service</th>\n",
       "      <td>0.000000</td>\n",
       "    </tr>\n",
       "    <tr>\n",
       "      <th>TechSupport_Yes</th>\n",
       "      <td>0.007868</td>\n",
       "    </tr>\n",
       "    <tr>\n",
       "      <th>StreamingTV_No internet service</th>\n",
       "      <td>0.026290</td>\n",
       "    </tr>\n",
       "    <tr>\n",
       "      <th>StreamingTV_Yes</th>\n",
       "      <td>0.000000</td>\n",
       "    </tr>\n",
       "    <tr>\n",
       "      <th>StreamingMovies_No internet service</th>\n",
       "      <td>0.000000</td>\n",
       "    </tr>\n",
       "    <tr>\n",
       "      <th>StreamingMovies_Yes</th>\n",
       "      <td>0.000000</td>\n",
       "    </tr>\n",
       "    <tr>\n",
       "      <th>Contract_One year</th>\n",
       "      <td>0.010021</td>\n",
       "    </tr>\n",
       "    <tr>\n",
       "      <th>Contract_Two year</th>\n",
       "      <td>0.027065</td>\n",
       "    </tr>\n",
       "    <tr>\n",
       "      <th>PaperlessBilling_Yes</th>\n",
       "      <td>0.000000</td>\n",
       "    </tr>\n",
       "    <tr>\n",
       "      <th>PaymentMethod_Credit card (automatic)</th>\n",
       "      <td>0.000000</td>\n",
       "    </tr>\n",
       "    <tr>\n",
       "      <th>PaymentMethod_Electronic check</th>\n",
       "      <td>0.034436</td>\n",
       "    </tr>\n",
       "    <tr>\n",
       "      <th>PaymentMethod_Mailed check</th>\n",
       "      <td>0.000000</td>\n",
       "    </tr>\n",
       "    <tr>\n",
       "      <th>Tenure cohort_12-24 months</th>\n",
       "      <td>0.000000</td>\n",
       "    </tr>\n",
       "    <tr>\n",
       "      <th>Tenure cohort_24 - 48 months</th>\n",
       "      <td>0.000000</td>\n",
       "    </tr>\n",
       "    <tr>\n",
       "      <th>Tenure cohort_over 48 months</th>\n",
       "      <td>0.000000</td>\n",
       "    </tr>\n",
       "  </tbody>\n",
       "</table>\n",
       "</div>"
      ],
      "text/plain": [
       "                                       feature_Important\n",
       "SeniorCitizen                                   0.010825\n",
       "tenure                                          0.423914\n",
       "MonthlyCharges                                  0.046115\n",
       "TotalCharges                                    0.064168\n",
       "gender_Male                                     0.001237\n",
       "Partner_Yes                                     0.000000\n",
       "Dependents_Yes                                  0.000000\n",
       "PhoneService_Yes                                0.000890\n",
       "MultipleLines_No phone service                  0.006962\n",
       "MultipleLines_Yes                               0.012432\n",
       "InternetService_Fiber optic                     0.314060\n",
       "InternetService_No                              0.000000\n",
       "OnlineSecurity_No internet service              0.000000\n",
       "OnlineSecurity_Yes                              0.008376\n",
       "OnlineBackup_No internet service                0.000000\n",
       "OnlineBackup_Yes                                0.005341\n",
       "DeviceProtection_No internet service            0.000000\n",
       "DeviceProtection_Yes                            0.000000\n",
       "TechSupport_No internet service                 0.000000\n",
       "TechSupport_Yes                                 0.007868\n",
       "StreamingTV_No internet service                 0.026290\n",
       "StreamingTV_Yes                                 0.000000\n",
       "StreamingMovies_No internet service             0.000000\n",
       "StreamingMovies_Yes                             0.000000\n",
       "Contract_One year                               0.010021\n",
       "Contract_Two year                               0.027065\n",
       "PaperlessBilling_Yes                            0.000000\n",
       "PaymentMethod_Credit card (automatic)           0.000000\n",
       "PaymentMethod_Electronic check                  0.034436\n",
       "PaymentMethod_Mailed check                      0.000000\n",
       "Tenure cohort_12-24 months                      0.000000\n",
       "Tenure cohort_24 - 48 months                    0.000000\n",
       "Tenure cohort_over 48 months                    0.000000"
      ]
     },
     "execution_count": 100,
     "metadata": {},
     "output_type": "execute_result"
    }
   ],
   "source": [
    "imp_fea"
   ]
  },
  {
   "cell_type": "code",
   "execution_count": 101,
   "id": "9dcad177-c085-4db8-9be1-0ac41f3c3d9f",
   "metadata": {},
   "outputs": [],
   "source": [
    "imp_fea = imp_fea.sort_values('feature_Important')"
   ]
  },
  {
   "cell_type": "code",
   "execution_count": 102,
   "id": "e84d5c71-4cd3-4f97-b231-7dc4356c19db",
   "metadata": {},
   "outputs": [
    {
     "data": {
      "text/html": [
       "<div>\n",
       "<style scoped>\n",
       "    .dataframe tbody tr th:only-of-type {\n",
       "        vertical-align: middle;\n",
       "    }\n",
       "\n",
       "    .dataframe tbody tr th {\n",
       "        vertical-align: top;\n",
       "    }\n",
       "\n",
       "    .dataframe thead th {\n",
       "        text-align: right;\n",
       "    }\n",
       "</style>\n",
       "<table border=\"1\" class=\"dataframe\">\n",
       "  <thead>\n",
       "    <tr style=\"text-align: right;\">\n",
       "      <th></th>\n",
       "      <th>feature_Important</th>\n",
       "    </tr>\n",
       "  </thead>\n",
       "  <tbody>\n",
       "    <tr>\n",
       "      <th>DeviceProtection_No internet service</th>\n",
       "      <td>0.000000</td>\n",
       "    </tr>\n",
       "    <tr>\n",
       "      <th>Tenure cohort_12-24 months</th>\n",
       "      <td>0.000000</td>\n",
       "    </tr>\n",
       "    <tr>\n",
       "      <th>PaymentMethod_Mailed check</th>\n",
       "      <td>0.000000</td>\n",
       "    </tr>\n",
       "    <tr>\n",
       "      <th>PaymentMethod_Credit card (automatic)</th>\n",
       "      <td>0.000000</td>\n",
       "    </tr>\n",
       "    <tr>\n",
       "      <th>PaperlessBilling_Yes</th>\n",
       "      <td>0.000000</td>\n",
       "    </tr>\n",
       "    <tr>\n",
       "      <th>StreamingMovies_Yes</th>\n",
       "      <td>0.000000</td>\n",
       "    </tr>\n",
       "    <tr>\n",
       "      <th>StreamingMovies_No internet service</th>\n",
       "      <td>0.000000</td>\n",
       "    </tr>\n",
       "    <tr>\n",
       "      <th>StreamingTV_Yes</th>\n",
       "      <td>0.000000</td>\n",
       "    </tr>\n",
       "    <tr>\n",
       "      <th>TechSupport_No internet service</th>\n",
       "      <td>0.000000</td>\n",
       "    </tr>\n",
       "    <tr>\n",
       "      <th>DeviceProtection_Yes</th>\n",
       "      <td>0.000000</td>\n",
       "    </tr>\n",
       "    <tr>\n",
       "      <th>Tenure cohort_24 - 48 months</th>\n",
       "      <td>0.000000</td>\n",
       "    </tr>\n",
       "    <tr>\n",
       "      <th>OnlineBackup_No internet service</th>\n",
       "      <td>0.000000</td>\n",
       "    </tr>\n",
       "    <tr>\n",
       "      <th>Tenure cohort_over 48 months</th>\n",
       "      <td>0.000000</td>\n",
       "    </tr>\n",
       "    <tr>\n",
       "      <th>Dependents_Yes</th>\n",
       "      <td>0.000000</td>\n",
       "    </tr>\n",
       "    <tr>\n",
       "      <th>InternetService_No</th>\n",
       "      <td>0.000000</td>\n",
       "    </tr>\n",
       "    <tr>\n",
       "      <th>Partner_Yes</th>\n",
       "      <td>0.000000</td>\n",
       "    </tr>\n",
       "    <tr>\n",
       "      <th>OnlineSecurity_No internet service</th>\n",
       "      <td>0.000000</td>\n",
       "    </tr>\n",
       "    <tr>\n",
       "      <th>PhoneService_Yes</th>\n",
       "      <td>0.000890</td>\n",
       "    </tr>\n",
       "    <tr>\n",
       "      <th>gender_Male</th>\n",
       "      <td>0.001237</td>\n",
       "    </tr>\n",
       "    <tr>\n",
       "      <th>OnlineBackup_Yes</th>\n",
       "      <td>0.005341</td>\n",
       "    </tr>\n",
       "    <tr>\n",
       "      <th>MultipleLines_No phone service</th>\n",
       "      <td>0.006962</td>\n",
       "    </tr>\n",
       "    <tr>\n",
       "      <th>TechSupport_Yes</th>\n",
       "      <td>0.007868</td>\n",
       "    </tr>\n",
       "    <tr>\n",
       "      <th>OnlineSecurity_Yes</th>\n",
       "      <td>0.008376</td>\n",
       "    </tr>\n",
       "    <tr>\n",
       "      <th>Contract_One year</th>\n",
       "      <td>0.010021</td>\n",
       "    </tr>\n",
       "    <tr>\n",
       "      <th>SeniorCitizen</th>\n",
       "      <td>0.010825</td>\n",
       "    </tr>\n",
       "    <tr>\n",
       "      <th>MultipleLines_Yes</th>\n",
       "      <td>0.012432</td>\n",
       "    </tr>\n",
       "    <tr>\n",
       "      <th>StreamingTV_No internet service</th>\n",
       "      <td>0.026290</td>\n",
       "    </tr>\n",
       "    <tr>\n",
       "      <th>Contract_Two year</th>\n",
       "      <td>0.027065</td>\n",
       "    </tr>\n",
       "    <tr>\n",
       "      <th>PaymentMethod_Electronic check</th>\n",
       "      <td>0.034436</td>\n",
       "    </tr>\n",
       "    <tr>\n",
       "      <th>MonthlyCharges</th>\n",
       "      <td>0.046115</td>\n",
       "    </tr>\n",
       "    <tr>\n",
       "      <th>TotalCharges</th>\n",
       "      <td>0.064168</td>\n",
       "    </tr>\n",
       "    <tr>\n",
       "      <th>InternetService_Fiber optic</th>\n",
       "      <td>0.314060</td>\n",
       "    </tr>\n",
       "    <tr>\n",
       "      <th>tenure</th>\n",
       "      <td>0.423914</td>\n",
       "    </tr>\n",
       "  </tbody>\n",
       "</table>\n",
       "</div>"
      ],
      "text/plain": [
       "                                       feature_Important\n",
       "DeviceProtection_No internet service            0.000000\n",
       "Tenure cohort_12-24 months                      0.000000\n",
       "PaymentMethod_Mailed check                      0.000000\n",
       "PaymentMethod_Credit card (automatic)           0.000000\n",
       "PaperlessBilling_Yes                            0.000000\n",
       "StreamingMovies_Yes                             0.000000\n",
       "StreamingMovies_No internet service             0.000000\n",
       "StreamingTV_Yes                                 0.000000\n",
       "TechSupport_No internet service                 0.000000\n",
       "DeviceProtection_Yes                            0.000000\n",
       "Tenure cohort_24 - 48 months                    0.000000\n",
       "OnlineBackup_No internet service                0.000000\n",
       "Tenure cohort_over 48 months                    0.000000\n",
       "Dependents_Yes                                  0.000000\n",
       "InternetService_No                              0.000000\n",
       "Partner_Yes                                     0.000000\n",
       "OnlineSecurity_No internet service              0.000000\n",
       "PhoneService_Yes                                0.000890\n",
       "gender_Male                                     0.001237\n",
       "OnlineBackup_Yes                                0.005341\n",
       "MultipleLines_No phone service                  0.006962\n",
       "TechSupport_Yes                                 0.007868\n",
       "OnlineSecurity_Yes                              0.008376\n",
       "Contract_One year                               0.010021\n",
       "SeniorCitizen                                   0.010825\n",
       "MultipleLines_Yes                               0.012432\n",
       "StreamingTV_No internet service                 0.026290\n",
       "Contract_Two year                               0.027065\n",
       "PaymentMethod_Electronic check                  0.034436\n",
       "MonthlyCharges                                  0.046115\n",
       "TotalCharges                                    0.064168\n",
       "InternetService_Fiber optic                     0.314060\n",
       "tenure                                          0.423914"
      ]
     },
     "execution_count": 102,
     "metadata": {},
     "output_type": "execute_result"
    }
   ],
   "source": [
    "imp_fea"
   ]
  },
  {
   "cell_type": "code",
   "execution_count": 103,
   "id": "eedf480c-59c0-44d6-b5dc-04f980ce29ad",
   "metadata": {},
   "outputs": [],
   "source": [
    "imp_fea =imp_fea[imp_fea['feature_Important']>0]"
   ]
  },
  {
   "cell_type": "code",
   "execution_count": 104,
   "id": "4463679a-591f-43ab-8746-1bc8f3c45321",
   "metadata": {
    "tags": []
   },
   "outputs": [
    {
     "data": {
      "text/html": [
       "<div>\n",
       "<style scoped>\n",
       "    .dataframe tbody tr th:only-of-type {\n",
       "        vertical-align: middle;\n",
       "    }\n",
       "\n",
       "    .dataframe tbody tr th {\n",
       "        vertical-align: top;\n",
       "    }\n",
       "\n",
       "    .dataframe thead th {\n",
       "        text-align: right;\n",
       "    }\n",
       "</style>\n",
       "<table border=\"1\" class=\"dataframe\">\n",
       "  <thead>\n",
       "    <tr style=\"text-align: right;\">\n",
       "      <th></th>\n",
       "      <th>feature_Important</th>\n",
       "    </tr>\n",
       "  </thead>\n",
       "  <tbody>\n",
       "    <tr>\n",
       "      <th>PhoneService_Yes</th>\n",
       "      <td>0.000890</td>\n",
       "    </tr>\n",
       "    <tr>\n",
       "      <th>gender_Male</th>\n",
       "      <td>0.001237</td>\n",
       "    </tr>\n",
       "    <tr>\n",
       "      <th>OnlineBackup_Yes</th>\n",
       "      <td>0.005341</td>\n",
       "    </tr>\n",
       "    <tr>\n",
       "      <th>MultipleLines_No phone service</th>\n",
       "      <td>0.006962</td>\n",
       "    </tr>\n",
       "    <tr>\n",
       "      <th>TechSupport_Yes</th>\n",
       "      <td>0.007868</td>\n",
       "    </tr>\n",
       "    <tr>\n",
       "      <th>OnlineSecurity_Yes</th>\n",
       "      <td>0.008376</td>\n",
       "    </tr>\n",
       "    <tr>\n",
       "      <th>Contract_One year</th>\n",
       "      <td>0.010021</td>\n",
       "    </tr>\n",
       "    <tr>\n",
       "      <th>SeniorCitizen</th>\n",
       "      <td>0.010825</td>\n",
       "    </tr>\n",
       "    <tr>\n",
       "      <th>MultipleLines_Yes</th>\n",
       "      <td>0.012432</td>\n",
       "    </tr>\n",
       "    <tr>\n",
       "      <th>StreamingTV_No internet service</th>\n",
       "      <td>0.026290</td>\n",
       "    </tr>\n",
       "    <tr>\n",
       "      <th>Contract_Two year</th>\n",
       "      <td>0.027065</td>\n",
       "    </tr>\n",
       "    <tr>\n",
       "      <th>PaymentMethod_Electronic check</th>\n",
       "      <td>0.034436</td>\n",
       "    </tr>\n",
       "    <tr>\n",
       "      <th>MonthlyCharges</th>\n",
       "      <td>0.046115</td>\n",
       "    </tr>\n",
       "    <tr>\n",
       "      <th>TotalCharges</th>\n",
       "      <td>0.064168</td>\n",
       "    </tr>\n",
       "    <tr>\n",
       "      <th>InternetService_Fiber optic</th>\n",
       "      <td>0.314060</td>\n",
       "    </tr>\n",
       "    <tr>\n",
       "      <th>tenure</th>\n",
       "      <td>0.423914</td>\n",
       "    </tr>\n",
       "  </tbody>\n",
       "</table>\n",
       "</div>"
      ],
      "text/plain": [
       "                                 feature_Important\n",
       "PhoneService_Yes                          0.000890\n",
       "gender_Male                               0.001237\n",
       "OnlineBackup_Yes                          0.005341\n",
       "MultipleLines_No phone service            0.006962\n",
       "TechSupport_Yes                           0.007868\n",
       "OnlineSecurity_Yes                        0.008376\n",
       "Contract_One year                         0.010021\n",
       "SeniorCitizen                             0.010825\n",
       "MultipleLines_Yes                         0.012432\n",
       "StreamingTV_No internet service           0.026290\n",
       "Contract_Two year                         0.027065\n",
       "PaymentMethod_Electronic check            0.034436\n",
       "MonthlyCharges                            0.046115\n",
       "TotalCharges                              0.064168\n",
       "InternetService_Fiber optic               0.314060\n",
       "tenure                                    0.423914"
      ]
     },
     "execution_count": 104,
     "metadata": {},
     "output_type": "execute_result"
    }
   ],
   "source": [
    "imp_fea"
   ]
  },
  {
   "cell_type": "code",
   "execution_count": 105,
   "id": "a9f7756e-6c44-4454-9996-73de944697f5",
   "metadata": {},
   "outputs": [
    {
     "data": {
      "image/png": "[encoded data removed]",
      "text/plain": [
       "<Figure size 432x288 with 1 Axes>"
      ]
     },
     "metadata": {
      "needs_background": "light"
     },
     "output_type": "display_data"
    }
   ],
   "source": [
    "sns.barplot(data = imp_fea, x = imp_fea.index, y ='feature_Important' )\n",
    "plt.xticks(rotation = 90);"
   ]
  },
  {
   "cell_type": "code",
   "execution_count": 106,
   "id": "3ba0df0b-1af7-4708-a33b-483f5f4aa043",
   "metadata": {},
   "outputs": [],
   "source": [
    "# Random forest algorithm"
   ]
  },
  {
   "cell_type": "code",
   "execution_count": 107,
   "id": "92820199-9a1a-45e7-a08d-39d5a6837814",
   "metadata": {},
   "outputs": [],
   "source": [
    "# Task - Create a Random forest model and create a classification report, confusion matrix."
   ]
  },
  {
   "cell_type": "code",
   "execution_count": 115,
   "id": "2f30e5d7-215c-4274-b1f9-f0f7f84f180c",
   "metadata": {},
   "outputs": [],
   "source": [
    "from sklearn.ensemble import RandomForestClassifier"
   ]
  },
  {
   "cell_type": "code",
   "execution_count": 126,
   "id": "6bbf962f-76a2-4a67-bf10-8dd0fcc908ae",
   "metadata": {},
   "outputs": [],
   "source": [
    "model_rf = RandomForestClassifier(max_depth=6)"
   ]
  },
  {
   "cell_type": "code",
   "execution_count": 127,
   "id": "f9e7be9f-71e7-43c8-9913-569415d808af",
   "metadata": {},
   "outputs": [
    {
     "data": {
      "text/html": [
       "<style>#sk-container-id-5 {color: black;background-color: white;}#sk-container-id-5 pre{padding: 0;}#sk-container-id-5 div.sk-toggleable {background-color: white;}#sk-container-id-5 label.sk-toggleable__label {cursor: pointer;display: block;width: 100%;margin-bottom: 0;padding: 0.3em;box-sizing: border-box;text-align: center;}#sk-container-id-5 label.sk-toggleable__label-arrow:before {content: \"▸\";float: left;margin-right: 0.25em;color: #696969;}#sk-container-id-5 label.sk-toggleable__label-arrow:hover:before {color: black;}#sk-container-id-5 div.sk-estimator:hover label.sk-toggleable__label-arrow:before {color: black;}#sk-container-id-5 div.sk-toggleable__content {max-height: 0;max-width: 0;overflow: hidden;text-align: left;background-color: #f0f8ff;}#sk-container-id-5 div.sk-toggleable__content pre {margin: 0.2em;color: black;border-radius: 0.25em;background-color: #f0f8ff;}#sk-container-id-5 input.sk-toggleable__control:checked~div.sk-toggleable__content {max-height: 200px;max-width: 100%;overflow: auto;}#sk-container-id-5 input.sk-toggleable__control:checked~label.sk-toggleable__label-arrow:before {content: \"▾\";}#sk-container-id-5 div.sk-estimator input.sk-toggleable__control:checked~label.sk-toggleable__label {background-color: #d4ebff;}#sk-container-id-5 div.sk-label input.sk-toggleable__control:checked~label.sk-toggleable__label {background-color: #d4ebff;}#sk-container-id-5 input.sk-hidden--visually {border: 0;clip: rect(1px 1px 1px 1px);clip: rect(1px, 1px, 1px, 1px);height: 1px;margin: -1px;overflow: hidden;padding: 0;position: absolute;width: 1px;}#sk-container-id-5 div.sk-estimator {font-family: monospace;background-color: #f0f8ff;border: 1px dotted black;border-radius: 0.25em;box-sizing: border-box;margin-bottom: 0.5em;}#sk-container-id-5 div.sk-estimator:hover {background-color: #d4ebff;}#sk-container-id-5 div.sk-parallel-item::after {content: \"\";width: 100%;border-bottom: 1px solid gray;flex-grow: 1;}#sk-container-id-5 div.sk-label:hover label.sk-toggleable__label {background-color: #d4ebff;}#sk-container-id-5 div.sk-serial::before {content: \"\";position: absolute;border-left: 1px solid gray;box-sizing: border-box;top: 0;bottom: 0;left: 50%;z-index: 0;}#sk-container-id-5 div.sk-serial {display: flex;flex-direction: column;align-items: center;background-color: white;padding-right: 0.2em;padding-left: 0.2em;position: relative;}#sk-container-id-5 div.sk-item {position: relative;z-index: 1;}#sk-container-id-5 div.sk-parallel {display: flex;align-items: stretch;justify-content: center;background-color: white;position: relative;}#sk-container-id-5 div.sk-item::before, #sk-container-id-5 div.sk-parallel-item::before {content: \"\";position: absolute;border-left: 1px solid gray;box-sizing: border-box;top: 0;bottom: 0;left: 50%;z-index: -1;}#sk-container-id-5 div.sk-parallel-item {display: flex;flex-direction: column;z-index: 1;position: relative;background-color: white;}#sk-container-id-5 div.sk-parallel-item:first-child::after {align-self: flex-end;width: 50%;}#sk-container-id-5 div.sk-parallel-item:last-child::after {align-self: flex-start;width: 50%;}#sk-container-id-5 div.sk-parallel-item:only-child::after {width: 0;}#sk-container-id-5 div.sk-dashed-wrapped {border: 1px dashed gray;margin: 0 0.4em 0.5em 0.4em;box-sizing: border-box;padding-bottom: 0.4em;background-color: white;}#sk-container-id-5 div.sk-label label {font-family: monospace;font-weight: bold;display: inline-block;line-height: 1.2em;}#sk-container-id-5 div.sk-label-container {text-align: center;}#sk-container-id-5 div.sk-container {/* jupyter's `normalize.less` sets `[hidden] { display: none; }` but bootstrap.min.css set `[hidden] { display: none !important; }` so we also need the `!important` here to be able to override the default hidden behavior on the sphinx rendered scikit-learn.org. See: https://github.com/scikit-learn/scikit-learn/issues/21755 */display: inline-block !important;position: relative;}#sk-container-id-5 div.sk-text-repr-fallback {display: none;}</style><div id=\"sk-container-id-5\" class=\"sk-top-container\"><div class=\"sk-text-repr-fallback\"><pre>RandomForestClassifier(max_depth=6)</pre><b>In a Jupyter environment, please rerun this cell to show the HTML representation or trust the notebook. <br />On GitHub, the HTML representation is unable to render, please try loading this page with nbviewer.org.</b></div><div class=\"sk-container\" hidden><div class=\"sk-item\"><div class=\"sk-estimator sk-toggleable\"><input class=\"sk-toggleable__control sk-hidden--visually\" id=\"sk-estimator-id-5\" type=\"checkbox\" checked><label for=\"sk-estimator-id-5\" class=\"sk-toggleable__label sk-toggleable__label-arrow\">RandomForestClassifier</label><div class=\"sk-toggleable__content\"><pre>RandomForestClassifier(max_depth=6)</pre></div></div></div></div></div>"
      ],
      "text/plain": [
       "RandomForestClassifier(max_depth=6)"
      ]
     },
     "execution_count": 127,
     "metadata": {},
     "output_type": "execute_result"
    }
   ],
   "source": [
    "model_rf.fit(X_train, y_train)"
   ]
  },
  {
   "cell_type": "code",
   "execution_count": 128,
   "id": "531c91d2-f1ea-447e-95b8-2d576fde7056",
   "metadata": {},
   "outputs": [],
   "source": [
    "# predict model"
   ]
  },
  {
   "cell_type": "code",
   "execution_count": 129,
   "id": "6edbd72f-5c24-40ce-b403-4e9e1d721134",
   "metadata": {},
   "outputs": [],
   "source": [
    "rf_pred = model_rf.predict(X_test)"
   ]
  },
  {
   "cell_type": "code",
   "execution_count": 130,
   "id": "2a4b9f0b-368e-4730-b206-1e693d2a7273",
   "metadata": {},
   "outputs": [],
   "source": [
    "# performace metric of model"
   ]
  },
  {
   "cell_type": "code",
   "execution_count": 131,
   "id": "1f11014c-535e-4004-a754-956d1c24ae6c",
   "metadata": {},
   "outputs": [],
   "source": [
    "from sklearn.metrics import classification_report,plot_confusion_matrix"
   ]
  },
  {
   "cell_type": "code",
   "execution_count": 132,
   "id": "cbe4b32f-67a9-4433-8852-aff0c58c407e",
   "metadata": {},
   "outputs": [],
   "source": [
    "class_report = classification_report(y_test, rf_pred)"
   ]
  },
  {
   "cell_type": "code",
   "execution_count": 133,
   "id": "2cee7495-2c0a-4fa6-86a4-21bc2698c8e1",
   "metadata": {},
   "outputs": [
    {
     "name": "stdout",
     "output_type": "stream",
     "text": [
      "              precision    recall  f1-score   support\n",
      "\n",
      "          No       0.86      0.93      0.89       557\n",
      "         Yes       0.61      0.43      0.50       147\n",
      "\n",
      "    accuracy                           0.82       704\n",
      "   macro avg       0.74      0.68      0.70       704\n",
      "weighted avg       0.81      0.82      0.81       704\n",
      "\n"
     ]
    }
   ],
   "source": [
    "print(class_report)"
   ]
  },
  {
   "cell_type": "code",
   "execution_count": 135,
   "id": "8dc7cb6c-ca59-402c-adcb-446f7bb3bf23",
   "metadata": {},
   "outputs": [
    {
     "data": {
      "text/plain": [
       "<sklearn.metrics._plot.confusion_matrix.ConfusionMatrixDisplay at 0x200f06ce410>"
      ]
     },
     "execution_count": 135,
     "metadata": {},
     "output_type": "execute_result"
    },
    {
     "data": {
      "image/png": "[encoded data removed]",
      "text/plain": [
       "<Figure size 432x288 with 2 Axes>"
      ]
     },
     "metadata": {
      "needs_background": "light"
     },
     "output_type": "display_data"
    }
   ],
   "source": [
    "plot_confusion_matrix(model_rf,X_test, y_test )"
   ]
  },
  {
   "cell_type": "markdown",
   "id": "59513d02-cce3-46af-8e0b-2008335c3505",
   "metadata": {},
   "source": [
    "# BOOSTED TREES"
   ]
  },
  {
   "cell_type": "code",
   "execution_count": 137,
   "id": "f5e2cee3-89f2-4238-b1d9-e084cf297da6",
   "metadata": {},
   "outputs": [],
   "source": [
    "# Lets  use Adaboost or Gradient Boosting to create a model and back the classificaton report & plot a confusion matrix for its predicted results"
   ]
  },
  {
   "cell_type": "code",
   "execution_count": 139,
   "id": "b51b653c-1bf5-448a-b542-7c6d2ac0786b",
   "metadata": {},
   "outputs": [],
   "source": [
    "from sklearn.ensemble import AdaBoostClassifier, GradientBoostingClassifier"
   ]
  },
  {
   "cell_type": "code",
   "execution_count": 140,
   "id": "3f0f6176-e10d-4472-af10-387309ad1caf",
   "metadata": {},
   "outputs": [],
   "source": [
    "model_ada = AdaBoostClassifier()"
   ]
  },
  {
   "cell_type": "code",
   "execution_count": 141,
   "id": "db235faf-2334-4831-871f-bf38df01ba2f",
   "metadata": {},
   "outputs": [],
   "source": [
    "model_gb = GradientBoostingClassifier()"
   ]
  },
  {
   "cell_type": "code",
   "execution_count": 143,
   "id": "61ae234b-6b68-415c-9dc9-4f9314fab5dc",
   "metadata": {},
   "outputs": [
    {
     "data": {
      "text/html": [
       "<style>#sk-container-id-6 {color: black;background-color: white;}#sk-container-id-6 pre{padding: 0;}#sk-container-id-6 div.sk-toggleable {background-color: white;}#sk-container-id-6 label.sk-toggleable__label {cursor: pointer;display: block;width: 100%;margin-bottom: 0;padding: 0.3em;box-sizing: border-box;text-align: center;}#sk-container-id-6 label.sk-toggleable__label-arrow:before {content: \"▸\";float: left;margin-right: 0.25em;color: #696969;}#sk-container-id-6 label.sk-toggleable__label-arrow:hover:before {color: black;}#sk-container-id-6 div.sk-estimator:hover label.sk-toggleable__label-arrow:before {color: black;}#sk-container-id-6 div.sk-toggleable__content {max-height: 0;max-width: 0;overflow: hidden;text-align: left;background-color: #f0f8ff;}#sk-container-id-6 div.sk-toggleable__content pre {margin: 0.2em;color: black;border-radius: 0.25em;background-color: #f0f8ff;}#sk-container-id-6 input.sk-toggleable__control:checked~div.sk-toggleable__content {max-height: 200px;max-width: 100%;overflow: auto;}#sk-container-id-6 input.sk-toggleable__control:checked~label.sk-toggleable__label-arrow:before {content: \"▾\";}#sk-container-id-6 div.sk-estimator input.sk-toggleable__control:checked~label.sk-toggleable__label {background-color: #d4ebff;}#sk-container-id-6 div.sk-label input.sk-toggleable__control:checked~label.sk-toggleable__label {background-color: #d4ebff;}#sk-container-id-6 input.sk-hidden--visually {border: 0;clip: rect(1px 1px 1px 1px);clip: rect(1px, 1px, 1px, 1px);height: 1px;margin: -1px;overflow: hidden;padding: 0;position: absolute;width: 1px;}#sk-container-id-6 div.sk-estimator {font-family: monospace;background-color: #f0f8ff;border: 1px dotted black;border-radius: 0.25em;box-sizing: border-box;margin-bottom: 0.5em;}#sk-container-id-6 div.sk-estimator:hover {background-color: #d4ebff;}#sk-container-id-6 div.sk-parallel-item::after {content: \"\";width: 100%;border-bottom: 1px solid gray;flex-grow: 1;}#sk-container-id-6 div.sk-label:hover label.sk-toggleable__label {background-color: #d4ebff;}#sk-container-id-6 div.sk-serial::before {content: \"\";position: absolute;border-left: 1px solid gray;box-sizing: border-box;top: 0;bottom: 0;left: 50%;z-index: 0;}#sk-container-id-6 div.sk-serial {display: flex;flex-direction: column;align-items: center;background-color: white;padding-right: 0.2em;padding-left: 0.2em;position: relative;}#sk-container-id-6 div.sk-item {position: relative;z-index: 1;}#sk-container-id-6 div.sk-parallel {display: flex;align-items: stretch;justify-content: center;background-color: white;position: relative;}#sk-container-id-6 div.sk-item::before, #sk-container-id-6 div.sk-parallel-item::before {content: \"\";position: absolute;border-left: 1px solid gray;box-sizing: border-box;top: 0;bottom: 0;left: 50%;z-index: -1;}#sk-container-id-6 div.sk-parallel-item {display: flex;flex-direction: column;z-index: 1;position: relative;background-color: white;}#sk-container-id-6 div.sk-parallel-item:first-child::after {align-self: flex-end;width: 50%;}#sk-container-id-6 div.sk-parallel-item:last-child::after {align-self: flex-start;width: 50%;}#sk-container-id-6 div.sk-parallel-item:only-child::after {width: 0;}#sk-container-id-6 div.sk-dashed-wrapped {border: 1px dashed gray;margin: 0 0.4em 0.5em 0.4em;box-sizing: border-box;padding-bottom: 0.4em;background-color: white;}#sk-container-id-6 div.sk-label label {font-family: monospace;font-weight: bold;display: inline-block;line-height: 1.2em;}#sk-container-id-6 div.sk-label-container {text-align: center;}#sk-container-id-6 div.sk-container {/* jupyter's `normalize.less` sets `[hidden] { display: none; }` but bootstrap.min.css set `[hidden] { display: none !important; }` so we also need the `!important` here to be able to override the default hidden behavior on the sphinx rendered scikit-learn.org. See: https://github.com/scikit-learn/scikit-learn/issues/21755 */display: inline-block !important;position: relative;}#sk-container-id-6 div.sk-text-repr-fallback {display: none;}</style><div id=\"sk-container-id-6\" class=\"sk-top-container\"><div class=\"sk-text-repr-fallback\"><pre>AdaBoostClassifier()</pre><b>In a Jupyter environment, please rerun this cell to show the HTML representation or trust the notebook. <br />On GitHub, the HTML representation is unable to render, please try loading this page with nbviewer.org.</b></div><div class=\"sk-container\" hidden><div class=\"sk-item\"><div class=\"sk-estimator sk-toggleable\"><input class=\"sk-toggleable__control sk-hidden--visually\" id=\"sk-estimator-id-6\" type=\"checkbox\" checked><label for=\"sk-estimator-id-6\" class=\"sk-toggleable__label sk-toggleable__label-arrow\">AdaBoostClassifier</label><div class=\"sk-toggleable__content\"><pre>AdaBoostClassifier()</pre></div></div></div></div></div>"
      ],
      "text/plain": [
       "AdaBoostClassifier()"
      ]
     },
     "execution_count": 143,
     "metadata": {},
     "output_type": "execute_result"
    }
   ],
   "source": [
    "model_ada.fit(X_train,y_train)"
   ]
  },
  {
   "cell_type": "code",
   "execution_count": 148,
   "id": "ff9972f5-944e-4148-96a2-20b2a73c1be8",
   "metadata": {},
   "outputs": [
    {
     "data": {
      "text/html": [
       "<style>#sk-container-id-7 {color: black;background-color: white;}#sk-container-id-7 pre{padding: 0;}#sk-container-id-7 div.sk-toggleable {background-color: white;}#sk-container-id-7 label.sk-toggleable__label {cursor: pointer;display: block;width: 100%;margin-bottom: 0;padding: 0.3em;box-sizing: border-box;text-align: center;}#sk-container-id-7 label.sk-toggleable__label-arrow:before {content: \"▸\";float: left;margin-right: 0.25em;color: #696969;}#sk-container-id-7 label.sk-toggleable__label-arrow:hover:before {color: black;}#sk-container-id-7 div.sk-estimator:hover label.sk-toggleable__label-arrow:before {color: black;}#sk-container-id-7 div.sk-toggleable__content {max-height: 0;max-width: 0;overflow: hidden;text-align: left;background-color: #f0f8ff;}#sk-container-id-7 div.sk-toggleable__content pre {margin: 0.2em;color: black;border-radius: 0.25em;background-color: #f0f8ff;}#sk-container-id-7 input.sk-toggleable__control:checked~div.sk-toggleable__content {max-height: 200px;max-width: 100%;overflow: auto;}#sk-container-id-7 input.sk-toggleable__control:checked~label.sk-toggleable__label-arrow:before {content: \"▾\";}#sk-container-id-7 div.sk-estimator input.sk-toggleable__control:checked~label.sk-toggleable__label {background-color: #d4ebff;}#sk-container-id-7 div.sk-label input.sk-toggleable__control:checked~label.sk-toggleable__label {background-color: #d4ebff;}#sk-container-id-7 input.sk-hidden--visually {border: 0;clip: rect(1px 1px 1px 1px);clip: rect(1px, 1px, 1px, 1px);height: 1px;margin: -1px;overflow: hidden;padding: 0;position: absolute;width: 1px;}#sk-container-id-7 div.sk-estimator {font-family: monospace;background-color: #f0f8ff;border: 1px dotted black;border-radius: 0.25em;box-sizing: border-box;margin-bottom: 0.5em;}#sk-container-id-7 div.sk-estimator:hover {background-color: #d4ebff;}#sk-container-id-7 div.sk-parallel-item::after {content: \"\";width: 100%;border-bottom: 1px solid gray;flex-grow: 1;}#sk-container-id-7 div.sk-label:hover label.sk-toggleable__label {background-color: #d4ebff;}#sk-container-id-7 div.sk-serial::before {content: \"\";position: absolute;border-left: 1px solid gray;box-sizing: border-box;top: 0;bottom: 0;left: 50%;z-index: 0;}#sk-container-id-7 div.sk-serial {display: flex;flex-direction: column;align-items: center;background-color: white;padding-right: 0.2em;padding-left: 0.2em;position: relative;}#sk-container-id-7 div.sk-item {position: relative;z-index: 1;}#sk-container-id-7 div.sk-parallel {display: flex;align-items: stretch;justify-content: center;background-color: white;position: relative;}#sk-container-id-7 div.sk-item::before, #sk-container-id-7 div.sk-parallel-item::before {content: \"\";position: absolute;border-left: 1px solid gray;box-sizing: border-box;top: 0;bottom: 0;left: 50%;z-index: -1;}#sk-container-id-7 div.sk-parallel-item {display: flex;flex-direction: column;z-index: 1;position: relative;background-color: white;}#sk-container-id-7 div.sk-parallel-item:first-child::after {align-self: flex-end;width: 50%;}#sk-container-id-7 div.sk-parallel-item:last-child::after {align-self: flex-start;width: 50%;}#sk-container-id-7 div.sk-parallel-item:only-child::after {width: 0;}#sk-container-id-7 div.sk-dashed-wrapped {border: 1px dashed gray;margin: 0 0.4em 0.5em 0.4em;box-sizing: border-box;padding-bottom: 0.4em;background-color: white;}#sk-container-id-7 div.sk-label label {font-family: monospace;font-weight: bold;display: inline-block;line-height: 1.2em;}#sk-container-id-7 div.sk-label-container {text-align: center;}#sk-container-id-7 div.sk-container {/* jupyter's `normalize.less` sets `[hidden] { display: none; }` but bootstrap.min.css set `[hidden] { display: none !important; }` so we also need the `!important` here to be able to override the default hidden behavior on the sphinx rendered scikit-learn.org. See: https://github.com/scikit-learn/scikit-learn/issues/21755 */display: inline-block !important;position: relative;}#sk-container-id-7 div.sk-text-repr-fallback {display: none;}</style><div id=\"sk-container-id-7\" class=\"sk-top-container\"><div class=\"sk-text-repr-fallback\"><pre>GradientBoostingClassifier()</pre><b>In a Jupyter environment, please rerun this cell to show the HTML representation or trust the notebook. <br />On GitHub, the HTML representation is unable to render, please try loading this page with nbviewer.org.</b></div><div class=\"sk-container\" hidden><div class=\"sk-item\"><div class=\"sk-estimator sk-toggleable\"><input class=\"sk-toggleable__control sk-hidden--visually\" id=\"sk-estimator-id-7\" type=\"checkbox\" checked><label for=\"sk-estimator-id-7\" class=\"sk-toggleable__label sk-toggleable__label-arrow\">GradientBoostingClassifier</label><div class=\"sk-toggleable__content\"><pre>GradientBoostingClassifier()</pre></div></div></div></div></div>"
      ],
      "text/plain": [
       "GradientBoostingClassifier()"
      ]
     },
     "execution_count": 148,
     "metadata": {},
     "output_type": "execute_result"
    }
   ],
   "source": [
    "model_gb.fit(X_train,y_train)"
   ]
  },
  {
   "cell_type": "code",
   "execution_count": 144,
   "id": "a28c011c-859c-4fab-8c89-9ea5b71d6fc9",
   "metadata": {},
   "outputs": [],
   "source": [
    "ada_pred = model_ada.predict(X_test)"
   ]
  },
  {
   "cell_type": "code",
   "execution_count": 145,
   "id": "11471b24-5b94-4653-9fd1-00f15c32c036",
   "metadata": {
    "collapsed": true,
    "jupyter": {
     "outputs_hidden": true
    },
    "tags": []
   },
   "outputs": [
    {
     "data": {
      "text/plain": [
       "array(['Yes', 'No', 'No', 'Yes', 'No', 'No', 'Yes', 'No', 'Yes', 'Yes',\n",
       "       'Yes', 'Yes', 'No', 'No', 'Yes', 'No', 'No', 'No', 'No', 'No',\n",
       "       'No', 'No', 'No', 'Yes', 'No', 'No', 'No', 'No', 'No', 'No', 'No',\n",
       "       'No', 'No', 'Yes', 'No', 'No', 'No', 'No', 'No', 'No', 'No', 'No',\n",
       "       'No', 'No', 'No', 'Yes', 'No', 'No', 'No', 'No', 'No', 'No', 'No',\n",
       "       'Yes', 'Yes', 'Yes', 'No', 'No', 'No', 'Yes', 'Yes', 'Yes', 'No',\n",
       "       'No', 'No', 'Yes', 'No', 'Yes', 'No', 'No', 'No', 'No', 'No',\n",
       "       'Yes', 'No', 'Yes', 'No', 'No', 'No', 'Yes', 'No', 'No', 'No',\n",
       "       'No', 'No', 'No', 'No', 'No', 'No', 'Yes', 'Yes', 'Yes', 'No',\n",
       "       'No', 'No', 'No', 'No', 'Yes', 'No', 'Yes', 'No', 'No', 'Yes',\n",
       "       'No', 'Yes', 'No', 'Yes', 'Yes', 'No', 'No', 'No', 'Yes', 'Yes',\n",
       "       'No', 'No', 'No', 'No', 'No', 'No', 'No', 'No', 'No', 'No', 'Yes',\n",
       "       'No', 'No', 'No', 'No', 'No', 'No', 'No', 'No', 'No', 'Yes', 'No',\n",
       "       'No', 'No', 'No', 'No', 'No', 'No', 'Yes', 'No', 'No', 'No', 'Yes',\n",
       "       'Yes', 'No', 'No', 'No', 'No', 'No', 'No', 'No', 'No', 'No', 'Yes',\n",
       "       'No', 'No', 'No', 'No', 'No', 'No', 'No', 'No', 'No', 'Yes', 'No',\n",
       "       'No', 'No', 'No', 'No', 'No', 'No', 'No', 'No', 'Yes', 'No', 'No',\n",
       "       'No', 'No', 'No', 'No', 'No', 'Yes', 'Yes', 'No', 'No', 'No', 'No',\n",
       "       'No', 'No', 'No', 'Yes', 'No', 'No', 'No', 'Yes', 'No', 'No', 'No',\n",
       "       'No', 'No', 'Yes', 'Yes', 'No', 'No', 'No', 'No', 'No', 'No',\n",
       "       'Yes', 'No', 'No', 'Yes', 'No', 'Yes', 'No', 'Yes', 'No', 'No',\n",
       "       'No', 'No', 'No', 'No', 'No', 'No', 'No', 'Yes', 'Yes', 'No',\n",
       "       'Yes', 'No', 'No', 'No', 'No', 'No', 'No', 'No', 'Yes', 'No', 'No',\n",
       "       'No', 'No', 'No', 'No', 'No', 'Yes', 'No', 'No', 'No', 'No', 'No',\n",
       "       'No', 'No', 'No', 'No', 'No', 'No', 'No', 'No', 'No', 'No', 'No',\n",
       "       'No', 'No', 'No', 'Yes', 'Yes', 'No', 'No', 'No', 'No', 'No',\n",
       "       'Yes', 'No', 'Yes', 'No', 'No', 'No', 'No', 'No', 'Yes', 'No',\n",
       "       'Yes', 'Yes', 'No', 'Yes', 'No', 'No', 'No', 'No', 'No', 'No',\n",
       "       'No', 'No', 'No', 'No', 'No', 'No', 'Yes', 'No', 'No', 'No', 'No',\n",
       "       'No', 'No', 'No', 'Yes', 'No', 'No', 'Yes', 'No', 'No', 'Yes',\n",
       "       'No', 'No', 'No', 'Yes', 'No', 'No', 'Yes', 'No', 'No', 'No', 'No',\n",
       "       'Yes', 'No', 'No', 'No', 'No', 'No', 'No', 'No', 'No', 'No', 'Yes',\n",
       "       'No', 'No', 'No', 'No', 'Yes', 'No', 'No', 'Yes', 'No', 'Yes',\n",
       "       'No', 'No', 'No', 'No', 'No', 'No', 'No', 'No', 'No', 'No', 'Yes',\n",
       "       'Yes', 'No', 'No', 'No', 'No', 'No', 'No', 'No', 'Yes', 'No', 'No',\n",
       "       'Yes', 'No', 'No', 'No', 'Yes', 'No', 'No', 'No', 'No', 'No', 'No',\n",
       "       'No', 'No', 'No', 'No', 'No', 'No', 'No', 'No', 'No', 'No', 'No',\n",
       "       'Yes', 'Yes', 'Yes', 'No', 'Yes', 'No', 'No', 'Yes', 'No', 'Yes',\n",
       "       'No', 'No', 'No', 'No', 'No', 'No', 'No', 'No', 'No', 'Yes', 'Yes',\n",
       "       'No', 'No', 'Yes', 'No', 'No', 'Yes', 'No', 'No', 'No', 'No',\n",
       "       'Yes', 'No', 'Yes', 'No', 'No', 'Yes', 'No', 'No', 'No', 'No',\n",
       "       'No', 'No', 'No', 'No', 'Yes', 'No', 'No', 'No', 'No', 'Yes', 'No',\n",
       "       'No', 'Yes', 'No', 'No', 'No', 'No', 'No', 'No', 'No', 'No', 'No',\n",
       "       'No', 'No', 'Yes', 'Yes', 'No', 'No', 'No', 'No', 'No', 'Yes',\n",
       "       'Yes', 'No', 'No', 'No', 'No', 'No', 'No', 'No', 'No', 'Yes', 'No',\n",
       "       'No', 'No', 'No', 'No', 'Yes', 'No', 'No', 'No', 'No', 'No', 'No',\n",
       "       'No', 'No', 'No', 'Yes', 'No', 'No', 'No', 'No', 'Yes', 'No', 'No',\n",
       "       'Yes', 'No', 'No', 'No', 'Yes', 'No', 'No', 'Yes', 'No', 'No',\n",
       "       'No', 'Yes', 'No', 'No', 'No', 'No', 'No', 'No', 'No', 'No', 'No',\n",
       "       'No', 'No', 'Yes', 'No', 'No', 'No', 'Yes', 'No', 'No', 'No', 'No',\n",
       "       'No', 'No', 'No', 'Yes', 'No', 'No', 'No', 'No', 'No', 'No', 'No',\n",
       "       'No', 'No', 'No', 'No', 'Yes', 'No', 'No', 'No', 'No', 'Yes', 'No',\n",
       "       'No', 'No', 'No', 'No', 'No', 'Yes', 'No', 'No', 'No', 'No', 'No',\n",
       "       'No', 'No', 'Yes', 'No', 'No', 'No', 'No', 'Yes', 'No', 'No', 'No',\n",
       "       'No', 'No', 'No', 'No', 'No', 'No', 'No', 'No', 'No', 'No', 'No',\n",
       "       'No', 'Yes', 'No', 'No', 'No', 'No', 'No', 'No', 'Yes', 'No', 'No',\n",
       "       'No', 'No', 'Yes', 'Yes', 'Yes', 'Yes', 'No', 'No', 'No', 'No',\n",
       "       'Yes', 'No', 'No', 'No', 'No', 'No', 'No', 'No', 'No', 'No', 'No',\n",
       "       'No', 'No', 'No', 'No', 'No', 'No', 'No', 'No', 'No', 'No', 'No',\n",
       "       'No', 'No', 'No', 'No', 'No', 'No', 'No', 'Yes', 'No', 'No', 'No',\n",
       "       'Yes', 'No', 'No', 'No', 'No', 'No', 'No', 'No', 'No', 'No', 'No',\n",
       "       'No', 'No', 'No', 'No', 'Yes', 'No', 'No', 'No', 'No', 'No', 'No',\n",
       "       'No', 'No', 'No', 'No', 'Yes', 'No', 'Yes', 'No', 'No', 'No', 'No',\n",
       "       'No', 'No', 'No', 'No', 'Yes', 'No', 'No', 'No', 'No', 'Yes', 'No',\n",
       "       'Yes', 'No', 'No', 'No', 'No', 'No', 'No', 'No', 'No', 'Yes', 'No',\n",
       "       'No', 'Yes', 'No', 'No', 'No', 'No', 'No', 'No', 'No', 'No', 'No'],\n",
       "      dtype=object)"
      ]
     },
     "execution_count": 145,
     "metadata": {},
     "output_type": "execute_result"
    }
   ],
   "source": [
    "ada_pred"
   ]
  },
  {
   "cell_type": "code",
   "execution_count": 149,
   "id": "8107914c-29dc-4f99-9a63-dcfbdeae8241",
   "metadata": {},
   "outputs": [],
   "source": [
    "gb_pred = model_gb.predict(X_test)"
   ]
  },
  {
   "cell_type": "code",
   "execution_count": 150,
   "id": "0927cf9b-e233-4d37-b050-276779db08de",
   "metadata": {
    "collapsed": true,
    "jupyter": {
     "outputs_hidden": true
    },
    "tags": []
   },
   "outputs": [
    {
     "data": {
      "text/plain": [
       "array(['Yes', 'No', 'No', 'Yes', 'No', 'No', 'No', 'No', 'Yes', 'Yes',\n",
       "       'Yes', 'Yes', 'No', 'No', 'Yes', 'No', 'No', 'No', 'No', 'No',\n",
       "       'No', 'No', 'No', 'Yes', 'No', 'No', 'No', 'No', 'No', 'Yes', 'No',\n",
       "       'No', 'No', 'Yes', 'No', 'No', 'No', 'No', 'No', 'No', 'No', 'No',\n",
       "       'No', 'No', 'No', 'No', 'No', 'No', 'No', 'No', 'No', 'No', 'No',\n",
       "       'Yes', 'Yes', 'Yes', 'No', 'No', 'No', 'Yes', 'No', 'Yes', 'No',\n",
       "       'No', 'No', 'Yes', 'No', 'Yes', 'No', 'No', 'No', 'No', 'No',\n",
       "       'Yes', 'No', 'Yes', 'No', 'No', 'No', 'Yes', 'No', 'No', 'No',\n",
       "       'No', 'No', 'No', 'No', 'No', 'No', 'Yes', 'Yes', 'Yes', 'No',\n",
       "       'No', 'No', 'No', 'No', 'Yes', 'No', 'Yes', 'No', 'No', 'Yes',\n",
       "       'No', 'Yes', 'No', 'Yes', 'Yes', 'No', 'No', 'No', 'Yes', 'Yes',\n",
       "       'No', 'No', 'No', 'No', 'No', 'Yes', 'No', 'No', 'No', 'No', 'Yes',\n",
       "       'No', 'No', 'No', 'No', 'No', 'No', 'No', 'No', 'No', 'Yes', 'No',\n",
       "       'No', 'No', 'Yes', 'No', 'No', 'No', 'Yes', 'No', 'No', 'No',\n",
       "       'Yes', 'No', 'No', 'No', 'No', 'No', 'No', 'No', 'No', 'No', 'No',\n",
       "       'No', 'No', 'No', 'No', 'No', 'No', 'No', 'No', 'No', 'No', 'Yes',\n",
       "       'No', 'No', 'No', 'No', 'No', 'No', 'No', 'No', 'No', 'Yes', 'No',\n",
       "       'No', 'No', 'No', 'No', 'No', 'No', 'Yes', 'No', 'No', 'No', 'No',\n",
       "       'No', 'No', 'No', 'No', 'Yes', 'No', 'No', 'No', 'No', 'No', 'No',\n",
       "       'No', 'No', 'No', 'Yes', 'Yes', 'No', 'No', 'No', 'No', 'No', 'No',\n",
       "       'No', 'No', 'No', 'Yes', 'No', 'Yes', 'No', 'Yes', 'No', 'No',\n",
       "       'No', 'No', 'No', 'No', 'No', 'No', 'No', 'Yes', 'Yes', 'No',\n",
       "       'Yes', 'No', 'No', 'No', 'No', 'No', 'No', 'No', 'Yes', 'No', 'No',\n",
       "       'No', 'No', 'No', 'No', 'No', 'Yes', 'No', 'No', 'No', 'No', 'No',\n",
       "       'No', 'No', 'No', 'No', 'No', 'No', 'No', 'No', 'No', 'No', 'No',\n",
       "       'No', 'No', 'No', 'Yes', 'No', 'No', 'No', 'No', 'No', 'No', 'No',\n",
       "       'No', 'Yes', 'No', 'No', 'No', 'No', 'No', 'No', 'No', 'Yes',\n",
       "       'Yes', 'No', 'Yes', 'No', 'No', 'No', 'No', 'No', 'Yes', 'No',\n",
       "       'No', 'No', 'No', 'No', 'No', 'Yes', 'No', 'No', 'No', 'No', 'No',\n",
       "       'No', 'No', 'No', 'No', 'Yes', 'Yes', 'No', 'No', 'Yes', 'No',\n",
       "       'No', 'No', 'Yes', 'No', 'No', 'Yes', 'No', 'No', 'No', 'No', 'No',\n",
       "       'No', 'No', 'No', 'No', 'No', 'No', 'No', 'No', 'No', 'Yes', 'No',\n",
       "       'No', 'No', 'No', 'Yes', 'No', 'No', 'Yes', 'No', 'Yes', 'No',\n",
       "       'No', 'No', 'No', 'No', 'No', 'No', 'No', 'No', 'No', 'Yes', 'Yes',\n",
       "       'No', 'No', 'No', 'No', 'No', 'No', 'No', 'Yes', 'No', 'No', 'Yes',\n",
       "       'No', 'No', 'No', 'Yes', 'No', 'No', 'No', 'No', 'No', 'No', 'No',\n",
       "       'No', 'No', 'No', 'No', 'No', 'No', 'No', 'No', 'No', 'No', 'Yes',\n",
       "       'Yes', 'Yes', 'No', 'Yes', 'No', 'No', 'Yes', 'No', 'Yes', 'No',\n",
       "       'Yes', 'No', 'No', 'Yes', 'No', 'No', 'No', 'No', 'Yes', 'Yes',\n",
       "       'No', 'No', 'Yes', 'No', 'No', 'Yes', 'No', 'No', 'No', 'Yes',\n",
       "       'Yes', 'No', 'Yes', 'No', 'No', 'No', 'Yes', 'No', 'No', 'No',\n",
       "       'No', 'No', 'No', 'No', 'Yes', 'No', 'No', 'No', 'No', 'Yes', 'No',\n",
       "       'No', 'No', 'No', 'No', 'No', 'No', 'No', 'No', 'No', 'No', 'No',\n",
       "       'No', 'No', 'Yes', 'Yes', 'No', 'No', 'No', 'No', 'No', 'Yes',\n",
       "       'Yes', 'No', 'No', 'No', 'No', 'No', 'No', 'No', 'No', 'Yes', 'No',\n",
       "       'No', 'No', 'No', 'No', 'Yes', 'No', 'No', 'No', 'No', 'No', 'No',\n",
       "       'No', 'No', 'No', 'No', 'No', 'No', 'No', 'No', 'Yes', 'No', 'No',\n",
       "       'No', 'No', 'No', 'No', 'Yes', 'No', 'No', 'Yes', 'No', 'No', 'No',\n",
       "       'No', 'No', 'No', 'No', 'No', 'No', 'No', 'No', 'No', 'No', 'No',\n",
       "       'No', 'Yes', 'No', 'No', 'No', 'Yes', 'No', 'No', 'No', 'No', 'No',\n",
       "       'No', 'No', 'Yes', 'No', 'No', 'No', 'No', 'No', 'No', 'Yes', 'No',\n",
       "       'No', 'No', 'No', 'Yes', 'No', 'No', 'No', 'No', 'Yes', 'No', 'No',\n",
       "       'Yes', 'No', 'No', 'No', 'No', 'No', 'No', 'No', 'No', 'No', 'Yes',\n",
       "       'No', 'Yes', 'Yes', 'No', 'No', 'No', 'Yes', 'No', 'No', 'No',\n",
       "       'No', 'No', 'No', 'No', 'No', 'No', 'No', 'No', 'No', 'No', 'No',\n",
       "       'No', 'No', 'No', 'No', 'No', 'No', 'No', 'No', 'Yes', 'No', 'No',\n",
       "       'No', 'No', 'No', 'Yes', 'Yes', 'Yes', 'No', 'No', 'No', 'No',\n",
       "       'No', 'No', 'No', 'Yes', 'No', 'No', 'No', 'No', 'No', 'No', 'No',\n",
       "       'No', 'No', 'No', 'No', 'No', 'No', 'No', 'No', 'No', 'No', 'No',\n",
       "       'No', 'No', 'No', 'No', 'No', 'No', 'No', 'Yes', 'No', 'No', 'No',\n",
       "       'Yes', 'No', 'No', 'No', 'No', 'No', 'No', 'No', 'No', 'No', 'No',\n",
       "       'No', 'No', 'No', 'No', 'Yes', 'No', 'No', 'No', 'No', 'No', 'No',\n",
       "       'No', 'Yes', 'No', 'No', 'Yes', 'No', 'Yes', 'No', 'No', 'No',\n",
       "       'No', 'No', 'No', 'No', 'No', 'Yes', 'No', 'No', 'No', 'No', 'Yes',\n",
       "       'No', 'Yes', 'No', 'No', 'No', 'No', 'No', 'No', 'No', 'No', 'Yes',\n",
       "       'No', 'Yes', 'Yes', 'No', 'No', 'No', 'No', 'No', 'No', 'No', 'No',\n",
       "       'No'], dtype=object)"
      ]
     },
     "execution_count": 150,
     "metadata": {},
     "output_type": "execute_result"
    }
   ],
   "source": [
    "gb_pred"
   ]
  },
  {
   "cell_type": "code",
   "execution_count": 146,
   "id": "7d40c498-ff74-4755-805c-9e69ababb976",
   "metadata": {},
   "outputs": [],
   "source": [
    "ada_cr = classification_report(y_test, ada_pred)"
   ]
  },
  {
   "cell_type": "code",
   "execution_count": 151,
   "id": "7bc1331f-d3ba-4830-a98e-025b45f30164",
   "metadata": {},
   "outputs": [],
   "source": [
    "gb_cr = classification_report(y_test, gb_pred)"
   ]
  },
  {
   "cell_type": "code",
   "execution_count": 153,
   "id": "8161e46f-2099-42ce-8104-6f87c23f8451",
   "metadata": {},
   "outputs": [
    {
     "name": "stdout",
     "output_type": "stream",
     "text": [
      "              precision    recall  f1-score   support\n",
      "\n",
      "          No       0.88      0.90      0.89       557\n",
      "         Yes       0.60      0.54      0.57       147\n",
      "\n",
      "    accuracy                           0.83       704\n",
      "   macro avg       0.74      0.72      0.73       704\n",
      "weighted avg       0.82      0.83      0.83       704\n",
      "\n"
     ]
    }
   ],
   "source": [
    "print(ada_cr)"
   ]
  },
  {
   "cell_type": "code",
   "execution_count": 152,
   "id": "370b57cf-848b-40a4-9141-e32ecd63e9f1",
   "metadata": {},
   "outputs": [
    {
     "name": "stdout",
     "output_type": "stream",
     "text": [
      "              precision    recall  f1-score   support\n",
      "\n",
      "          No       0.87      0.90      0.89       557\n",
      "         Yes       0.57      0.50      0.53       147\n",
      "\n",
      "    accuracy                           0.82       704\n",
      "   macro avg       0.72      0.70      0.71       704\n",
      "weighted avg       0.81      0.82      0.81       704\n",
      "\n"
     ]
    }
   ],
   "source": [
    "print(gb_cr)"
   ]
  },
  {
   "cell_type": "code",
   "execution_count": 154,
   "id": "57dcb322-d4d0-4c39-b0da-2d7b65a48ca9",
   "metadata": {},
   "outputs": [
    {
     "name": "stderr",
     "output_type": "stream",
     "text": [
      "C:\\Users\\240G_up\\AppData\\Local\\Programs\\Python\\Python310\\lib\\site-packages\\sklearn\\utils\\deprecation.py:87: FutureWarning: Function plot_confusion_matrix is deprecated; Function `plot_confusion_matrix` is deprecated in 1.0 and will be removed in 1.2. Use one of the class methods: ConfusionMatrixDisplay.from_predictions or ConfusionMatrixDisplay.from_estimator.\n",
      "  warnings.warn(msg, category=FutureWarning)\n"
     ]
    },
    {
     "data": {
      "text/plain": [
       "<sklearn.metrics._plot.confusion_matrix.ConfusionMatrixDisplay at 0x200f08fbeb0>"
      ]
     },
     "execution_count": 154,
     "metadata": {},
     "output_type": "execute_result"
    },
    {
     "data": {
      "image/png": "[encoded data removed]",
      "text/plain": [
       "<Figure size 432x288 with 2 Axes>"
      ]
     },
     "metadata": {
      "needs_background": "light"
     },
     "output_type": "display_data"
    }
   ],
   "source": [
    "plot_confusion_matrix(model_ada,X_test,y_test)"
   ]
  },
  {
   "cell_type": "code",
   "execution_count": 157,
   "id": "e8e60189-6e83-4911-a1d2-f6ce28c1955f",
   "metadata": {},
   "outputs": [
    {
     "name": "stderr",
     "output_type": "stream",
     "text": [
      "C:\\Users\\240G_up\\AppData\\Local\\Programs\\Python\\Python310\\lib\\site-packages\\sklearn\\utils\\deprecation.py:87: FutureWarning: Function plot_confusion_matrix is deprecated; Function `plot_confusion_matrix` is deprecated in 1.0 and will be removed in 1.2. Use one of the class methods: ConfusionMatrixDisplay.from_predictions or ConfusionMatrixDisplay.from_estimator.\n",
      "  warnings.warn(msg, category=FutureWarning)\n"
     ]
    },
    {
     "data": {
      "text/plain": [
       "<sklearn.metrics._plot.confusion_matrix.ConfusionMatrixDisplay at 0x200f08fb910>"
      ]
     },
     "execution_count": 157,
     "metadata": {},
     "output_type": "execute_result"
    },
    {
     "data": {
      "image/png": "[encoded data removed]",
      "text/plain": [
       "<Figure size 432x288 with 2 Axes>"
      ]
     },
     "metadata": {
      "needs_background": "light"
     },
     "output_type": "display_data"
    }
   ],
   "source": [
    "plot_confusion_matrix(model_gb, X_test,y_test)"
   ]
  },
  {
   "cell_type": "markdown",
   "id": "9b6de30c-b73a-4f9c-a496-b23cab420c11",
   "metadata": {},
   "source": [
    "# Conclusion"
   ]
  },
  {
   "cell_type": "markdown",
   "id": "83227236-7491-45d6-ac86-6d3e1ab6a846",
   "metadata": {},
   "source": [
    "# With base models, we got best performance from an AdaBoostClassifier, but note, we didn't do any gridsearching AND most models performed about the same on the data set."
   ]
  },
  {
   "cell_type": "code",
   "execution_count": null,
   "id": "eb4512ce-b501-4e0b-8488-311b226650dd",
   "metadata": {},
   "outputs": [],
   "source": []
  }
 ],
 "metadata": {
  "kernelspec": {
   "display_name": "Python 3 (ipykernel)",
   "language": "python",
   "name": "python3"
  },
  "language_info": {
   "codemirror_mode": {
    "name": "ipython",
    "version": 3
   },
   "file_extension": ".py",
   "mimetype": "text/x-python",
   "name": "python",
   "nbconvert_exporter": "python",
   "pygments_lexer": "ipython3",
   "version": "3.10.5"
  }
 },
 "nbformat": 4,
 "nbformat_minor": 5
}
